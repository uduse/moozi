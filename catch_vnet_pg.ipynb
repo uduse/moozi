{
 "cells": [
  {
   "cell_type": "code",
   "execution_count": 1,
   "id": "b8746ef3",
   "metadata": {
    "ExecuteTime": {
     "end_time": "2021-05-29T02:53:42.075114Z",
     "start_time": "2021-05-29T02:53:39.018868Z"
    }
   },
   "outputs": [],
   "source": [
    "import random\n",
    "import copy\n",
    "from collections import namedtuple\n",
    "from dataclasses import dataclass\n",
    "import datetime\n",
    "import typing\n",
    "import functools\n",
    "from pprint import pprint\n",
    "\n",
    "import jax\n",
    "import jax.numpy as jnp\n",
    "from jax import grad, value_and_grad, jit, vmap\n",
    "from jax.experimental import optimizers\n",
    "from jax.experimental import stax\n",
    "import optax\n",
    "import haiku as hk\n",
    "from jax.tree_util import tree_flatten\n",
    "\n",
    "import pyspiel\n",
    "import open_spiel\n",
    "import dm_env\n",
    "import acme\n",
    "import acme.wrappers\n",
    "import acme.jax.utils\n",
    "import acme.jax.variable_utils\n",
    "from acme.agents import agent as acme_agent\n",
    "from acme.agents import replay as acme_replay\n",
    "from acme.environment_loops.open_spiel_environment_loop import OpenSpielEnvironmentLoop\n",
    "from acme.wrappers.open_spiel_wrapper import OpenSpielWrapper\n",
    "\n",
    "from tqdm.notebook import tqdm\n",
    "import numpy as np\n",
    "import trueskill\n",
    "\n",
    "import moozi as mz"
   ]
  },
  {
   "cell_type": "code",
   "execution_count": 2,
   "id": "e47cc11f",
   "metadata": {
    "ExecuteTime": {
     "end_time": "2021-05-29T02:53:43.406784Z",
     "start_time": "2021-05-29T02:53:42.077421Z"
    }
   },
   "outputs": [],
   "source": [
    "seed = 0\n",
    "key = jax.random.PRNGKey(seed)"
   ]
  },
  {
   "cell_type": "code",
   "execution_count": 3,
   "id": "6ac9a549",
   "metadata": {
    "ExecuteTime": {
     "end_time": "2021-05-29T02:53:43.427603Z",
     "start_time": "2021-05-29T02:53:43.415805Z"
    }
   },
   "outputs": [
    {
     "name": "stdout",
     "output_type": "stream",
     "text": [
      "EnvironmentSpec(observations=OLT(observation=Array(shape=(35,), dtype=dtype('float32'), name=None), legal_actions=Array(shape=(3,), dtype=dtype('float32'), name=None), terminal=Array(shape=(1,), dtype=dtype('float32'), name=None)), actions=DiscreteArray(shape=(), dtype=int32, name=None, minimum=0, maximum=2, num_values=3), rewards=BoundedArray(shape=(), dtype=dtype('float32'), name=None, minimum=-1.0, maximum=1.0), discounts=BoundedArray(shape=(), dtype=dtype('float32'), name=None, minimum=0.0, maximum=1.0))\n"
     ]
    }
   ],
   "source": [
    "raw_env = open_spiel.python.rl_environment.Environment('catch(columns=7,rows=5)')\n",
    "env = acme.wrappers.open_spiel_wrapper.OpenSpielWrapper(raw_env)\n",
    "env = acme.wrappers.SinglePrecisionWrapper(env)\n",
    "env_spec = acme.specs.make_environment_spec(env)\n",
    "max_game_length = env.environment.environment.game.max_game_length()\n",
    "dim_action = env_spec.actions.num_values\n",
    "dim_image = env_spec.observations.observation.shape\n",
    "dim_repr = 3\n",
    "print(env_spec)\n",
    "# mz.utils.print_traj_in_env(env)"
   ]
  },
  {
   "cell_type": "code",
   "execution_count": 4,
   "id": "b9fa9ea8",
   "metadata": {
    "ExecuteTime": {
     "end_time": "2021-05-29T02:53:44.277308Z",
     "start_time": "2021-05-29T02:53:44.260888Z"
    }
   },
   "outputs": [
    {
     "data": {
      "text/plain": [
       "3"
      ]
     },
     "execution_count": 4,
     "metadata": {},
     "output_type": "execute_result"
    }
   ],
   "source": [
    "env_spec.actions.num_values"
   ]
  },
  {
   "cell_type": "code",
   "execution_count": 5,
   "id": "27bb116e",
   "metadata": {
    "ExecuteTime": {
     "end_time": "2021-05-29T02:53:44.896805Z",
     "start_time": "2021-05-29T02:53:44.888369Z"
    }
   },
   "outputs": [
    {
     "name": "stdout",
     "output_type": "stream",
     "text": [
      "NeuralNetworkSpec(dim_image=(35,), dim_repr=3, dim_action=3, repr_net_sizes=(16, 16), pred_net_sizes=(16, 16), dyna_net_sizes=(16, 16))\n"
     ]
    }
   ],
   "source": [
    "nn_spec = mz.nn.NeuralNetworkSpec(\n",
    "    dim_image=dim_image,\n",
    "    dim_repr=dim_repr,\n",
    "    dim_action=dim_action\n",
    ")\n",
    "print(nn_spec)\n",
    "network = mz.nn.get_network(nn_spec)\n",
    "learning_rate = 1e-4\n",
    "optimizer = optax.adam(learning_rate)"
   ]
  },
  {
   "cell_type": "code",
   "execution_count": 6,
   "id": "f6342ced",
   "metadata": {
    "ExecuteTime": {
     "end_time": "2021-05-29T02:53:48.440167Z",
     "start_time": "2021-05-29T02:53:45.414379Z"
    }
   },
   "outputs": [],
   "source": [
    "batch_size = 16\n",
    "n_steps=5\n",
    "reverb_replay = acme_replay.make_reverb_prioritized_nstep_replay(\n",
    "    env_spec, batch_size=batch_size, n_step=n_steps)"
   ]
  },
  {
   "cell_type": "code",
   "execution_count": 7,
   "id": "00fca5b8",
   "metadata": {
    "ExecuteTime": {
     "end_time": "2021-05-29T02:53:52.533731Z",
     "start_time": "2021-05-29T02:53:48.442693Z"
    }
   },
   "outputs": [],
   "source": [
    "learner = mz.learner.MooZiLearner(\n",
    "    network=network,\n",
    "    loss_fn=mz.loss.initial_inference_value_loss,\n",
    "    optimizer=optimizer,\n",
    "    data_iterator=reverb_replay.data_iterator,\n",
    "    random_key=jax.random.PRNGKey(996),\n",
    ")"
   ]
  },
  {
   "cell_type": "code",
   "execution_count": 8,
   "id": "dd19167a",
   "metadata": {
    "ExecuteTime": {
     "end_time": "2021-05-29T02:53:52.546742Z",
     "start_time": "2021-05-29T02:53:52.539146Z"
    }
   },
   "outputs": [],
   "source": [
    "key, new_key = jax.random.split(key)\n",
    "variable_client = acme.jax.variable_utils.VariableClient(learner, None)"
   ]
  },
  {
   "cell_type": "code",
   "execution_count": 10,
   "id": "2067d21f",
   "metadata": {
    "ExecuteTime": {
     "end_time": "2021-05-29T02:54:02.812461Z",
     "start_time": "2021-05-29T02:54:02.804933Z"
    }
   },
   "outputs": [],
   "source": [
    "key, new_key = jax.random.split(key)\n",
    "actor = mz.actor.PriorPolicyActor(\n",
    "    environment_spec=env_spec,\n",
    "    network=network,\n",
    "    adder=reverb_replay.adder,\n",
    "    variable_client=variable_client,\n",
    "    random_key=new_key,\n",
    "    epsilon=0.1,\n",
    "    temperature=1\n",
    ")"
   ]
  },
  {
   "cell_type": "code",
   "execution_count": 11,
   "id": "1769e306",
   "metadata": {
    "ExecuteTime": {
     "end_time": "2021-05-29T02:54:05.424995Z",
     "start_time": "2021-05-29T02:54:05.419654Z"
    }
   },
   "outputs": [],
   "source": [
    "agent = acme_agent.Agent(\n",
    "    actor=actor,\n",
    "    learner=learner,\n",
    "    min_observations=100,\n",
    "    observations_per_step=1\n",
    ")"
   ]
  },
  {
   "cell_type": "code",
   "execution_count": 12,
   "id": "c4250ff7",
   "metadata": {
    "ExecuteTime": {
     "end_time": "2021-05-29T02:54:21.023945Z",
     "start_time": "2021-05-29T02:54:20.935036Z"
    },
    "scrolled": false
   },
   "outputs": [
    {
     "ename": "AssertionError",
     "evalue": "",
     "output_type": "error",
     "traceback": [
      "\u001b[0;31m---------------------------------------------------------------------------\u001b[0m",
      "\u001b[0;31mValueError\u001b[0m                                Traceback (most recent call last)",
      "\u001b[0;32m/usr/local/lib/python3.8/dist-packages/jax/api_util.py\u001b[0m in \u001b[0;36mflatten_axes\u001b[0;34m(name, treedef, axis_tree, kws)\u001b[0m\n\u001b[1;32m    248\u001b[0m   \u001b[0;32mtry\u001b[0m\u001b[0;34m:\u001b[0m\u001b[0;34m\u001b[0m\u001b[0;34m\u001b[0m\u001b[0m\n\u001b[0;32m--> 249\u001b[0;31m     \u001b[0mtree_multimap\u001b[0m\u001b[0;34m(\u001b[0m\u001b[0madd_leaves\u001b[0m\u001b[0;34m,\u001b[0m \u001b[0m_replace_nones\u001b[0m\u001b[0;34m(\u001b[0m\u001b[0mproxy\u001b[0m\u001b[0;34m,\u001b[0m \u001b[0maxis_tree\u001b[0m\u001b[0;34m)\u001b[0m\u001b[0;34m,\u001b[0m \u001b[0mdummy\u001b[0m\u001b[0;34m)\u001b[0m\u001b[0;34m\u001b[0m\u001b[0;34m\u001b[0m\u001b[0m\n\u001b[0m\u001b[1;32m    250\u001b[0m   \u001b[0;32mexcept\u001b[0m \u001b[0mValueError\u001b[0m\u001b[0;34m:\u001b[0m\u001b[0;34m\u001b[0m\u001b[0;34m\u001b[0m\u001b[0m\n",
      "\u001b[0;32m/usr/local/lib/python3.8/dist-packages/jax/_src/tree_util.py\u001b[0m in \u001b[0;36mtree_map\u001b[0;34m(f, tree, is_leaf, *rest)\u001b[0m\n\u001b[1;32m    166\u001b[0m   \u001b[0mleaves\u001b[0m\u001b[0;34m,\u001b[0m \u001b[0mtreedef\u001b[0m \u001b[0;34m=\u001b[0m \u001b[0mtree_flatten\u001b[0m\u001b[0;34m(\u001b[0m\u001b[0mtree\u001b[0m\u001b[0;34m,\u001b[0m \u001b[0mis_leaf\u001b[0m\u001b[0;34m)\u001b[0m\u001b[0;34m\u001b[0m\u001b[0;34m\u001b[0m\u001b[0m\n\u001b[0;32m--> 167\u001b[0;31m   \u001b[0mall_leaves\u001b[0m \u001b[0;34m=\u001b[0m \u001b[0;34m[\u001b[0m\u001b[0mleaves\u001b[0m\u001b[0;34m]\u001b[0m \u001b[0;34m+\u001b[0m \u001b[0;34m[\u001b[0m\u001b[0mtreedef\u001b[0m\u001b[0;34m.\u001b[0m\u001b[0mflatten_up_to\u001b[0m\u001b[0;34m(\u001b[0m\u001b[0mr\u001b[0m\u001b[0;34m)\u001b[0m \u001b[0;32mfor\u001b[0m \u001b[0mr\u001b[0m \u001b[0;32min\u001b[0m \u001b[0mrest\u001b[0m\u001b[0;34m]\u001b[0m\u001b[0;34m\u001b[0m\u001b[0;34m\u001b[0m\u001b[0m\n\u001b[0m\u001b[1;32m    168\u001b[0m   \u001b[0;32mreturn\u001b[0m \u001b[0mtreedef\u001b[0m\u001b[0;34m.\u001b[0m\u001b[0munflatten\u001b[0m\u001b[0;34m(\u001b[0m\u001b[0mf\u001b[0m\u001b[0;34m(\u001b[0m\u001b[0;34m*\u001b[0m\u001b[0mxs\u001b[0m\u001b[0;34m)\u001b[0m \u001b[0;32mfor\u001b[0m \u001b[0mxs\u001b[0m \u001b[0;32min\u001b[0m \u001b[0mzip\u001b[0m\u001b[0;34m(\u001b[0m\u001b[0;34m*\u001b[0m\u001b[0mall_leaves\u001b[0m\u001b[0;34m)\u001b[0m\u001b[0;34m)\u001b[0m\u001b[0;34m\u001b[0m\u001b[0;34m\u001b[0m\u001b[0m\n",
      "\u001b[0;32m/usr/local/lib/python3.8/dist-packages/jax/_src/tree_util.py\u001b[0m in \u001b[0;36m<listcomp>\u001b[0;34m(.0)\u001b[0m\n\u001b[1;32m    166\u001b[0m   \u001b[0mleaves\u001b[0m\u001b[0;34m,\u001b[0m \u001b[0mtreedef\u001b[0m \u001b[0;34m=\u001b[0m \u001b[0mtree_flatten\u001b[0m\u001b[0;34m(\u001b[0m\u001b[0mtree\u001b[0m\u001b[0;34m,\u001b[0m \u001b[0mis_leaf\u001b[0m\u001b[0;34m)\u001b[0m\u001b[0;34m\u001b[0m\u001b[0;34m\u001b[0m\u001b[0m\n\u001b[0;32m--> 167\u001b[0;31m   \u001b[0mall_leaves\u001b[0m \u001b[0;34m=\u001b[0m \u001b[0;34m[\u001b[0m\u001b[0mleaves\u001b[0m\u001b[0;34m]\u001b[0m \u001b[0;34m+\u001b[0m \u001b[0;34m[\u001b[0m\u001b[0mtreedef\u001b[0m\u001b[0;34m.\u001b[0m\u001b[0mflatten_up_to\u001b[0m\u001b[0;34m(\u001b[0m\u001b[0mr\u001b[0m\u001b[0;34m)\u001b[0m \u001b[0;32mfor\u001b[0m \u001b[0mr\u001b[0m \u001b[0;32min\u001b[0m \u001b[0mrest\u001b[0m\u001b[0;34m]\u001b[0m\u001b[0;34m\u001b[0m\u001b[0;34m\u001b[0m\u001b[0m\n\u001b[0m\u001b[1;32m    168\u001b[0m   \u001b[0;32mreturn\u001b[0m \u001b[0mtreedef\u001b[0m\u001b[0;34m.\u001b[0m\u001b[0munflatten\u001b[0m\u001b[0;34m(\u001b[0m\u001b[0mf\u001b[0m\u001b[0;34m(\u001b[0m\u001b[0;34m*\u001b[0m\u001b[0mxs\u001b[0m\u001b[0;34m)\u001b[0m \u001b[0;32mfor\u001b[0m \u001b[0mxs\u001b[0m \u001b[0;32min\u001b[0m \u001b[0mzip\u001b[0m\u001b[0;34m(\u001b[0m\u001b[0;34m*\u001b[0m\u001b[0mall_leaves\u001b[0m\u001b[0;34m)\u001b[0m\u001b[0;34m)\u001b[0m\u001b[0;34m\u001b[0m\u001b[0;34m\u001b[0m\u001b[0m\n",
      "\u001b[0;31mValueError\u001b[0m: Tuple arity mismatch: 1 != 3; tuple: (FlatMapping({\n  '__neural_network_haiku/~dyna_net/dyna_reward': FlatMapping({\n                                                    'b': <object object at 0x7f2c080410d0>,\n                                                    'w': <object object at 0x7f2c080410d0>,\n                                                  }),\n  '__neural_network_haiku/~dyna_net/dyna_trans': FlatMapping({\n                                                   'b': <object object at 0x7f2c080410d0>,\n                                                   'w': <object object at 0x7f2c080410d0>,\n                                                 }),\n  '__neural_network_haiku/~dyna_net/dyna_trunk/~/linear_0': FlatMapping({\n                                                              'b': <object object at 0x7f2c080410d0>,\n                                                              'w': <object object at 0x7f2c080410d0>,\n                                                            }),\n  '__neural_network_haiku/~dyna_net/dyna_trunk/~/linear_1': FlatMapping({\n                                                              'b': <object object at 0x7f2c080410d0>,\n                                                              'w': <object object at 0x7f2c080410d0>,\n                                                            }),\n  '__neural_network_haiku/~pred_net/pred_p': FlatMapping({\n                                               'b': <object object at 0x7f2c080410d0>,\n                                               'w': <object object at 0x7f2c080410d0>,\n                                             }),\n  '__neural_network_haiku/~pred_net/pred_trunk/~/linear_0': FlatMapping({\n                                                              'b': <object object at 0x7f2c080410d0>,\n                                                              'w': <object object at 0x7f2c080410d0>,\n                                                            }),\n  '__neural_network_haiku/~pred_net/pred_trunk/~/linear_1': FlatMapping({\n                                                              'b': <object object at 0x7f2c080410d0>,\n                                                              'w': <object object at 0x7f2c080410d0>,\n                                                            }),\n  '__neural_network_haiku/~pred_net/pred_v': FlatMapping({\n                                               'b': <object object at 0x7f2c080410d0>,\n                                               'w': <object object at 0x7f2c080410d0>,\n                                             }),\n  '__neural_network_haiku/~repr_net/repr/~/linear_0': FlatMapping({\n                                                        'b': <object object at 0x7f2c080410d0>,\n                                                        'w': <object object at 0x7f2c080410d0>,\n                                                      }),\n  '__neural_network_haiku/~repr_net/repr/~/linear_1': FlatMapping({\n                                                        'b': <object object at 0x7f2c080410d0>,\n                                                        'w': <object object at 0x7f2c080410d0>,\n                                                      }),\n  '__neural_network_haiku/~repr_net/repr/~/linear_2': FlatMapping({\n                                                        'b': <object object at 0x7f2c080410d0>,\n                                                        'w': <object object at 0x7f2c080410d0>,\n                                                      }),\n}),).",
      "\nDuring handling of the above exception, another exception occurred:\n",
      "\u001b[0;31mUnfilteredStackTrace\u001b[0m                      Traceback (most recent call last)",
      "\u001b[0;32m<ipython-input-12-1ea63eb0a985>\u001b[0m in \u001b[0;36m<module>\u001b[0;34m\u001b[0m\n\u001b[1;32m      1\u001b[0m \u001b[0mloop\u001b[0m \u001b[0;34m=\u001b[0m \u001b[0mOpenSpielEnvironmentLoop\u001b[0m\u001b[0;34m(\u001b[0m\u001b[0menvironment\u001b[0m\u001b[0;34m=\u001b[0m\u001b[0menv\u001b[0m\u001b[0;34m,\u001b[0m \u001b[0mactors\u001b[0m\u001b[0;34m=\u001b[0m\u001b[0;34m[\u001b[0m\u001b[0magent\u001b[0m\u001b[0;34m]\u001b[0m\u001b[0;34m)\u001b[0m\u001b[0;34m\u001b[0m\u001b[0;34m\u001b[0m\u001b[0m\n\u001b[0;32m----> 2\u001b[0;31m \u001b[0mloop\u001b[0m\u001b[0;34m.\u001b[0m\u001b[0mrun_episode\u001b[0m\u001b[0;34m(\u001b[0m\u001b[0;34m)\u001b[0m\u001b[0;34m\u001b[0m\u001b[0;34m\u001b[0m\u001b[0m\n\u001b[0m",
      "\u001b[0;32m~/acme/acme/environment_loops/open_spiel_environment_loop.py\u001b[0m in \u001b[0;36mrun_episode\u001b[0;34m(self)\u001b[0m\n\u001b[1;32m    152\u001b[0m         action_list = [\n\u001b[0;32m--> 153\u001b[0;31m             \u001b[0mself\u001b[0m\u001b[0;34m.\u001b[0m\u001b[0m_get_action\u001b[0m\u001b[0;34m(\u001b[0m\u001b[0mtimestep\u001b[0m\u001b[0;34m,\u001b[0m \u001b[0mself\u001b[0m\u001b[0;34m.\u001b[0m\u001b[0m_environment\u001b[0m\u001b[0;34m.\u001b[0m\u001b[0mcurrent_player\u001b[0m\u001b[0;34m)\u001b[0m\u001b[0;34m\u001b[0m\u001b[0;34m\u001b[0m\u001b[0m\n\u001b[0m\u001b[1;32m    154\u001b[0m         ]\n",
      "\u001b[0;32m~/acme/acme/environment_loops/open_spiel_environment_loop.py\u001b[0m in \u001b[0;36m_get_action\u001b[0;34m(self, timestep, player)\u001b[0m\n\u001b[1;32m    107\u001b[0m   \u001b[0;32mdef\u001b[0m \u001b[0m_get_action\u001b[0m\u001b[0;34m(\u001b[0m\u001b[0mself\u001b[0m\u001b[0;34m,\u001b[0m \u001b[0mtimestep\u001b[0m\u001b[0;34m:\u001b[0m \u001b[0mdm_env\u001b[0m\u001b[0;34m.\u001b[0m\u001b[0mTimeStep\u001b[0m\u001b[0;34m,\u001b[0m \u001b[0mplayer\u001b[0m\u001b[0;34m:\u001b[0m \u001b[0mint\u001b[0m\u001b[0;34m)\u001b[0m \u001b[0;34m->\u001b[0m \u001b[0mint\u001b[0m\u001b[0;34m:\u001b[0m\u001b[0;34m\u001b[0m\u001b[0;34m\u001b[0m\u001b[0m\n\u001b[0;32m--> 108\u001b[0;31m     self._prev_actions[player] = self._actors[player].select_action(\n\u001b[0m\u001b[1;32m    109\u001b[0m         timestep.observation[player])\n",
      "\u001b[0;32m~/acme/acme/agents/agent.py\u001b[0m in \u001b[0;36mselect_action\u001b[0;34m(self, observation)\u001b[0m\n\u001b[1;32m     69\u001b[0m   \u001b[0;32mdef\u001b[0m \u001b[0mselect_action\u001b[0m\u001b[0;34m(\u001b[0m\u001b[0mself\u001b[0m\u001b[0;34m,\u001b[0m \u001b[0mobservation\u001b[0m\u001b[0;34m:\u001b[0m \u001b[0mtypes\u001b[0m\u001b[0;34m.\u001b[0m\u001b[0mNestedArray\u001b[0m\u001b[0;34m)\u001b[0m \u001b[0;34m->\u001b[0m \u001b[0mtypes\u001b[0m\u001b[0;34m.\u001b[0m\u001b[0mNestedArray\u001b[0m\u001b[0;34m:\u001b[0m\u001b[0;34m\u001b[0m\u001b[0;34m\u001b[0m\u001b[0m\n\u001b[0;32m---> 70\u001b[0;31m     \u001b[0;32mreturn\u001b[0m \u001b[0mself\u001b[0m\u001b[0;34m.\u001b[0m\u001b[0m_actor\u001b[0m\u001b[0;34m.\u001b[0m\u001b[0mselect_action\u001b[0m\u001b[0;34m(\u001b[0m\u001b[0mobservation\u001b[0m\u001b[0;34m)\u001b[0m\u001b[0;34m\u001b[0m\u001b[0;34m\u001b[0m\u001b[0m\n\u001b[0m\u001b[1;32m     71\u001b[0m \u001b[0;34m\u001b[0m\u001b[0m\n",
      "\u001b[0;32m/workspace/moozi/actor.py\u001b[0m in \u001b[0;36mselect_action\u001b[0;34m(self, observation)\u001b[0m\n\u001b[1;32m     66\u001b[0m         \u001b[0mself\u001b[0m\u001b[0;34m.\u001b[0m\u001b[0m_random_key\u001b[0m\u001b[0;34m,\u001b[0m \u001b[0mnew_key\u001b[0m \u001b[0;34m=\u001b[0m \u001b[0mjax\u001b[0m\u001b[0;34m.\u001b[0m\u001b[0mrandom\u001b[0m\u001b[0;34m.\u001b[0m\u001b[0msplit\u001b[0m\u001b[0;34m(\u001b[0m\u001b[0mself\u001b[0m\u001b[0;34m.\u001b[0m\u001b[0m_random_key\u001b[0m\u001b[0;34m)\u001b[0m\u001b[0;34m\u001b[0m\u001b[0;34m\u001b[0m\u001b[0m\n\u001b[0;32m---> 67\u001b[0;31m         result = self._policy_fn(\n\u001b[0m\u001b[1;32m     68\u001b[0m             \u001b[0mself\u001b[0m\u001b[0;34m.\u001b[0m\u001b[0m_client\u001b[0m\u001b[0;34m.\u001b[0m\u001b[0mparams\u001b[0m\u001b[0;34m,\u001b[0m\u001b[0;34m\u001b[0m\u001b[0;34m\u001b[0m\u001b[0m\n",
      "\u001b[0;32m/usr/local/lib/python3.8/dist-packages/jax/_src/traceback_util.py\u001b[0m in \u001b[0;36mreraise_with_filtered_traceback\u001b[0;34m(*args, **kwargs)\u001b[0m\n\u001b[1;32m    142\u001b[0m     \u001b[0;32mtry\u001b[0m\u001b[0;34m:\u001b[0m\u001b[0;34m\u001b[0m\u001b[0;34m\u001b[0m\u001b[0m\n\u001b[0;32m--> 143\u001b[0;31m       \u001b[0;32mreturn\u001b[0m \u001b[0mfun\u001b[0m\u001b[0;34m(\u001b[0m\u001b[0;34m*\u001b[0m\u001b[0margs\u001b[0m\u001b[0;34m,\u001b[0m \u001b[0;34m**\u001b[0m\u001b[0mkwargs\u001b[0m\u001b[0;34m)\u001b[0m\u001b[0;34m\u001b[0m\u001b[0;34m\u001b[0m\u001b[0m\n\u001b[0m\u001b[1;32m    144\u001b[0m     \u001b[0;32mexcept\u001b[0m \u001b[0mException\u001b[0m \u001b[0;32mas\u001b[0m \u001b[0me\u001b[0m\u001b[0;34m:\u001b[0m\u001b[0;34m\u001b[0m\u001b[0;34m\u001b[0m\u001b[0m\n",
      "\u001b[0;32m/usr/local/lib/python3.8/dist-packages/jax/_src/api.py\u001b[0m in \u001b[0;36mcache_miss\u001b[0;34m(*args, **kwargs)\u001b[0m\n\u001b[1;32m    425\u001b[0m     \u001b[0mflat_fun\u001b[0m\u001b[0;34m,\u001b[0m \u001b[0mout_tree\u001b[0m \u001b[0;34m=\u001b[0m \u001b[0mflatten_fun\u001b[0m\u001b[0;34m(\u001b[0m\u001b[0mf\u001b[0m\u001b[0;34m,\u001b[0m \u001b[0min_tree\u001b[0m\u001b[0;34m)\u001b[0m\u001b[0;34m\u001b[0m\u001b[0;34m\u001b[0m\u001b[0m\n\u001b[0;32m--> 426\u001b[0;31m     out_flat = xla.xla_call(\n\u001b[0m\u001b[1;32m    427\u001b[0m         \u001b[0mflat_fun\u001b[0m\u001b[0;34m,\u001b[0m\u001b[0;34m\u001b[0m\u001b[0;34m\u001b[0m\u001b[0m\n",
      "\u001b[0;32m/usr/local/lib/python3.8/dist-packages/jax/core.py\u001b[0m in \u001b[0;36mbind\u001b[0;34m(self, fun, *args, **params)\u001b[0m\n\u001b[1;32m   1564\u001b[0m   \u001b[0;32mdef\u001b[0m \u001b[0mbind\u001b[0m\u001b[0;34m(\u001b[0m\u001b[0mself\u001b[0m\u001b[0;34m,\u001b[0m \u001b[0mfun\u001b[0m\u001b[0;34m,\u001b[0m \u001b[0;34m*\u001b[0m\u001b[0margs\u001b[0m\u001b[0;34m,\u001b[0m \u001b[0;34m**\u001b[0m\u001b[0mparams\u001b[0m\u001b[0;34m)\u001b[0m\u001b[0;34m:\u001b[0m\u001b[0;34m\u001b[0m\u001b[0;34m\u001b[0m\u001b[0m\n\u001b[0;32m-> 1565\u001b[0;31m     \u001b[0;32mreturn\u001b[0m \u001b[0mcall_bind\u001b[0m\u001b[0;34m(\u001b[0m\u001b[0mself\u001b[0m\u001b[0;34m,\u001b[0m \u001b[0mfun\u001b[0m\u001b[0;34m,\u001b[0m \u001b[0;34m*\u001b[0m\u001b[0margs\u001b[0m\u001b[0;34m,\u001b[0m \u001b[0;34m**\u001b[0m\u001b[0mparams\u001b[0m\u001b[0;34m)\u001b[0m\u001b[0;34m\u001b[0m\u001b[0;34m\u001b[0m\u001b[0m\n\u001b[0m\u001b[1;32m   1566\u001b[0m \u001b[0;34m\u001b[0m\u001b[0m\n",
      "\u001b[0;32m/usr/local/lib/python3.8/dist-packages/jax/core.py\u001b[0m in \u001b[0;36mcall_bind\u001b[0;34m(primitive, fun, *args, **params)\u001b[0m\n\u001b[1;32m   1555\u001b[0m   \u001b[0;32mwith\u001b[0m \u001b[0mmaybe_new_sublevel\u001b[0m\u001b[0;34m(\u001b[0m\u001b[0mtop_trace\u001b[0m\u001b[0;34m)\u001b[0m\u001b[0;34m:\u001b[0m\u001b[0;34m\u001b[0m\u001b[0;34m\u001b[0m\u001b[0m\n\u001b[0;32m-> 1556\u001b[0;31m     \u001b[0mouts\u001b[0m \u001b[0;34m=\u001b[0m \u001b[0mprimitive\u001b[0m\u001b[0;34m.\u001b[0m\u001b[0mprocess\u001b[0m\u001b[0;34m(\u001b[0m\u001b[0mtop_trace\u001b[0m\u001b[0;34m,\u001b[0m \u001b[0mfun\u001b[0m\u001b[0;34m,\u001b[0m \u001b[0mtracers\u001b[0m\u001b[0;34m,\u001b[0m \u001b[0mparams\u001b[0m\u001b[0;34m)\u001b[0m\u001b[0;34m\u001b[0m\u001b[0;34m\u001b[0m\u001b[0m\n\u001b[0m\u001b[1;32m   1557\u001b[0m   \u001b[0;32mreturn\u001b[0m \u001b[0mmap\u001b[0m\u001b[0;34m(\u001b[0m\u001b[0mfull_lower\u001b[0m\u001b[0;34m,\u001b[0m \u001b[0mapply_todos\u001b[0m\u001b[0;34m(\u001b[0m\u001b[0menv_trace_todo\u001b[0m\u001b[0;34m(\u001b[0m\u001b[0;34m)\u001b[0m\u001b[0;34m,\u001b[0m \u001b[0mouts\u001b[0m\u001b[0;34m)\u001b[0m\u001b[0;34m)\u001b[0m\u001b[0;34m\u001b[0m\u001b[0;34m\u001b[0m\u001b[0m\n",
      "\u001b[0;32m/usr/local/lib/python3.8/dist-packages/jax/core.py\u001b[0m in \u001b[0;36mprocess\u001b[0;34m(self, trace, fun, tracers, params)\u001b[0m\n\u001b[1;32m   1567\u001b[0m   \u001b[0;32mdef\u001b[0m \u001b[0mprocess\u001b[0m\u001b[0;34m(\u001b[0m\u001b[0mself\u001b[0m\u001b[0;34m,\u001b[0m \u001b[0mtrace\u001b[0m\u001b[0;34m,\u001b[0m \u001b[0mfun\u001b[0m\u001b[0;34m,\u001b[0m \u001b[0mtracers\u001b[0m\u001b[0;34m,\u001b[0m \u001b[0mparams\u001b[0m\u001b[0;34m)\u001b[0m\u001b[0;34m:\u001b[0m\u001b[0;34m\u001b[0m\u001b[0;34m\u001b[0m\u001b[0m\n\u001b[0;32m-> 1568\u001b[0;31m     \u001b[0;32mreturn\u001b[0m \u001b[0mtrace\u001b[0m\u001b[0;34m.\u001b[0m\u001b[0mprocess_call\u001b[0m\u001b[0;34m(\u001b[0m\u001b[0mself\u001b[0m\u001b[0;34m,\u001b[0m \u001b[0mfun\u001b[0m\u001b[0;34m,\u001b[0m \u001b[0mtracers\u001b[0m\u001b[0;34m,\u001b[0m \u001b[0mparams\u001b[0m\u001b[0;34m)\u001b[0m\u001b[0;34m\u001b[0m\u001b[0;34m\u001b[0m\u001b[0m\n\u001b[0m\u001b[1;32m   1569\u001b[0m \u001b[0;34m\u001b[0m\u001b[0m\n",
      "\u001b[0;32m/usr/local/lib/python3.8/dist-packages/jax/core.py\u001b[0m in \u001b[0;36mprocess_call\u001b[0;34m(self, primitive, f, tracers, params)\u001b[0m\n\u001b[1;32m    608\u001b[0m   \u001b[0;32mdef\u001b[0m \u001b[0mprocess_call\u001b[0m\u001b[0;34m(\u001b[0m\u001b[0mself\u001b[0m\u001b[0;34m,\u001b[0m \u001b[0mprimitive\u001b[0m\u001b[0;34m,\u001b[0m \u001b[0mf\u001b[0m\u001b[0;34m,\u001b[0m \u001b[0mtracers\u001b[0m\u001b[0;34m,\u001b[0m \u001b[0mparams\u001b[0m\u001b[0;34m)\u001b[0m\u001b[0;34m:\u001b[0m\u001b[0;34m\u001b[0m\u001b[0;34m\u001b[0m\u001b[0m\n\u001b[0;32m--> 609\u001b[0;31m     \u001b[0;32mreturn\u001b[0m \u001b[0mprimitive\u001b[0m\u001b[0;34m.\u001b[0m\u001b[0mimpl\u001b[0m\u001b[0;34m(\u001b[0m\u001b[0mf\u001b[0m\u001b[0;34m,\u001b[0m \u001b[0;34m*\u001b[0m\u001b[0mtracers\u001b[0m\u001b[0;34m,\u001b[0m \u001b[0;34m**\u001b[0m\u001b[0mparams\u001b[0m\u001b[0;34m)\u001b[0m\u001b[0;34m\u001b[0m\u001b[0;34m\u001b[0m\u001b[0m\n\u001b[0m\u001b[1;32m    610\u001b[0m   \u001b[0mprocess_map\u001b[0m \u001b[0;34m=\u001b[0m \u001b[0mprocess_call\u001b[0m\u001b[0;34m\u001b[0m\u001b[0;34m\u001b[0m\u001b[0m\n",
      "\u001b[0;32m/usr/local/lib/python3.8/dist-packages/jax/interpreters/xla.py\u001b[0m in \u001b[0;36m_xla_call_impl\u001b[0;34m(fun, device, backend, name, donated_invars, *args)\u001b[0m\n\u001b[1;32m    577\u001b[0m \u001b[0;32mdef\u001b[0m \u001b[0m_xla_call_impl\u001b[0m\u001b[0;34m(\u001b[0m\u001b[0mfun\u001b[0m\u001b[0;34m:\u001b[0m \u001b[0mlu\u001b[0m\u001b[0;34m.\u001b[0m\u001b[0mWrappedFun\u001b[0m\u001b[0;34m,\u001b[0m \u001b[0;34m*\u001b[0m\u001b[0margs\u001b[0m\u001b[0;34m,\u001b[0m \u001b[0mdevice\u001b[0m\u001b[0;34m,\u001b[0m \u001b[0mbackend\u001b[0m\u001b[0;34m,\u001b[0m \u001b[0mname\u001b[0m\u001b[0;34m,\u001b[0m \u001b[0mdonated_invars\u001b[0m\u001b[0;34m)\u001b[0m\u001b[0;34m:\u001b[0m\u001b[0;34m\u001b[0m\u001b[0;34m\u001b[0m\u001b[0m\n\u001b[0;32m--> 578\u001b[0;31m   compiled_fun = _xla_callable(fun, device, backend, name, donated_invars,\n\u001b[0m\u001b[1;32m    579\u001b[0m                                *unsafe_map(arg_spec, args))\n",
      "\u001b[0;32m/usr/local/lib/python3.8/dist-packages/jax/linear_util.py\u001b[0m in \u001b[0;36mmemoized_fun\u001b[0;34m(fun, *args)\u001b[0m\n\u001b[1;32m    261\u001b[0m     \u001b[0;32melse\u001b[0m\u001b[0;34m:\u001b[0m\u001b[0;34m\u001b[0m\u001b[0;34m\u001b[0m\u001b[0m\n\u001b[0;32m--> 262\u001b[0;31m       \u001b[0mans\u001b[0m \u001b[0;34m=\u001b[0m \u001b[0mcall\u001b[0m\u001b[0;34m(\u001b[0m\u001b[0mfun\u001b[0m\u001b[0;34m,\u001b[0m \u001b[0;34m*\u001b[0m\u001b[0margs\u001b[0m\u001b[0;34m)\u001b[0m\u001b[0;34m\u001b[0m\u001b[0;34m\u001b[0m\u001b[0m\n\u001b[0m\u001b[1;32m    263\u001b[0m       \u001b[0mcache\u001b[0m\u001b[0;34m[\u001b[0m\u001b[0mkey\u001b[0m\u001b[0;34m]\u001b[0m \u001b[0;34m=\u001b[0m \u001b[0;34m(\u001b[0m\u001b[0mans\u001b[0m\u001b[0;34m,\u001b[0m \u001b[0mfun\u001b[0m\u001b[0;34m.\u001b[0m\u001b[0mstores\u001b[0m\u001b[0;34m)\u001b[0m\u001b[0;34m\u001b[0m\u001b[0;34m\u001b[0m\u001b[0m\n",
      "\u001b[0;32m/usr/local/lib/python3.8/dist-packages/jax/interpreters/xla.py\u001b[0m in \u001b[0;36m_xla_callable\u001b[0;34m(fun, device, backend, name, donated_invars, *arg_specs)\u001b[0m\n\u001b[1;32m    651\u001b[0m   \u001b[0mabstract_args\u001b[0m\u001b[0;34m,\u001b[0m \u001b[0m_\u001b[0m \u001b[0;34m=\u001b[0m \u001b[0munzip2\u001b[0m\u001b[0;34m(\u001b[0m\u001b[0marg_specs\u001b[0m\u001b[0;34m)\u001b[0m\u001b[0;34m\u001b[0m\u001b[0;34m\u001b[0m\u001b[0m\n\u001b[0;32m--> 652\u001b[0;31m   \u001b[0mjaxpr\u001b[0m\u001b[0;34m,\u001b[0m \u001b[0mout_avals\u001b[0m\u001b[0;34m,\u001b[0m \u001b[0mconsts\u001b[0m \u001b[0;34m=\u001b[0m \u001b[0mpe\u001b[0m\u001b[0;34m.\u001b[0m\u001b[0mtrace_to_jaxpr_final\u001b[0m\u001b[0;34m(\u001b[0m\u001b[0mfun\u001b[0m\u001b[0;34m,\u001b[0m \u001b[0mabstract_args\u001b[0m\u001b[0;34m,\u001b[0m \u001b[0mtransform_name\u001b[0m\u001b[0;34m=\u001b[0m\u001b[0;34m\"jit\"\u001b[0m\u001b[0;34m)\u001b[0m\u001b[0;34m\u001b[0m\u001b[0;34m\u001b[0m\u001b[0m\n\u001b[0m\u001b[1;32m    653\u001b[0m   \u001b[0;32mif\u001b[0m \u001b[0many\u001b[0m\u001b[0;34m(\u001b[0m\u001b[0misinstance\u001b[0m\u001b[0;34m(\u001b[0m\u001b[0mc\u001b[0m\u001b[0;34m,\u001b[0m \u001b[0mcore\u001b[0m\u001b[0;34m.\u001b[0m\u001b[0mTracer\u001b[0m\u001b[0;34m)\u001b[0m \u001b[0;32mfor\u001b[0m \u001b[0mc\u001b[0m \u001b[0;32min\u001b[0m \u001b[0mconsts\u001b[0m\u001b[0;34m)\u001b[0m\u001b[0;34m:\u001b[0m\u001b[0;34m\u001b[0m\u001b[0;34m\u001b[0m\u001b[0m\n",
      "\u001b[0;32m/usr/local/lib/python3.8/dist-packages/jax/interpreters/partial_eval.py\u001b[0m in \u001b[0;36mtrace_to_jaxpr_final\u001b[0;34m(fun, in_avals, transform_name)\u001b[0m\n\u001b[1;32m   1208\u001b[0m     \u001b[0mmain\u001b[0m\u001b[0;34m.\u001b[0m\u001b[0mjaxpr_stack\u001b[0m \u001b[0;34m=\u001b[0m \u001b[0;34m(\u001b[0m\u001b[0;34m)\u001b[0m  \u001b[0;31m# type: ignore\u001b[0m\u001b[0;34m\u001b[0m\u001b[0;34m\u001b[0m\u001b[0m\n\u001b[0;32m-> 1209\u001b[0;31m     \u001b[0mjaxpr\u001b[0m\u001b[0;34m,\u001b[0m \u001b[0mout_avals\u001b[0m\u001b[0;34m,\u001b[0m \u001b[0mconsts\u001b[0m \u001b[0;34m=\u001b[0m \u001b[0mtrace_to_subjaxpr_dynamic\u001b[0m\u001b[0;34m(\u001b[0m\u001b[0mfun\u001b[0m\u001b[0;34m,\u001b[0m \u001b[0mmain\u001b[0m\u001b[0;34m,\u001b[0m \u001b[0min_avals\u001b[0m\u001b[0;34m)\u001b[0m\u001b[0;34m\u001b[0m\u001b[0;34m\u001b[0m\u001b[0m\n\u001b[0m\u001b[1;32m   1210\u001b[0m     \u001b[0;32mdel\u001b[0m \u001b[0mfun\u001b[0m\u001b[0;34m,\u001b[0m \u001b[0mmain\u001b[0m\u001b[0;34m\u001b[0m\u001b[0;34m\u001b[0m\u001b[0m\n",
      "\u001b[0;32m/usr/local/lib/python3.8/dist-packages/jax/interpreters/partial_eval.py\u001b[0m in \u001b[0;36mtrace_to_subjaxpr_dynamic\u001b[0;34m(fun, main, in_avals)\u001b[0m\n\u001b[1;32m   1187\u001b[0m     \u001b[0min_tracers\u001b[0m \u001b[0;34m=\u001b[0m \u001b[0mmap\u001b[0m\u001b[0;34m(\u001b[0m\u001b[0mtrace\u001b[0m\u001b[0;34m.\u001b[0m\u001b[0mnew_arg\u001b[0m\u001b[0;34m,\u001b[0m \u001b[0min_avals\u001b[0m\u001b[0;34m)\u001b[0m\u001b[0;34m\u001b[0m\u001b[0;34m\u001b[0m\u001b[0m\n\u001b[0;32m-> 1188\u001b[0;31m     \u001b[0mans\u001b[0m \u001b[0;34m=\u001b[0m \u001b[0mfun\u001b[0m\u001b[0;34m.\u001b[0m\u001b[0mcall_wrapped\u001b[0m\u001b[0;34m(\u001b[0m\u001b[0;34m*\u001b[0m\u001b[0min_tracers\u001b[0m\u001b[0;34m)\u001b[0m\u001b[0;34m\u001b[0m\u001b[0;34m\u001b[0m\u001b[0m\n\u001b[0m\u001b[1;32m   1189\u001b[0m     \u001b[0mout_tracers\u001b[0m \u001b[0;34m=\u001b[0m \u001b[0mmap\u001b[0m\u001b[0;34m(\u001b[0m\u001b[0mtrace\u001b[0m\u001b[0;34m.\u001b[0m\u001b[0mfull_raise\u001b[0m\u001b[0;34m,\u001b[0m \u001b[0mans\u001b[0m\u001b[0;34m)\u001b[0m\u001b[0;34m\u001b[0m\u001b[0;34m\u001b[0m\u001b[0m\n",
      "\u001b[0;32m/usr/local/lib/python3.8/dist-packages/jax/linear_util.py\u001b[0m in \u001b[0;36mcall_wrapped\u001b[0;34m(self, *args, **kwargs)\u001b[0m\n\u001b[1;32m    165\u001b[0m     \u001b[0;32mtry\u001b[0m\u001b[0;34m:\u001b[0m\u001b[0;34m\u001b[0m\u001b[0;34m\u001b[0m\u001b[0m\n\u001b[0;32m--> 166\u001b[0;31m       \u001b[0mans\u001b[0m \u001b[0;34m=\u001b[0m \u001b[0mself\u001b[0m\u001b[0;34m.\u001b[0m\u001b[0mf\u001b[0m\u001b[0;34m(\u001b[0m\u001b[0;34m*\u001b[0m\u001b[0margs\u001b[0m\u001b[0;34m,\u001b[0m \u001b[0;34m**\u001b[0m\u001b[0mdict\u001b[0m\u001b[0;34m(\u001b[0m\u001b[0mself\u001b[0m\u001b[0;34m.\u001b[0m\u001b[0mparams\u001b[0m\u001b[0;34m,\u001b[0m \u001b[0;34m**\u001b[0m\u001b[0mkwargs\u001b[0m\u001b[0;34m)\u001b[0m\u001b[0;34m)\u001b[0m\u001b[0;34m\u001b[0m\u001b[0;34m\u001b[0m\u001b[0m\n\u001b[0m\u001b[1;32m    167\u001b[0m     \u001b[0;32mexcept\u001b[0m\u001b[0;34m:\u001b[0m\u001b[0;34m\u001b[0m\u001b[0;34m\u001b[0m\u001b[0m\n",
      "\u001b[0;32m/usr/local/lib/python3.8/dist-packages/jax/_src/traceback_util.py\u001b[0m in \u001b[0;36mreraise_with_filtered_traceback\u001b[0;34m(*args, **kwargs)\u001b[0m\n\u001b[1;32m    142\u001b[0m     \u001b[0;32mtry\u001b[0m\u001b[0;34m:\u001b[0m\u001b[0;34m\u001b[0m\u001b[0;34m\u001b[0m\u001b[0m\n\u001b[0;32m--> 143\u001b[0;31m       \u001b[0;32mreturn\u001b[0m \u001b[0mfun\u001b[0m\u001b[0;34m(\u001b[0m\u001b[0;34m*\u001b[0m\u001b[0margs\u001b[0m\u001b[0;34m,\u001b[0m \u001b[0;34m**\u001b[0m\u001b[0mkwargs\u001b[0m\u001b[0;34m)\u001b[0m\u001b[0;34m\u001b[0m\u001b[0;34m\u001b[0m\u001b[0m\n\u001b[0m\u001b[1;32m    144\u001b[0m     \u001b[0;32mexcept\u001b[0m \u001b[0mException\u001b[0m \u001b[0;32mas\u001b[0m \u001b[0me\u001b[0m\u001b[0;34m:\u001b[0m\u001b[0;34m\u001b[0m\u001b[0;34m\u001b[0m\u001b[0m\n",
      "\u001b[0;32m/usr/local/lib/python3.8/dist-packages/jax/_src/api.py\u001b[0m in \u001b[0;36mbatched_fun\u001b[0;34m(*args, **kwargs)\u001b[0m\n\u001b[1;32m   1296\u001b[0m     \u001b[0mflat_fun\u001b[0m\u001b[0;34m,\u001b[0m \u001b[0mout_tree\u001b[0m \u001b[0;34m=\u001b[0m \u001b[0mflatten_fun\u001b[0m\u001b[0;34m(\u001b[0m\u001b[0mf\u001b[0m\u001b[0;34m,\u001b[0m \u001b[0min_tree\u001b[0m\u001b[0;34m)\u001b[0m\u001b[0;34m\u001b[0m\u001b[0;34m\u001b[0m\u001b[0m\n\u001b[0;32m-> 1297\u001b[0;31m     \u001b[0min_axes_flat\u001b[0m \u001b[0;34m=\u001b[0m \u001b[0mflatten_axes\u001b[0m\u001b[0;34m(\u001b[0m\u001b[0;34m\"vmap in_axes\"\u001b[0m\u001b[0;34m,\u001b[0m \u001b[0min_tree\u001b[0m\u001b[0;34m,\u001b[0m \u001b[0;34m(\u001b[0m\u001b[0min_axes\u001b[0m\u001b[0;34m,\u001b[0m \u001b[0;36m0\u001b[0m\u001b[0;34m)\u001b[0m\u001b[0;34m,\u001b[0m \u001b[0mkws\u001b[0m\u001b[0;34m=\u001b[0m\u001b[0;32mTrue\u001b[0m\u001b[0;34m)\u001b[0m\u001b[0;34m\u001b[0m\u001b[0;34m\u001b[0m\u001b[0m\n\u001b[0m\u001b[1;32m   1298\u001b[0m     \u001b[0maxis_size\u001b[0m \u001b[0;34m=\u001b[0m \u001b[0m_mapped_axis_size\u001b[0m\u001b[0;34m(\u001b[0m\u001b[0min_tree\u001b[0m\u001b[0;34m,\u001b[0m \u001b[0margs_flat\u001b[0m\u001b[0;34m,\u001b[0m \u001b[0min_axes_flat\u001b[0m\u001b[0;34m,\u001b[0m \u001b[0;34m\"vmap\"\u001b[0m\u001b[0;34m,\u001b[0m \u001b[0mkws\u001b[0m\u001b[0;34m=\u001b[0m\u001b[0;32mTrue\u001b[0m\u001b[0;34m)\u001b[0m\u001b[0;34m\u001b[0m\u001b[0;34m\u001b[0m\u001b[0m\n",
      "\u001b[0;32m/usr/local/lib/python3.8/dist-packages/jax/api_util.py\u001b[0m in \u001b[0;36mflatten_axes\u001b[0;34m(name, treedef, axis_tree, kws)\u001b[0m\n\u001b[1;32m    254\u001b[0m       \u001b[0mtreedef\u001b[0m\u001b[0;34m,\u001b[0m \u001b[0mleaf\u001b[0m \u001b[0;34m=\u001b[0m \u001b[0mtreedef_children\u001b[0m\u001b[0;34m(\u001b[0m\u001b[0mtreedef\u001b[0m\u001b[0;34m)\u001b[0m\u001b[0;34m\u001b[0m\u001b[0;34m\u001b[0m\u001b[0m\n\u001b[0;32m--> 255\u001b[0;31m       \u001b[0;32massert\u001b[0m \u001b[0mtreedef_is_leaf\u001b[0m\u001b[0;34m(\u001b[0m\u001b[0mleaf\u001b[0m\u001b[0;34m)\u001b[0m\u001b[0;34m\u001b[0m\u001b[0;34m\u001b[0m\u001b[0m\n\u001b[0m\u001b[1;32m    256\u001b[0m       \u001b[0maxis_tree\u001b[0m\u001b[0;34m,\u001b[0m \u001b[0m_\u001b[0m \u001b[0;34m=\u001b[0m \u001b[0maxis_tree\u001b[0m\u001b[0;34m\u001b[0m\u001b[0;34m\u001b[0m\u001b[0m\n",
      "\u001b[0;31mUnfilteredStackTrace\u001b[0m: AssertionError\n\nThe stack trace below excludes JAX-internal frames.\nThe preceding is the original exception that occurred, unmodified.\n\n--------------------",
      "\nThe above exception was the direct cause of the following exception:\n",
      "\u001b[0;31mAssertionError\u001b[0m                            Traceback (most recent call last)",
      "\u001b[0;32m<ipython-input-12-1ea63eb0a985>\u001b[0m in \u001b[0;36m<module>\u001b[0;34m\u001b[0m\n\u001b[1;32m      1\u001b[0m \u001b[0mloop\u001b[0m \u001b[0;34m=\u001b[0m \u001b[0mOpenSpielEnvironmentLoop\u001b[0m\u001b[0;34m(\u001b[0m\u001b[0menvironment\u001b[0m\u001b[0;34m=\u001b[0m\u001b[0menv\u001b[0m\u001b[0;34m,\u001b[0m \u001b[0mactors\u001b[0m\u001b[0;34m=\u001b[0m\u001b[0;34m[\u001b[0m\u001b[0magent\u001b[0m\u001b[0;34m]\u001b[0m\u001b[0;34m)\u001b[0m\u001b[0;34m\u001b[0m\u001b[0;34m\u001b[0m\u001b[0m\n\u001b[0;32m----> 2\u001b[0;31m \u001b[0mloop\u001b[0m\u001b[0;34m.\u001b[0m\u001b[0mrun_episode\u001b[0m\u001b[0;34m(\u001b[0m\u001b[0;34m)\u001b[0m\u001b[0;34m\u001b[0m\u001b[0;34m\u001b[0m\u001b[0m\n\u001b[0m",
      "\u001b[0;32m~/acme/acme/environment_loops/open_spiel_environment_loop.py\u001b[0m in \u001b[0;36mrun_episode\u001b[0;34m(self)\u001b[0m\n\u001b[1;32m    151\u001b[0m       \u001b[0;32mif\u001b[0m \u001b[0mself\u001b[0m\u001b[0;34m.\u001b[0m\u001b[0m_environment\u001b[0m\u001b[0;34m.\u001b[0m\u001b[0mis_turn_based\u001b[0m\u001b[0;34m:\u001b[0m\u001b[0;34m\u001b[0m\u001b[0;34m\u001b[0m\u001b[0m\n\u001b[1;32m    152\u001b[0m         action_list = [\n\u001b[0;32m--> 153\u001b[0;31m             \u001b[0mself\u001b[0m\u001b[0;34m.\u001b[0m\u001b[0m_get_action\u001b[0m\u001b[0;34m(\u001b[0m\u001b[0mtimestep\u001b[0m\u001b[0;34m,\u001b[0m \u001b[0mself\u001b[0m\u001b[0;34m.\u001b[0m\u001b[0m_environment\u001b[0m\u001b[0;34m.\u001b[0m\u001b[0mcurrent_player\u001b[0m\u001b[0;34m)\u001b[0m\u001b[0;34m\u001b[0m\u001b[0;34m\u001b[0m\u001b[0m\n\u001b[0m\u001b[1;32m    154\u001b[0m         ]\n\u001b[1;32m    155\u001b[0m       \u001b[0;32melse\u001b[0m\u001b[0;34m:\u001b[0m\u001b[0;34m\u001b[0m\u001b[0;34m\u001b[0m\u001b[0m\n",
      "\u001b[0;32m~/acme/acme/environment_loops/open_spiel_environment_loop.py\u001b[0m in \u001b[0;36m_get_action\u001b[0;34m(self, timestep, player)\u001b[0m\n\u001b[1;32m    106\u001b[0m \u001b[0;34m\u001b[0m\u001b[0m\n\u001b[1;32m    107\u001b[0m   \u001b[0;32mdef\u001b[0m \u001b[0m_get_action\u001b[0m\u001b[0;34m(\u001b[0m\u001b[0mself\u001b[0m\u001b[0;34m,\u001b[0m \u001b[0mtimestep\u001b[0m\u001b[0;34m:\u001b[0m \u001b[0mdm_env\u001b[0m\u001b[0;34m.\u001b[0m\u001b[0mTimeStep\u001b[0m\u001b[0;34m,\u001b[0m \u001b[0mplayer\u001b[0m\u001b[0;34m:\u001b[0m \u001b[0mint\u001b[0m\u001b[0;34m)\u001b[0m \u001b[0;34m->\u001b[0m \u001b[0mint\u001b[0m\u001b[0;34m:\u001b[0m\u001b[0;34m\u001b[0m\u001b[0;34m\u001b[0m\u001b[0m\n\u001b[0;32m--> 108\u001b[0;31m     self._prev_actions[player] = self._actors[player].select_action(\n\u001b[0m\u001b[1;32m    109\u001b[0m         timestep.observation[player])\n\u001b[1;32m    110\u001b[0m     \u001b[0;32mreturn\u001b[0m \u001b[0mself\u001b[0m\u001b[0;34m.\u001b[0m\u001b[0m_prev_actions\u001b[0m\u001b[0;34m[\u001b[0m\u001b[0mplayer\u001b[0m\u001b[0;34m]\u001b[0m\u001b[0;34m\u001b[0m\u001b[0;34m\u001b[0m\u001b[0m\n",
      "\u001b[0;32m~/acme/acme/agents/agent.py\u001b[0m in \u001b[0;36mselect_action\u001b[0;34m(self, observation)\u001b[0m\n\u001b[1;32m     68\u001b[0m \u001b[0;34m\u001b[0m\u001b[0m\n\u001b[1;32m     69\u001b[0m   \u001b[0;32mdef\u001b[0m \u001b[0mselect_action\u001b[0m\u001b[0;34m(\u001b[0m\u001b[0mself\u001b[0m\u001b[0;34m,\u001b[0m \u001b[0mobservation\u001b[0m\u001b[0;34m:\u001b[0m \u001b[0mtypes\u001b[0m\u001b[0;34m.\u001b[0m\u001b[0mNestedArray\u001b[0m\u001b[0;34m)\u001b[0m \u001b[0;34m->\u001b[0m \u001b[0mtypes\u001b[0m\u001b[0;34m.\u001b[0m\u001b[0mNestedArray\u001b[0m\u001b[0;34m:\u001b[0m\u001b[0;34m\u001b[0m\u001b[0;34m\u001b[0m\u001b[0m\n\u001b[0;32m---> 70\u001b[0;31m     \u001b[0;32mreturn\u001b[0m \u001b[0mself\u001b[0m\u001b[0;34m.\u001b[0m\u001b[0m_actor\u001b[0m\u001b[0;34m.\u001b[0m\u001b[0mselect_action\u001b[0m\u001b[0;34m(\u001b[0m\u001b[0mobservation\u001b[0m\u001b[0;34m)\u001b[0m\u001b[0;34m\u001b[0m\u001b[0;34m\u001b[0m\u001b[0m\n\u001b[0m\u001b[1;32m     71\u001b[0m \u001b[0;34m\u001b[0m\u001b[0m\n\u001b[1;32m     72\u001b[0m   \u001b[0;32mdef\u001b[0m \u001b[0mobserve_first\u001b[0m\u001b[0;34m(\u001b[0m\u001b[0mself\u001b[0m\u001b[0;34m,\u001b[0m \u001b[0mtimestep\u001b[0m\u001b[0;34m:\u001b[0m \u001b[0mdm_env\u001b[0m\u001b[0;34m.\u001b[0m\u001b[0mTimeStep\u001b[0m\u001b[0;34m)\u001b[0m\u001b[0;34m:\u001b[0m\u001b[0;34m\u001b[0m\u001b[0;34m\u001b[0m\u001b[0m\n",
      "\u001b[0;32m/workspace/moozi/actor.py\u001b[0m in \u001b[0;36mselect_action\u001b[0;34m(self, observation)\u001b[0m\n\u001b[1;32m     65\u001b[0m     \u001b[0;32mdef\u001b[0m \u001b[0mselect_action\u001b[0m\u001b[0;34m(\u001b[0m\u001b[0mself\u001b[0m\u001b[0;34m,\u001b[0m \u001b[0mobservation\u001b[0m\u001b[0;34m:\u001b[0m \u001b[0macme\u001b[0m\u001b[0;34m.\u001b[0m\u001b[0mwrappers\u001b[0m\u001b[0;34m.\u001b[0m\u001b[0mopen_spiel_wrapper\u001b[0m\u001b[0;34m.\u001b[0m\u001b[0mOLT\u001b[0m\u001b[0;34m)\u001b[0m \u001b[0;34m->\u001b[0m \u001b[0mint\u001b[0m\u001b[0;34m:\u001b[0m\u001b[0;34m\u001b[0m\u001b[0;34m\u001b[0m\u001b[0m\n\u001b[1;32m     66\u001b[0m         \u001b[0mself\u001b[0m\u001b[0;34m.\u001b[0m\u001b[0m_random_key\u001b[0m\u001b[0;34m,\u001b[0m \u001b[0mnew_key\u001b[0m \u001b[0;34m=\u001b[0m \u001b[0mjax\u001b[0m\u001b[0;34m.\u001b[0m\u001b[0mrandom\u001b[0m\u001b[0;34m.\u001b[0m\u001b[0msplit\u001b[0m\u001b[0;34m(\u001b[0m\u001b[0mself\u001b[0m\u001b[0;34m.\u001b[0m\u001b[0m_random_key\u001b[0m\u001b[0;34m)\u001b[0m\u001b[0;34m\u001b[0m\u001b[0;34m\u001b[0m\u001b[0m\n\u001b[0;32m---> 67\u001b[0;31m         result = self._policy_fn(\n\u001b[0m\u001b[1;32m     68\u001b[0m             \u001b[0mself\u001b[0m\u001b[0;34m.\u001b[0m\u001b[0m_client\u001b[0m\u001b[0;34m.\u001b[0m\u001b[0mparams\u001b[0m\u001b[0;34m,\u001b[0m\u001b[0;34m\u001b[0m\u001b[0;34m\u001b[0m\u001b[0m\n\u001b[1;32m     69\u001b[0m             \u001b[0mimage\u001b[0m\u001b[0;34m=\u001b[0m\u001b[0mobservation\u001b[0m\u001b[0;34m.\u001b[0m\u001b[0mobservation\u001b[0m\u001b[0;34m,\u001b[0m\u001b[0;34m\u001b[0m\u001b[0;34m\u001b[0m\u001b[0m\n",
      "\u001b[0;32m/usr/local/lib/python3.8/dist-packages/jax/api_util.py\u001b[0m in \u001b[0;36mflatten_axes\u001b[0;34m(name, treedef, axis_tree, kws)\u001b[0m\n\u001b[1;32m    253\u001b[0m       \u001b[0;31m# message only to be about the positional arguments\u001b[0m\u001b[0;34m\u001b[0m\u001b[0;34m\u001b[0m\u001b[0;34m\u001b[0m\u001b[0m\n\u001b[1;32m    254\u001b[0m       \u001b[0mtreedef\u001b[0m\u001b[0;34m,\u001b[0m \u001b[0mleaf\u001b[0m \u001b[0;34m=\u001b[0m \u001b[0mtreedef_children\u001b[0m\u001b[0;34m(\u001b[0m\u001b[0mtreedef\u001b[0m\u001b[0;34m)\u001b[0m\u001b[0;34m\u001b[0m\u001b[0;34m\u001b[0m\u001b[0m\n\u001b[0;32m--> 255\u001b[0;31m       \u001b[0;32massert\u001b[0m \u001b[0mtreedef_is_leaf\u001b[0m\u001b[0;34m(\u001b[0m\u001b[0mleaf\u001b[0m\u001b[0;34m)\u001b[0m\u001b[0;34m\u001b[0m\u001b[0;34m\u001b[0m\u001b[0m\n\u001b[0m\u001b[1;32m    256\u001b[0m       \u001b[0maxis_tree\u001b[0m\u001b[0;34m,\u001b[0m \u001b[0m_\u001b[0m \u001b[0;34m=\u001b[0m \u001b[0maxis_tree\u001b[0m\u001b[0;34m\u001b[0m\u001b[0;34m\u001b[0m\u001b[0m\n\u001b[1;32m    257\u001b[0m     raise ValueError(f\"{name} specification must be a tree prefix of the \"\n",
      "\u001b[0;31mAssertionError\u001b[0m: "
     ]
    }
   ],
   "source": [
    "loop = OpenSpielEnvironmentLoop(environment=env, actors=[agent])\n",
    "loop.run_episode()"
   ]
  },
  {
   "cell_type": "code",
   "execution_count": 10,
   "id": "9202e80c",
   "metadata": {
    "ExecuteTime": {
     "end_time": "2021-05-29T02:36:45.106849Z",
     "start_time": "2021-05-29T02:36:45.102350Z"
    }
   },
   "outputs": [],
   "source": [
    "mode = 'test'"
   ]
  },
  {
   "cell_type": "code",
   "execution_count": 14,
   "id": "d74b5da2",
   "metadata": {
    "ExecuteTime": {
     "end_time": "2021-05-29T03:42:37.602989Z",
     "start_time": "2021-05-29T03:42:37.571687Z"
    },
    "scrolled": true
   },
   "outputs": [
    {
     "ename": "ValueError",
     "evalue": "Field ('observation', 'observation') has already been set in the active step by previous (partial) append call and thus must be omitted or set to None but got: [0. 1. 0. 0. 0. 0. 0. 0. 0. 0. 0. 0. 0. 0. 0. 0. 0. 0. 0. 0. 0. 0. 0. 0.\n 0. 0. 0. 0. 0. 0. 0. 1. 0. 0. 0.]",
     "output_type": "error",
     "traceback": [
      "\u001b[0;31m---------------------------------------------------------------------------\u001b[0m",
      "\u001b[0;31mValueError\u001b[0m                                Traceback (most recent call last)",
      "\u001b[0;32m<ipython-input-14-c832bd909388>\u001b[0m in \u001b[0;36m<module>\u001b[0;34m\u001b[0m\n\u001b[1;32m      2\u001b[0m \u001b[0mrandom_actor\u001b[0m \u001b[0;34m=\u001b[0m \u001b[0mmz\u001b[0m\u001b[0;34m.\u001b[0m\u001b[0mactor\u001b[0m\u001b[0;34m.\u001b[0m\u001b[0mRandomActor\u001b[0m\u001b[0;34m(\u001b[0m\u001b[0mreverb_replay\u001b[0m\u001b[0;34m.\u001b[0m\u001b[0madder\u001b[0m\u001b[0;34m)\u001b[0m\u001b[0;34m\u001b[0m\u001b[0;34m\u001b[0m\u001b[0m\n\u001b[1;32m      3\u001b[0m \u001b[0mloop\u001b[0m \u001b[0;34m=\u001b[0m \u001b[0mOpenSpielEnvironmentLoop\u001b[0m\u001b[0;34m(\u001b[0m\u001b[0menvironment\u001b[0m\u001b[0;34m=\u001b[0m\u001b[0menv\u001b[0m\u001b[0;34m,\u001b[0m \u001b[0mactors\u001b[0m\u001b[0;34m=\u001b[0m\u001b[0;34m[\u001b[0m\u001b[0mrandom_actor\u001b[0m\u001b[0;34m]\u001b[0m\u001b[0;34m)\u001b[0m\u001b[0;34m\u001b[0m\u001b[0;34m\u001b[0m\u001b[0m\n\u001b[0;32m----> 4\u001b[0;31m \u001b[0mloop\u001b[0m\u001b[0;34m.\u001b[0m\u001b[0mrun_episode\u001b[0m\u001b[0;34m(\u001b[0m\u001b[0;34m)\u001b[0m\u001b[0;34m\u001b[0m\u001b[0;34m\u001b[0m\u001b[0m\n\u001b[0m",
      "\u001b[0;32m~/acme/acme/environment_loops/open_spiel_environment_loop.py\u001b[0m in \u001b[0;36mrun_episode\u001b[0;34m(self)\u001b[0m\n\u001b[1;32m    144\u001b[0m \u001b[0;34m\u001b[0m\u001b[0m\n\u001b[1;32m    145\u001b[0m     \u001b[0;31m# Make the first observation.\u001b[0m\u001b[0;34m\u001b[0m\u001b[0;34m\u001b[0m\u001b[0;34m\u001b[0m\u001b[0m\n\u001b[0;32m--> 146\u001b[0;31m     \u001b[0mself\u001b[0m\u001b[0;34m.\u001b[0m\u001b[0m_send_observation\u001b[0m\u001b[0;34m(\u001b[0m\u001b[0mtimestep\u001b[0m\u001b[0;34m,\u001b[0m \u001b[0mself\u001b[0m\u001b[0;34m.\u001b[0m\u001b[0m_environment\u001b[0m\u001b[0;34m.\u001b[0m\u001b[0mcurrent_player\u001b[0m\u001b[0;34m)\u001b[0m\u001b[0;34m\u001b[0m\u001b[0;34m\u001b[0m\u001b[0m\n\u001b[0m\u001b[1;32m    147\u001b[0m \u001b[0;34m\u001b[0m\u001b[0m\n\u001b[1;32m    148\u001b[0m     \u001b[0;31m# Run an episode.\u001b[0m\u001b[0;34m\u001b[0m\u001b[0;34m\u001b[0m\u001b[0;34m\u001b[0m\u001b[0m\n",
      "\u001b[0;32m~/acme/acme/environment_loops/open_spiel_environment_loop.py\u001b[0m in \u001b[0;36m_send_observation\u001b[0;34m(self, timestep, player)\u001b[0m\n\u001b[1;32m     96\u001b[0m             \u001b[0mdiscount\u001b[0m\u001b[0;34m=\u001b[0m\u001b[0;32mNone\u001b[0m\u001b[0;34m,\u001b[0m\u001b[0;34m\u001b[0m\u001b[0;34m\u001b[0m\u001b[0m\n\u001b[1;32m     97\u001b[0m             step_type=dm_env.StepType.FIRST)\n\u001b[0;32m---> 98\u001b[0;31m         \u001b[0mself\u001b[0m\u001b[0;34m.\u001b[0m\u001b[0m_actors\u001b[0m\u001b[0;34m[\u001b[0m\u001b[0mplayer\u001b[0m\u001b[0;34m]\u001b[0m\u001b[0;34m.\u001b[0m\u001b[0mobserve_first\u001b[0m\u001b[0;34m(\u001b[0m\u001b[0mplayer_timestep\u001b[0m\u001b[0;34m)\u001b[0m\u001b[0;34m\u001b[0m\u001b[0;34m\u001b[0m\u001b[0m\n\u001b[0m\u001b[1;32m     99\u001b[0m         \u001b[0mself\u001b[0m\u001b[0;34m.\u001b[0m\u001b[0m_observed_first\u001b[0m\u001b[0;34m[\u001b[0m\u001b[0mplayer\u001b[0m\u001b[0;34m]\u001b[0m \u001b[0;34m=\u001b[0m \u001b[0;32mTrue\u001b[0m\u001b[0;34m\u001b[0m\u001b[0;34m\u001b[0m\u001b[0m\n\u001b[1;32m    100\u001b[0m       \u001b[0;32melse\u001b[0m\u001b[0;34m:\u001b[0m\u001b[0;34m\u001b[0m\u001b[0;34m\u001b[0m\u001b[0m\n",
      "\u001b[0;32m/workspace/moozi/actor.py\u001b[0m in \u001b[0;36mobserve_first\u001b[0;34m(self, timestep)\u001b[0m\n\u001b[1;32m     22\u001b[0m \u001b[0;34m\u001b[0m\u001b[0m\n\u001b[1;32m     23\u001b[0m     \u001b[0;32mdef\u001b[0m \u001b[0mobserve_first\u001b[0m\u001b[0;34m(\u001b[0m\u001b[0mself\u001b[0m\u001b[0;34m,\u001b[0m \u001b[0mtimestep\u001b[0m\u001b[0;34m:\u001b[0m \u001b[0mdm_env\u001b[0m\u001b[0;34m.\u001b[0m\u001b[0mTimeStep\u001b[0m\u001b[0;34m)\u001b[0m\u001b[0;34m:\u001b[0m\u001b[0;34m\u001b[0m\u001b[0;34m\u001b[0m\u001b[0m\n\u001b[0;32m---> 24\u001b[0;31m         \u001b[0mself\u001b[0m\u001b[0;34m.\u001b[0m\u001b[0m_adder\u001b[0m\u001b[0;34m.\u001b[0m\u001b[0madd_first\u001b[0m\u001b[0;34m(\u001b[0m\u001b[0mtimestep\u001b[0m\u001b[0;34m)\u001b[0m\u001b[0;34m\u001b[0m\u001b[0;34m\u001b[0m\u001b[0m\n\u001b[0m\u001b[1;32m     25\u001b[0m \u001b[0;34m\u001b[0m\u001b[0m\n\u001b[1;32m     26\u001b[0m     \u001b[0;32mdef\u001b[0m \u001b[0mobserve\u001b[0m\u001b[0;34m(\u001b[0m\u001b[0mself\u001b[0m\u001b[0;34m,\u001b[0m \u001b[0maction\u001b[0m\u001b[0;34m:\u001b[0m \u001b[0macme\u001b[0m\u001b[0;34m.\u001b[0m\u001b[0mtypes\u001b[0m\u001b[0;34m.\u001b[0m\u001b[0mNestedArray\u001b[0m\u001b[0;34m,\u001b[0m \u001b[0mnext_timestep\u001b[0m\u001b[0;34m:\u001b[0m \u001b[0mdm_env\u001b[0m\u001b[0;34m.\u001b[0m\u001b[0mTimeStep\u001b[0m\u001b[0;34m)\u001b[0m\u001b[0;34m:\u001b[0m\u001b[0;34m\u001b[0m\u001b[0;34m\u001b[0m\u001b[0m\n",
      "\u001b[0;32m~/acme/acme/adders/reverb/base.py\u001b[0m in \u001b[0;36madd_first\u001b[0;34m(self, timestep)\u001b[0m\n\u001b[1;32m    152\u001b[0m     \u001b[0;31m# Record the next observation but leave the history buffer row open by\u001b[0m\u001b[0;34m\u001b[0m\u001b[0;34m\u001b[0m\u001b[0;34m\u001b[0m\u001b[0m\n\u001b[1;32m    153\u001b[0m     \u001b[0;31m# passing `partial_step=True`.\u001b[0m\u001b[0;34m\u001b[0m\u001b[0;34m\u001b[0m\u001b[0;34m\u001b[0m\u001b[0m\n\u001b[0;32m--> 154\u001b[0;31m     self._writer.append(dict(observation=timestep.observation,\n\u001b[0m\u001b[1;32m    155\u001b[0m                              start_of_episode=timestep.first()),\n\u001b[1;32m    156\u001b[0m                         partial_step=True)\n",
      "\u001b[0;32m/usr/local/lib/python3.8/dist-packages/reverb/trajectory_writer.py\u001b[0m in \u001b[0;36mappend\u001b[0;34m(self, data, partial_step)\u001b[0m\n\u001b[1;32m    316\u001b[0m           \u001b[0;32mcontinue\u001b[0m\u001b[0;34m\u001b[0m\u001b[0;34m\u001b[0m\u001b[0m\n\u001b[1;32m    317\u001b[0m \u001b[0;34m\u001b[0m\u001b[0m\n\u001b[0;32m--> 318\u001b[0;31m         raise ValueError(\n\u001b[0m\u001b[1;32m    319\u001b[0m             \u001b[0;34mf'Field {self._get_path_for_column_index(i)} has already been set '\u001b[0m\u001b[0;34m\u001b[0m\u001b[0;34m\u001b[0m\u001b[0m\n\u001b[1;32m    320\u001b[0m             \u001b[0;34mf'in the active step by previous (partial) append call and thus '\u001b[0m\u001b[0;34m\u001b[0m\u001b[0;34m\u001b[0m\u001b[0m\n",
      "\u001b[0;31mValueError\u001b[0m: Field ('observation', 'observation') has already been set in the active step by previous (partial) append call and thus must be omitted or set to None but got: [0. 1. 0. 0. 0. 0. 0. 0. 0. 0. 0. 0. 0. 0. 0. 0. 0. 0. 0. 0. 0. 0. 0. 0.\n 0. 0. 0. 0. 0. 0. 0. 1. 0. 0. 0.]"
     ]
    }
   ],
   "source": [
    "# if mode == 'test':\n",
    "random_actor = mz.actor.RandomActor(reverb_replay.adder)\n",
    "loop = OpenSpielEnvironmentLoop(environment=env, actors=[random_actor])\n",
    "loop.run_episode()"
   ]
  },
  {
   "cell_type": "code",
   "execution_count": null,
   "id": "93f3fb59",
   "metadata": {
    "ExecuteTime": {
     "end_time": "2021-05-29T02:29:18.750341Z",
     "start_time": "2021-05-29T02:29:03.555Z"
    },
    "scrolled": false
   },
   "outputs": [],
   "source": [
    "# num_episodes = 1000\n",
    "# result = loop.run(num_episodes=num_episodes)"
   ]
  },
  {
   "cell_type": "code",
   "execution_count": null,
   "id": "6d089ae4",
   "metadata": {
    "ExecuteTime": {
     "end_time": "2021-05-29T02:52:02.187679Z",
     "start_time": "2021-05-29T02:52:02.178009Z"
    }
   },
   "outputs": [],
   "source": [
    "olt = next(reverb_replay.data_iterator).data.observation"
   ]
  },
  {
   "cell_type": "code",
   "execution_count": 33,
   "id": "9835e4cf",
   "metadata": {
    "ExecuteTime": {
     "end_time": "2021-05-29T02:52:27.774315Z",
     "start_time": "2021-05-29T02:52:27.765309Z"
    }
   },
   "outputs": [
    {
     "data": {
      "text/plain": [
       "array([[1., 1., 1.],\n",
       "       [1., 1., 1.],\n",
       "       [1., 1., 1.],\n",
       "       [1., 1., 1.],\n",
       "       [1., 1., 1.],\n",
       "       [1., 1., 1.],\n",
       "       [1., 1., 1.],\n",
       "       [1., 1., 1.],\n",
       "       [1., 1., 1.],\n",
       "       [1., 1., 1.],\n",
       "       [1., 1., 1.],\n",
       "       [1., 1., 1.],\n",
       "       [1., 1., 1.],\n",
       "       [1., 1., 1.],\n",
       "       [1., 1., 1.],\n",
       "       [1., 1., 1.]], dtype=float32)"
      ]
     },
     "execution_count": 33,
     "metadata": {},
     "output_type": "execute_result"
    }
   ],
   "source": [
    "olt.legal_actions"
   ]
  },
  {
   "cell_type": "code",
   "execution_count": 30,
   "id": "7033f051",
   "metadata": {
    "ExecuteTime": {
     "end_time": "2021-05-29T02:52:00.481767Z",
     "start_time": "2021-05-29T02:52:00.411762Z"
    },
    "scrolled": true
   },
   "outputs": [
    {
     "ename": "AssertionError",
     "evalue": "Function _policy_fn is traced > 1 times!",
     "output_type": "error",
     "traceback": [
      "\u001b[0;31m---------------------------------------------------------------------------\u001b[0m",
      "\u001b[0;31mUnfilteredStackTrace\u001b[0m                      Traceback (most recent call last)",
      "\u001b[0;32m<ipython-input-30-77371382b729>\u001b[0m in \u001b[0;36m<module>\u001b[0;34m\u001b[0m\n\u001b[0;32m----> 1\u001b[0;31m \u001b[0mactor\u001b[0m\u001b[0;34m.\u001b[0m\u001b[0mselect_action\u001b[0m\u001b[0;34m(\u001b[0m\u001b[0molt\u001b[0m\u001b[0;34m)\u001b[0m\u001b[0;34m\u001b[0m\u001b[0;34m\u001b[0m\u001b[0m\n\u001b[0m",
      "\u001b[0;32m/workspace/moozi/actor.py\u001b[0m in \u001b[0;36mselect_action\u001b[0;34m(self, observation)\u001b[0m\n\u001b[1;32m     61\u001b[0m         \u001b[0;31m# TODO: replace vmap with manual batching?\u001b[0m\u001b[0;34m\u001b[0m\u001b[0;34m\u001b[0m\u001b[0;34m\u001b[0m\u001b[0m\n\u001b[0;32m---> 62\u001b[0;31m         \u001b[0;31m# https://github.com/deepmind/acme/blob/926b17ad116578801a0fbbe73c4ddc276a28e23e/acme/agents/jax/actors.py#L76\u001b[0m\u001b[0;34m\u001b[0m\u001b[0;34m\u001b[0m\u001b[0;34m\u001b[0m\u001b[0m\n\u001b[0m\u001b[1;32m     63\u001b[0m         \u001b[0mself\u001b[0m\u001b[0;34m.\u001b[0m\u001b[0m_policy_fn\u001b[0m \u001b[0;34m=\u001b[0m \u001b[0mjax\u001b[0m\u001b[0;34m.\u001b[0m\u001b[0mjit\u001b[0m\u001b[0;34m(\u001b[0m\u001b[0mjax\u001b[0m\u001b[0;34m.\u001b[0m\u001b[0mvmap\u001b[0m\u001b[0;34m(\u001b[0m\u001b[0m_policy_fn\u001b[0m\u001b[0;34m,\u001b[0m \u001b[0min_axes\u001b[0m\u001b[0;34m=\u001b[0m\u001b[0;34m[\u001b[0m\u001b[0;32mNone\u001b[0m\u001b[0;34m,\u001b[0m \u001b[0;36m0\u001b[0m\u001b[0;34m,\u001b[0m \u001b[0;32mNone\u001b[0m\u001b[0;34m]\u001b[0m\u001b[0;34m)\u001b[0m\u001b[0;34m)\u001b[0m\u001b[0;34m\u001b[0m\u001b[0;34m\u001b[0m\u001b[0m\n",
      "\u001b[0;32m/usr/local/lib/python3.8/dist-packages/jax/_src/traceback_util.py\u001b[0m in \u001b[0;36mreraise_with_filtered_traceback\u001b[0;34m(*args, **kwargs)\u001b[0m\n\u001b[1;32m    142\u001b[0m     \u001b[0;32mtry\u001b[0m\u001b[0;34m:\u001b[0m\u001b[0;34m\u001b[0m\u001b[0;34m\u001b[0m\u001b[0m\n\u001b[0;32m--> 143\u001b[0;31m       \u001b[0;32mreturn\u001b[0m \u001b[0mfun\u001b[0m\u001b[0;34m(\u001b[0m\u001b[0;34m*\u001b[0m\u001b[0margs\u001b[0m\u001b[0;34m,\u001b[0m \u001b[0;34m**\u001b[0m\u001b[0mkwargs\u001b[0m\u001b[0;34m)\u001b[0m\u001b[0;34m\u001b[0m\u001b[0;34m\u001b[0m\u001b[0m\n\u001b[0m\u001b[1;32m    144\u001b[0m     \u001b[0;32mexcept\u001b[0m \u001b[0mException\u001b[0m \u001b[0;32mas\u001b[0m \u001b[0me\u001b[0m\u001b[0;34m:\u001b[0m\u001b[0;34m\u001b[0m\u001b[0;34m\u001b[0m\u001b[0m\n",
      "\u001b[0;32m/usr/local/lib/python3.8/dist-packages/jax/_src/api.py\u001b[0m in \u001b[0;36mcache_miss\u001b[0;34m(*args, **kwargs)\u001b[0m\n\u001b[1;32m    425\u001b[0m     \u001b[0mflat_fun\u001b[0m\u001b[0;34m,\u001b[0m \u001b[0mout_tree\u001b[0m \u001b[0;34m=\u001b[0m \u001b[0mflatten_fun\u001b[0m\u001b[0;34m(\u001b[0m\u001b[0mf\u001b[0m\u001b[0;34m,\u001b[0m \u001b[0min_tree\u001b[0m\u001b[0;34m)\u001b[0m\u001b[0;34m\u001b[0m\u001b[0;34m\u001b[0m\u001b[0m\n\u001b[0;32m--> 426\u001b[0;31m     out_flat = xla.xla_call(\n\u001b[0m\u001b[1;32m    427\u001b[0m         \u001b[0mflat_fun\u001b[0m\u001b[0;34m,\u001b[0m\u001b[0;34m\u001b[0m\u001b[0;34m\u001b[0m\u001b[0m\n",
      "\u001b[0;32m/usr/local/lib/python3.8/dist-packages/jax/core.py\u001b[0m in \u001b[0;36mbind\u001b[0;34m(self, fun, *args, **params)\u001b[0m\n\u001b[1;32m   1564\u001b[0m   \u001b[0;32mdef\u001b[0m \u001b[0mbind\u001b[0m\u001b[0;34m(\u001b[0m\u001b[0mself\u001b[0m\u001b[0;34m,\u001b[0m \u001b[0mfun\u001b[0m\u001b[0;34m,\u001b[0m \u001b[0;34m*\u001b[0m\u001b[0margs\u001b[0m\u001b[0;34m,\u001b[0m \u001b[0;34m**\u001b[0m\u001b[0mparams\u001b[0m\u001b[0;34m)\u001b[0m\u001b[0;34m:\u001b[0m\u001b[0;34m\u001b[0m\u001b[0;34m\u001b[0m\u001b[0m\n\u001b[0;32m-> 1565\u001b[0;31m     \u001b[0;32mreturn\u001b[0m \u001b[0mcall_bind\u001b[0m\u001b[0;34m(\u001b[0m\u001b[0mself\u001b[0m\u001b[0;34m,\u001b[0m \u001b[0mfun\u001b[0m\u001b[0;34m,\u001b[0m \u001b[0;34m*\u001b[0m\u001b[0margs\u001b[0m\u001b[0;34m,\u001b[0m \u001b[0;34m**\u001b[0m\u001b[0mparams\u001b[0m\u001b[0;34m)\u001b[0m\u001b[0;34m\u001b[0m\u001b[0;34m\u001b[0m\u001b[0m\n\u001b[0m\u001b[1;32m   1566\u001b[0m \u001b[0;34m\u001b[0m\u001b[0m\n",
      "\u001b[0;32m/usr/local/lib/python3.8/dist-packages/jax/core.py\u001b[0m in \u001b[0;36mcall_bind\u001b[0;34m(primitive, fun, *args, **params)\u001b[0m\n\u001b[1;32m   1555\u001b[0m   \u001b[0;32mwith\u001b[0m \u001b[0mmaybe_new_sublevel\u001b[0m\u001b[0;34m(\u001b[0m\u001b[0mtop_trace\u001b[0m\u001b[0;34m)\u001b[0m\u001b[0;34m:\u001b[0m\u001b[0;34m\u001b[0m\u001b[0;34m\u001b[0m\u001b[0m\n\u001b[0;32m-> 1556\u001b[0;31m     \u001b[0mouts\u001b[0m \u001b[0;34m=\u001b[0m \u001b[0mprimitive\u001b[0m\u001b[0;34m.\u001b[0m\u001b[0mprocess\u001b[0m\u001b[0;34m(\u001b[0m\u001b[0mtop_trace\u001b[0m\u001b[0;34m,\u001b[0m \u001b[0mfun\u001b[0m\u001b[0;34m,\u001b[0m \u001b[0mtracers\u001b[0m\u001b[0;34m,\u001b[0m \u001b[0mparams\u001b[0m\u001b[0;34m)\u001b[0m\u001b[0;34m\u001b[0m\u001b[0;34m\u001b[0m\u001b[0m\n\u001b[0m\u001b[1;32m   1557\u001b[0m   \u001b[0;32mreturn\u001b[0m \u001b[0mmap\u001b[0m\u001b[0;34m(\u001b[0m\u001b[0mfull_lower\u001b[0m\u001b[0;34m,\u001b[0m \u001b[0mapply_todos\u001b[0m\u001b[0;34m(\u001b[0m\u001b[0menv_trace_todo\u001b[0m\u001b[0;34m(\u001b[0m\u001b[0;34m)\u001b[0m\u001b[0;34m,\u001b[0m \u001b[0mouts\u001b[0m\u001b[0;34m)\u001b[0m\u001b[0;34m)\u001b[0m\u001b[0;34m\u001b[0m\u001b[0;34m\u001b[0m\u001b[0m\n",
      "\u001b[0;32m/usr/local/lib/python3.8/dist-packages/jax/core.py\u001b[0m in \u001b[0;36mprocess\u001b[0;34m(self, trace, fun, tracers, params)\u001b[0m\n\u001b[1;32m   1567\u001b[0m   \u001b[0;32mdef\u001b[0m \u001b[0mprocess\u001b[0m\u001b[0;34m(\u001b[0m\u001b[0mself\u001b[0m\u001b[0;34m,\u001b[0m \u001b[0mtrace\u001b[0m\u001b[0;34m,\u001b[0m \u001b[0mfun\u001b[0m\u001b[0;34m,\u001b[0m \u001b[0mtracers\u001b[0m\u001b[0;34m,\u001b[0m \u001b[0mparams\u001b[0m\u001b[0;34m)\u001b[0m\u001b[0;34m:\u001b[0m\u001b[0;34m\u001b[0m\u001b[0;34m\u001b[0m\u001b[0m\n\u001b[0;32m-> 1568\u001b[0;31m     \u001b[0;32mreturn\u001b[0m \u001b[0mtrace\u001b[0m\u001b[0;34m.\u001b[0m\u001b[0mprocess_call\u001b[0m\u001b[0;34m(\u001b[0m\u001b[0mself\u001b[0m\u001b[0;34m,\u001b[0m \u001b[0mfun\u001b[0m\u001b[0;34m,\u001b[0m \u001b[0mtracers\u001b[0m\u001b[0;34m,\u001b[0m \u001b[0mparams\u001b[0m\u001b[0;34m)\u001b[0m\u001b[0;34m\u001b[0m\u001b[0;34m\u001b[0m\u001b[0m\n\u001b[0m\u001b[1;32m   1569\u001b[0m \u001b[0;34m\u001b[0m\u001b[0m\n",
      "\u001b[0;32m/usr/local/lib/python3.8/dist-packages/jax/core.py\u001b[0m in \u001b[0;36mprocess_call\u001b[0;34m(self, primitive, f, tracers, params)\u001b[0m\n\u001b[1;32m    608\u001b[0m   \u001b[0;32mdef\u001b[0m \u001b[0mprocess_call\u001b[0m\u001b[0;34m(\u001b[0m\u001b[0mself\u001b[0m\u001b[0;34m,\u001b[0m \u001b[0mprimitive\u001b[0m\u001b[0;34m,\u001b[0m \u001b[0mf\u001b[0m\u001b[0;34m,\u001b[0m \u001b[0mtracers\u001b[0m\u001b[0;34m,\u001b[0m \u001b[0mparams\u001b[0m\u001b[0;34m)\u001b[0m\u001b[0;34m:\u001b[0m\u001b[0;34m\u001b[0m\u001b[0;34m\u001b[0m\u001b[0m\n\u001b[0;32m--> 609\u001b[0;31m     \u001b[0;32mreturn\u001b[0m \u001b[0mprimitive\u001b[0m\u001b[0;34m.\u001b[0m\u001b[0mimpl\u001b[0m\u001b[0;34m(\u001b[0m\u001b[0mf\u001b[0m\u001b[0;34m,\u001b[0m \u001b[0;34m*\u001b[0m\u001b[0mtracers\u001b[0m\u001b[0;34m,\u001b[0m \u001b[0;34m**\u001b[0m\u001b[0mparams\u001b[0m\u001b[0;34m)\u001b[0m\u001b[0;34m\u001b[0m\u001b[0;34m\u001b[0m\u001b[0m\n\u001b[0m\u001b[1;32m    610\u001b[0m   \u001b[0mprocess_map\u001b[0m \u001b[0;34m=\u001b[0m \u001b[0mprocess_call\u001b[0m\u001b[0;34m\u001b[0m\u001b[0;34m\u001b[0m\u001b[0m\n",
      "\u001b[0;32m/usr/local/lib/python3.8/dist-packages/jax/interpreters/xla.py\u001b[0m in \u001b[0;36m_xla_call_impl\u001b[0;34m(fun, device, backend, name, donated_invars, *args)\u001b[0m\n\u001b[1;32m    577\u001b[0m \u001b[0;32mdef\u001b[0m \u001b[0m_xla_call_impl\u001b[0m\u001b[0;34m(\u001b[0m\u001b[0mfun\u001b[0m\u001b[0;34m:\u001b[0m \u001b[0mlu\u001b[0m\u001b[0;34m.\u001b[0m\u001b[0mWrappedFun\u001b[0m\u001b[0;34m,\u001b[0m \u001b[0;34m*\u001b[0m\u001b[0margs\u001b[0m\u001b[0;34m,\u001b[0m \u001b[0mdevice\u001b[0m\u001b[0;34m,\u001b[0m \u001b[0mbackend\u001b[0m\u001b[0;34m,\u001b[0m \u001b[0mname\u001b[0m\u001b[0;34m,\u001b[0m \u001b[0mdonated_invars\u001b[0m\u001b[0;34m)\u001b[0m\u001b[0;34m:\u001b[0m\u001b[0;34m\u001b[0m\u001b[0;34m\u001b[0m\u001b[0m\n\u001b[0;32m--> 578\u001b[0;31m   compiled_fun = _xla_callable(fun, device, backend, name, donated_invars,\n\u001b[0m\u001b[1;32m    579\u001b[0m                                *unsafe_map(arg_spec, args))\n",
      "\u001b[0;32m/usr/local/lib/python3.8/dist-packages/jax/linear_util.py\u001b[0m in \u001b[0;36mmemoized_fun\u001b[0;34m(fun, *args)\u001b[0m\n\u001b[1;32m    261\u001b[0m     \u001b[0;32melse\u001b[0m\u001b[0;34m:\u001b[0m\u001b[0;34m\u001b[0m\u001b[0;34m\u001b[0m\u001b[0m\n\u001b[0;32m--> 262\u001b[0;31m       \u001b[0mans\u001b[0m \u001b[0;34m=\u001b[0m \u001b[0mcall\u001b[0m\u001b[0;34m(\u001b[0m\u001b[0mfun\u001b[0m\u001b[0;34m,\u001b[0m \u001b[0;34m*\u001b[0m\u001b[0margs\u001b[0m\u001b[0;34m)\u001b[0m\u001b[0;34m\u001b[0m\u001b[0;34m\u001b[0m\u001b[0m\n\u001b[0m\u001b[1;32m    263\u001b[0m       \u001b[0mcache\u001b[0m\u001b[0;34m[\u001b[0m\u001b[0mkey\u001b[0m\u001b[0;34m]\u001b[0m \u001b[0;34m=\u001b[0m \u001b[0;34m(\u001b[0m\u001b[0mans\u001b[0m\u001b[0;34m,\u001b[0m \u001b[0mfun\u001b[0m\u001b[0;34m.\u001b[0m\u001b[0mstores\u001b[0m\u001b[0;34m)\u001b[0m\u001b[0;34m\u001b[0m\u001b[0;34m\u001b[0m\u001b[0m\n",
      "\u001b[0;32m/usr/local/lib/python3.8/dist-packages/jax/interpreters/xla.py\u001b[0m in \u001b[0;36m_xla_callable\u001b[0;34m(fun, device, backend, name, donated_invars, *arg_specs)\u001b[0m\n\u001b[1;32m    651\u001b[0m   \u001b[0mabstract_args\u001b[0m\u001b[0;34m,\u001b[0m \u001b[0m_\u001b[0m \u001b[0;34m=\u001b[0m \u001b[0munzip2\u001b[0m\u001b[0;34m(\u001b[0m\u001b[0marg_specs\u001b[0m\u001b[0;34m)\u001b[0m\u001b[0;34m\u001b[0m\u001b[0;34m\u001b[0m\u001b[0m\n\u001b[0;32m--> 652\u001b[0;31m   \u001b[0mjaxpr\u001b[0m\u001b[0;34m,\u001b[0m \u001b[0mout_avals\u001b[0m\u001b[0;34m,\u001b[0m \u001b[0mconsts\u001b[0m \u001b[0;34m=\u001b[0m \u001b[0mpe\u001b[0m\u001b[0;34m.\u001b[0m\u001b[0mtrace_to_jaxpr_final\u001b[0m\u001b[0;34m(\u001b[0m\u001b[0mfun\u001b[0m\u001b[0;34m,\u001b[0m \u001b[0mabstract_args\u001b[0m\u001b[0;34m,\u001b[0m \u001b[0mtransform_name\u001b[0m\u001b[0;34m=\u001b[0m\u001b[0;34m\"jit\"\u001b[0m\u001b[0;34m)\u001b[0m\u001b[0;34m\u001b[0m\u001b[0;34m\u001b[0m\u001b[0m\n\u001b[0m\u001b[1;32m    653\u001b[0m   \u001b[0;32mif\u001b[0m \u001b[0many\u001b[0m\u001b[0;34m(\u001b[0m\u001b[0misinstance\u001b[0m\u001b[0;34m(\u001b[0m\u001b[0mc\u001b[0m\u001b[0;34m,\u001b[0m \u001b[0mcore\u001b[0m\u001b[0;34m.\u001b[0m\u001b[0mTracer\u001b[0m\u001b[0;34m)\u001b[0m \u001b[0;32mfor\u001b[0m \u001b[0mc\u001b[0m \u001b[0;32min\u001b[0m \u001b[0mconsts\u001b[0m\u001b[0;34m)\u001b[0m\u001b[0;34m:\u001b[0m\u001b[0;34m\u001b[0m\u001b[0;34m\u001b[0m\u001b[0m\n",
      "\u001b[0;32m/usr/local/lib/python3.8/dist-packages/jax/interpreters/partial_eval.py\u001b[0m in \u001b[0;36mtrace_to_jaxpr_final\u001b[0;34m(fun, in_avals, transform_name)\u001b[0m\n\u001b[1;32m   1208\u001b[0m     \u001b[0mmain\u001b[0m\u001b[0;34m.\u001b[0m\u001b[0mjaxpr_stack\u001b[0m \u001b[0;34m=\u001b[0m \u001b[0;34m(\u001b[0m\u001b[0;34m)\u001b[0m  \u001b[0;31m# type: ignore\u001b[0m\u001b[0;34m\u001b[0m\u001b[0;34m\u001b[0m\u001b[0m\n\u001b[0;32m-> 1209\u001b[0;31m     \u001b[0mjaxpr\u001b[0m\u001b[0;34m,\u001b[0m \u001b[0mout_avals\u001b[0m\u001b[0;34m,\u001b[0m \u001b[0mconsts\u001b[0m \u001b[0;34m=\u001b[0m \u001b[0mtrace_to_subjaxpr_dynamic\u001b[0m\u001b[0;34m(\u001b[0m\u001b[0mfun\u001b[0m\u001b[0;34m,\u001b[0m \u001b[0mmain\u001b[0m\u001b[0;34m,\u001b[0m \u001b[0min_avals\u001b[0m\u001b[0;34m)\u001b[0m\u001b[0;34m\u001b[0m\u001b[0;34m\u001b[0m\u001b[0m\n\u001b[0m\u001b[1;32m   1210\u001b[0m     \u001b[0;32mdel\u001b[0m \u001b[0mfun\u001b[0m\u001b[0;34m,\u001b[0m \u001b[0mmain\u001b[0m\u001b[0;34m\u001b[0m\u001b[0;34m\u001b[0m\u001b[0m\n",
      "\u001b[0;32m/usr/local/lib/python3.8/dist-packages/jax/interpreters/partial_eval.py\u001b[0m in \u001b[0;36mtrace_to_subjaxpr_dynamic\u001b[0;34m(fun, main, in_avals)\u001b[0m\n\u001b[1;32m   1187\u001b[0m     \u001b[0min_tracers\u001b[0m \u001b[0;34m=\u001b[0m \u001b[0mmap\u001b[0m\u001b[0;34m(\u001b[0m\u001b[0mtrace\u001b[0m\u001b[0;34m.\u001b[0m\u001b[0mnew_arg\u001b[0m\u001b[0;34m,\u001b[0m \u001b[0min_avals\u001b[0m\u001b[0;34m)\u001b[0m\u001b[0;34m\u001b[0m\u001b[0;34m\u001b[0m\u001b[0m\n\u001b[0;32m-> 1188\u001b[0;31m     \u001b[0mans\u001b[0m \u001b[0;34m=\u001b[0m \u001b[0mfun\u001b[0m\u001b[0;34m.\u001b[0m\u001b[0mcall_wrapped\u001b[0m\u001b[0;34m(\u001b[0m\u001b[0;34m*\u001b[0m\u001b[0min_tracers\u001b[0m\u001b[0;34m)\u001b[0m\u001b[0;34m\u001b[0m\u001b[0;34m\u001b[0m\u001b[0m\n\u001b[0m\u001b[1;32m   1189\u001b[0m     \u001b[0mout_tracers\u001b[0m \u001b[0;34m=\u001b[0m \u001b[0mmap\u001b[0m\u001b[0;34m(\u001b[0m\u001b[0mtrace\u001b[0m\u001b[0;34m.\u001b[0m\u001b[0mfull_raise\u001b[0m\u001b[0;34m,\u001b[0m \u001b[0mans\u001b[0m\u001b[0;34m)\u001b[0m\u001b[0;34m\u001b[0m\u001b[0;34m\u001b[0m\u001b[0m\n",
      "\u001b[0;32m/usr/local/lib/python3.8/dist-packages/jax/linear_util.py\u001b[0m in \u001b[0;36mcall_wrapped\u001b[0;34m(self, *args, **kwargs)\u001b[0m\n\u001b[1;32m    165\u001b[0m     \u001b[0;32mtry\u001b[0m\u001b[0;34m:\u001b[0m\u001b[0;34m\u001b[0m\u001b[0;34m\u001b[0m\u001b[0m\n\u001b[0;32m--> 166\u001b[0;31m       \u001b[0mans\u001b[0m \u001b[0;34m=\u001b[0m \u001b[0mself\u001b[0m\u001b[0;34m.\u001b[0m\u001b[0mf\u001b[0m\u001b[0;34m(\u001b[0m\u001b[0;34m*\u001b[0m\u001b[0margs\u001b[0m\u001b[0;34m,\u001b[0m \u001b[0;34m**\u001b[0m\u001b[0mdict\u001b[0m\u001b[0;34m(\u001b[0m\u001b[0mself\u001b[0m\u001b[0;34m.\u001b[0m\u001b[0mparams\u001b[0m\u001b[0;34m,\u001b[0m \u001b[0;34m**\u001b[0m\u001b[0mkwargs\u001b[0m\u001b[0;34m)\u001b[0m\u001b[0;34m)\u001b[0m\u001b[0;34m\u001b[0m\u001b[0;34m\u001b[0m\u001b[0m\n\u001b[0m\u001b[1;32m    167\u001b[0m     \u001b[0;32mexcept\u001b[0m\u001b[0;34m:\u001b[0m\u001b[0;34m\u001b[0m\u001b[0;34m\u001b[0m\u001b[0m\n",
      "\u001b[0;32m/usr/local/lib/python3.8/dist-packages/jax/_src/traceback_util.py\u001b[0m in \u001b[0;36mreraise_with_filtered_traceback\u001b[0;34m(*args, **kwargs)\u001b[0m\n\u001b[1;32m    142\u001b[0m     \u001b[0;32mtry\u001b[0m\u001b[0;34m:\u001b[0m\u001b[0;34m\u001b[0m\u001b[0;34m\u001b[0m\u001b[0m\n\u001b[0;32m--> 143\u001b[0;31m       \u001b[0;32mreturn\u001b[0m \u001b[0mfun\u001b[0m\u001b[0;34m(\u001b[0m\u001b[0;34m*\u001b[0m\u001b[0margs\u001b[0m\u001b[0;34m,\u001b[0m \u001b[0;34m**\u001b[0m\u001b[0mkwargs\u001b[0m\u001b[0;34m)\u001b[0m\u001b[0;34m\u001b[0m\u001b[0;34m\u001b[0m\u001b[0m\n\u001b[0m\u001b[1;32m    144\u001b[0m     \u001b[0;32mexcept\u001b[0m \u001b[0mException\u001b[0m \u001b[0;32mas\u001b[0m \u001b[0me\u001b[0m\u001b[0;34m:\u001b[0m\u001b[0;34m\u001b[0m\u001b[0;34m\u001b[0m\u001b[0m\n",
      "\u001b[0;32m/usr/local/lib/python3.8/dist-packages/jax/_src/api.py\u001b[0m in \u001b[0;36mbatched_fun\u001b[0;34m(*args, **kwargs)\u001b[0m\n\u001b[1;32m   1298\u001b[0m     \u001b[0maxis_size\u001b[0m \u001b[0;34m=\u001b[0m \u001b[0m_mapped_axis_size\u001b[0m\u001b[0;34m(\u001b[0m\u001b[0min_tree\u001b[0m\u001b[0;34m,\u001b[0m \u001b[0margs_flat\u001b[0m\u001b[0;34m,\u001b[0m \u001b[0min_axes_flat\u001b[0m\u001b[0;34m,\u001b[0m \u001b[0;34m\"vmap\"\u001b[0m\u001b[0;34m,\u001b[0m \u001b[0mkws\u001b[0m\u001b[0;34m=\u001b[0m\u001b[0;32mTrue\u001b[0m\u001b[0;34m)\u001b[0m\u001b[0;34m\u001b[0m\u001b[0;34m\u001b[0m\u001b[0m\n\u001b[0;32m-> 1299\u001b[0;31m     out_flat = batching.batch(\n\u001b[0m\u001b[1;32m   1300\u001b[0m         \u001b[0mflat_fun\u001b[0m\u001b[0;34m,\u001b[0m \u001b[0maxis_name\u001b[0m\u001b[0;34m,\u001b[0m \u001b[0maxis_size\u001b[0m\u001b[0;34m,\u001b[0m \u001b[0min_axes_flat\u001b[0m\u001b[0;34m,\u001b[0m\u001b[0;34m\u001b[0m\u001b[0;34m\u001b[0m\u001b[0m\n",
      "\u001b[0;32m/usr/local/lib/python3.8/dist-packages/jax/linear_util.py\u001b[0m in \u001b[0;36mcall_wrapped\u001b[0;34m(self, *args, **kwargs)\u001b[0m\n\u001b[1;32m    165\u001b[0m     \u001b[0;32mtry\u001b[0m\u001b[0;34m:\u001b[0m\u001b[0;34m\u001b[0m\u001b[0;34m\u001b[0m\u001b[0m\n\u001b[0;32m--> 166\u001b[0;31m       \u001b[0mans\u001b[0m \u001b[0;34m=\u001b[0m \u001b[0mself\u001b[0m\u001b[0;34m.\u001b[0m\u001b[0mf\u001b[0m\u001b[0;34m(\u001b[0m\u001b[0;34m*\u001b[0m\u001b[0margs\u001b[0m\u001b[0;34m,\u001b[0m \u001b[0;34m**\u001b[0m\u001b[0mdict\u001b[0m\u001b[0;34m(\u001b[0m\u001b[0mself\u001b[0m\u001b[0;34m.\u001b[0m\u001b[0mparams\u001b[0m\u001b[0;34m,\u001b[0m \u001b[0;34m**\u001b[0m\u001b[0mkwargs\u001b[0m\u001b[0;34m)\u001b[0m\u001b[0;34m)\u001b[0m\u001b[0;34m\u001b[0m\u001b[0;34m\u001b[0m\u001b[0m\n\u001b[0m\u001b[1;32m    167\u001b[0m     \u001b[0;32mexcept\u001b[0m\u001b[0;34m:\u001b[0m\u001b[0;34m\u001b[0m\u001b[0;34m\u001b[0m\u001b[0m\n",
      "\u001b[0;32m/usr/local/lib/python3.8/dist-packages/chex/_src/asserts.py\u001b[0m in \u001b[0;36mfn_wrapped\u001b[0;34m(*args, **kwargs)\u001b[0m\n\u001b[1;32m    156\u001b[0m     \u001b[0;32mif\u001b[0m \u001b[0mtracing_counter\u001b[0m \u001b[0;34m>\u001b[0m \u001b[0mn\u001b[0m\u001b[0;34m:\u001b[0m\u001b[0;34m\u001b[0m\u001b[0;34m\u001b[0m\u001b[0m\n\u001b[0;32m--> 157\u001b[0;31m       \u001b[0;32mraise\u001b[0m \u001b[0mAssertionError\u001b[0m\u001b[0;34m(\u001b[0m\u001b[0;34mf\"Function {fn.__name__} is traced > {n} times!\"\u001b[0m\u001b[0;34m)\u001b[0m\u001b[0;34m\u001b[0m\u001b[0;34m\u001b[0m\u001b[0m\n\u001b[0m\u001b[1;32m    158\u001b[0m \u001b[0;34m\u001b[0m\u001b[0m\n",
      "\u001b[0;31mUnfilteredStackTrace\u001b[0m: AssertionError: Function _policy_fn is traced > 1 times!\n\nThe stack trace below excludes JAX-internal frames.\nThe preceding is the original exception that occurred, unmodified.\n\n--------------------",
      "\nThe above exception was the direct cause of the following exception:\n",
      "\u001b[0;31mAssertionError\u001b[0m                            Traceback (most recent call last)",
      "\u001b[0;32m<ipython-input-30-77371382b729>\u001b[0m in \u001b[0;36m<module>\u001b[0;34m\u001b[0m\n\u001b[0;32m----> 1\u001b[0;31m \u001b[0mactor\u001b[0m\u001b[0;34m.\u001b[0m\u001b[0mselect_action\u001b[0m\u001b[0;34m(\u001b[0m\u001b[0molt\u001b[0m\u001b[0;34m)\u001b[0m\u001b[0;34m\u001b[0m\u001b[0;34m\u001b[0m\u001b[0m\n\u001b[0m",
      "\u001b[0;32m/workspace/moozi/actor.py\u001b[0m in \u001b[0;36mselect_action\u001b[0;34m(self, observation)\u001b[0m\n\u001b[1;32m     60\u001b[0m \u001b[0;34m\u001b[0m\u001b[0m\n\u001b[1;32m     61\u001b[0m         \u001b[0;31m# TODO: replace vmap with manual batching?\u001b[0m\u001b[0;34m\u001b[0m\u001b[0;34m\u001b[0m\u001b[0;34m\u001b[0m\u001b[0m\n\u001b[0;32m---> 62\u001b[0;31m         \u001b[0;31m# https://github.com/deepmind/acme/blob/926b17ad116578801a0fbbe73c4ddc276a28e23e/acme/agents/jax/actors.py#L76\u001b[0m\u001b[0;34m\u001b[0m\u001b[0;34m\u001b[0m\u001b[0;34m\u001b[0m\u001b[0m\n\u001b[0m\u001b[1;32m     63\u001b[0m         \u001b[0mself\u001b[0m\u001b[0;34m.\u001b[0m\u001b[0m_policy_fn\u001b[0m \u001b[0;34m=\u001b[0m \u001b[0mjax\u001b[0m\u001b[0;34m.\u001b[0m\u001b[0mjit\u001b[0m\u001b[0;34m(\u001b[0m\u001b[0mjax\u001b[0m\u001b[0;34m.\u001b[0m\u001b[0mvmap\u001b[0m\u001b[0;34m(\u001b[0m\u001b[0m_policy_fn\u001b[0m\u001b[0;34m,\u001b[0m \u001b[0min_axes\u001b[0m\u001b[0;34m=\u001b[0m\u001b[0;34m[\u001b[0m\u001b[0;32mNone\u001b[0m\u001b[0;34m,\u001b[0m \u001b[0;36m0\u001b[0m\u001b[0;34m,\u001b[0m \u001b[0;32mNone\u001b[0m\u001b[0;34m]\u001b[0m\u001b[0;34m)\u001b[0m\u001b[0;34m)\u001b[0m\u001b[0;34m\u001b[0m\u001b[0;34m\u001b[0m\u001b[0m\n\u001b[1;32m     64\u001b[0m \u001b[0;34m\u001b[0m\u001b[0m\n",
      "\u001b[0;32m/usr/local/lib/python3.8/dist-packages/chex/_src/asserts.py\u001b[0m in \u001b[0;36mfn_wrapped\u001b[0;34m(*args, **kwargs)\u001b[0m\n\u001b[1;32m    155\u001b[0m     \u001b[0mtracing_counter\u001b[0m \u001b[0;34m+=\u001b[0m \u001b[0mint\u001b[0m\u001b[0;34m(\u001b[0m\u001b[0mhas_tracers_in_args\u001b[0m\u001b[0;34m)\u001b[0m\u001b[0;34m\u001b[0m\u001b[0;34m\u001b[0m\u001b[0m\n\u001b[1;32m    156\u001b[0m     \u001b[0;32mif\u001b[0m \u001b[0mtracing_counter\u001b[0m \u001b[0;34m>\u001b[0m \u001b[0mn\u001b[0m\u001b[0;34m:\u001b[0m\u001b[0;34m\u001b[0m\u001b[0;34m\u001b[0m\u001b[0m\n\u001b[0;32m--> 157\u001b[0;31m       \u001b[0;32mraise\u001b[0m \u001b[0mAssertionError\u001b[0m\u001b[0;34m(\u001b[0m\u001b[0;34mf\"Function {fn.__name__} is traced > {n} times!\"\u001b[0m\u001b[0;34m)\u001b[0m\u001b[0;34m\u001b[0m\u001b[0;34m\u001b[0m\u001b[0m\n\u001b[0m\u001b[1;32m    158\u001b[0m \u001b[0;34m\u001b[0m\u001b[0m\n\u001b[1;32m    159\u001b[0m     \u001b[0;32mreturn\u001b[0m \u001b[0mfn\u001b[0m\u001b[0;34m(\u001b[0m\u001b[0;34m*\u001b[0m\u001b[0margs\u001b[0m\u001b[0;34m,\u001b[0m \u001b[0;34m**\u001b[0m\u001b[0mkwargs\u001b[0m\u001b[0;34m)\u001b[0m\u001b[0;34m\u001b[0m\u001b[0;34m\u001b[0m\u001b[0m\n",
      "\u001b[0;31mAssertionError\u001b[0m: Function _policy_fn is traced > 1 times!"
     ]
    }
   ],
   "source": [
    "actor.select_action(olt)"
   ]
  },
  {
   "cell_type": "code",
   "execution_count": 26,
   "id": "0213e8ce",
   "metadata": {
    "ExecuteTime": {
     "end_time": "2021-05-29T05:41:20.838297Z",
     "start_time": "2021-05-29T05:41:20.821713Z"
    }
   },
   "outputs": [],
   "source": [
    "jax.api??"
   ]
  },
  {
   "cell_type": "code",
   "execution_count": 22,
   "id": "3a20153f",
   "metadata": {
    "ExecuteTime": {
     "end_time": "2021-05-29T03:44:00.054676Z",
     "start_time": "2021-05-29T03:43:59.501209Z"
    }
   },
   "outputs": [
    {
     "data": {
      "text/plain": [
       "FlatMapping({\n",
       "  '__neural_network_haiku/~dyna_net/dyna_reward': FlatMapping({\n",
       "                                                    'b': DeviceArray([-0.48762512], dtype=float32),\n",
       "                                                    'w': DeviceArray([[-0.52710617],\n",
       "                                                                      [-0.2306205 ],\n",
       "                                                                      [-0.81166697],\n",
       "                                                                      [-0.35118422],\n",
       "                                                                      [-0.45461407],\n",
       "                                                                      [-0.5575229 ],\n",
       "                                                                      [-0.86381185],\n",
       "                                                                      [-0.12772408],\n",
       "                                                                      [-0.3639292 ],\n",
       "                                                                      [-0.62909174],\n",
       "                                                                      [-0.64421725],\n",
       "                                                                      [-0.6922296 ],\n",
       "                                                                      [-0.59545517],\n",
       "                                                                      [-0.43335807],\n",
       "                                                                      [-0.49574918],\n",
       "                                                                      [-0.5434597 ]], dtype=float32),\n",
       "                                                  }),\n",
       "  '__neural_network_haiku/~dyna_net/dyna_trans': FlatMapping({\n",
       "                                                   'b': DeviceArray([-0.48762512, -0.48762512, -0.48762512], dtype=float32),\n",
       "                                                   'w': DeviceArray([[-0.4819991 , -0.35129097, -0.79762006],\n",
       "                                                                     [-0.56055   , -0.5815143 , -0.2726524 ],\n",
       "                                                                     [-0.54551464, -0.7326398 , -0.54988104],\n",
       "                                                                     [-0.8706918 , -0.34556094, -0.98242366],\n",
       "                                                                     [-0.6944039 , -0.32415593, -0.38345224],\n",
       "                                                                     [-0.44046873, -0.76568556, -0.38631827],\n",
       "                                                                     [-0.65551865, -0.3295158 , -0.44558862],\n",
       "                                                                     [-0.77425563, -0.43545264, -0.4512921 ],\n",
       "                                                                     [-0.76728237, -0.01644719, -0.11299369],\n",
       "                                                                     [-0.43812186, -0.7562425 , -0.648578  ],\n",
       "                                                                     [-0.112106  , -0.2764576 , -0.24142714],\n",
       "                                                                     [-0.48859665, -0.4593759 , -0.7327204 ],\n",
       "                                                                     [-0.5828358 , -0.47885802, -0.48559934],\n",
       "                                                                     [-0.9203416 , -0.33074808, -0.8158989 ],\n",
       "                                                                     [-0.8303225 , -0.40344512, -0.43480518],\n",
       "                                                                     [-0.87700075, -0.4826864 , -0.45211914]], dtype=float32),\n",
       "                                                 }),\n",
       "  '__neural_network_haiku/~dyna_net/dyna_trunk/~/linear_0': FlatMapping({\n",
       "                                                              'b': DeviceArray([-0.48762512, -0.48762512, -0.48762512, -0.48762512,\n",
       "                                                                                -0.48762512, -0.48762512, -0.48762512, -0.48762512,\n",
       "                                                                                -0.48762512, -0.48762512, -0.48762512, -0.48762512,\n",
       "                                                                                -0.48762512, -0.48762512, -0.48762512, -0.48762512],            dtype=float32),\n",
       "                                                              'w': DeviceArray([[-8.7718713e-01, -3.7105399e-01, -3.2409164e-01,\n",
       "                                                                                 -5.1376373e-01, -5.0164664e-01, -5.8795822e-01,\n",
       "                                                                                 -8.8936114e-01, -6.9705772e-01,  4.8045099e-02,\n",
       "                                                                                 -8.9200222e-01, -5.1532251e-01, -7.1253127e-01,\n",
       "                                                                                 -7.1445107e-04, -3.3558017e-01, -2.5800696e-01,\n",
       "                                                                                 -2.0725274e-01],\n",
       "                                                                                [-4.5501119e-01, -9.4111097e-01, -7.9206657e-01,\n",
       "                                                                                 -4.7198382e-01, -9.0191221e-01, -9.3097794e-01,\n",
       "                                                                                 -4.1106659e-01,  2.8088492e-01, -1.1360205e+00,\n",
       "                                                                                 -4.2615345e-01, -3.6571321e-01,  1.8939209e-01,\n",
       "                                                                                 -9.5857668e-01, -8.5046887e-01, -1.1527267e+00,\n",
       "                                                                                 -1.1349270e+00],\n",
       "                                                                                [-6.2150025e-01, -1.0312557e+00,  1.7963839e-01,\n",
       "                                                                                 -5.2408230e-01, -4.3553919e-02, -6.5348732e-01,\n",
       "                                                                                 -1.0828550e+00, -3.3223009e-01, -4.2610478e-01,\n",
       "                                                                                 -5.3606921e-01, -5.2499962e-01, -4.5787716e-01,\n",
       "                                                                                 -5.7092750e-01, -1.0747960e-01, -6.7065942e-01,\n",
       "                                                                                 -8.7872565e-01],\n",
       "                                                                                [-6.8593335e-01, -5.5644691e-02, -5.1102304e-01,\n",
       "                                                                                 -6.6742587e-01, -8.0301821e-01, -1.6406879e-01,\n",
       "                                                                                 -3.5454080e-01, -5.8150178e-01,  2.1028638e-02,\n",
       "                                                                                 -6.4149594e-01, -1.7240900e-01, -7.4773163e-02,\n",
       "                                                                                 -9.1642112e-01, -1.9996607e-01, -1.6778511e-01,\n",
       "                                                                                 -7.9330921e-01],\n",
       "                                                                                [-8.4569573e-01,  2.4531960e-02, -3.9463320e-01,\n",
       "                                                                                 -8.3063030e-01,  1.9537741e-01, -4.4280282e-01,\n",
       "                                                                                 -4.0514469e-01, -2.9599026e-01, -2.2661605e-01,\n",
       "                                                                                 -2.9938072e-01, -2.9163373e-01, -1.2213981e-01,\n",
       "                                                                                 -4.5841023e-01,  3.7399292e-02, -4.3628222e-01,\n",
       "                                                                                  1.5256143e-01],\n",
       "                                                                                [-3.3055505e-01, -6.9826794e-01, -7.5422883e-01,\n",
       "                                                                                 -1.2771847e+00, -2.7634186e-01, -3.7006050e-01,\n",
       "                                                                                 -4.6382993e-01, -5.3297204e-01, -5.7089818e-01,\n",
       "                                                                                 -7.1557474e-01, -9.9673176e-01, -2.4297050e-01,\n",
       "                                                                                 -5.3713602e-01, -7.2477454e-01, -8.9957023e-01,\n",
       "                                                                                 -6.4374584e-01]], dtype=float32),\n",
       "                                                            }),\n",
       "  '__neural_network_haiku/~dyna_net/dyna_trunk/~/linear_1': FlatMapping({\n",
       "                                                              'b': DeviceArray([-0.48762512, -0.48762512, -0.48762512, -0.48762512,\n",
       "                                                                                -0.48762512, -0.48762512, -0.48762512, -0.48762512,\n",
       "                                                                                -0.48762512, -0.48762512, -0.48762512, -0.48762512,\n",
       "                                                                                -0.48762512, -0.48762512, -0.48762512, -0.48762512],            dtype=float32),\n",
       "                                                              'w': DeviceArray([[-0.2551639 , -0.60235965,  0.00581318, -0.11718649,\n",
       "                                                                                 -0.512214  , -0.6331575 , -0.5446635 , -0.49729562,\n",
       "                                                                                 -0.8817948 , -0.6162238 , -0.46319702, -0.4088828 ,\n",
       "                                                                                 -0.48636004, -0.6926509 , -0.5383279 , -0.79049945],\n",
       "                                                                                [-0.63953453, -0.71979994, -0.48834515, -0.8157569 ,\n",
       "                                                                                 -0.6826368 , -0.6882036 , -0.5213122 , -0.5294579 ,\n",
       "                                                                                 -0.27918553, -0.47740972, -0.6314627 , -0.49689123,\n",
       "                                                                                 -0.05965701, -0.15183705, -0.5993278 , -0.9081068 ],\n",
       "                                                                                [-0.634936  , -0.3031779 , -0.0399166 , -0.5750413 ,\n",
       "                                                                                 -0.40689003, -0.56314486, -0.4086217 , -0.75373113,\n",
       "                                                                                 -0.43818882, -0.6568622 , -0.5753939 , -0.32127082,\n",
       "                                                                                 -0.59530663, -0.7740278 , -0.23169377, -0.28703046],\n",
       "                                                                                [-0.6433931 , -0.37402886, -0.255366  , -0.5428921 ,\n",
       "                                                                                 -0.82873976, -0.24808773, -0.42693388, -0.7093855 ,\n",
       "                                                                                 -0.36770093, -0.6053766 , -0.25765574, -0.13760352,\n",
       "                                                                                 -0.62426645, -0.5241052 , -0.5089732 , -0.24967046],\n",
       "                                                                                [-0.17811349, -0.3402902 , -0.8018566 , -0.3897317 ,\n",
       "                                                                                 -0.64642626, -0.6357068 , -0.6856004 , -0.11230761,\n",
       "                                                                                 -0.3037258 , -0.19921297, -0.51942563, -0.47322994,\n",
       "                                                                                 -0.56268466, -0.44602573, -0.34394372, -0.57975197],\n",
       "                                                                                [-0.7932607 , -0.3822811 , -0.36434263, -0.5005232 ,\n",
       "                                                                                 -0.4560475 , -0.3396202 , -0.7701288 , -0.53042305,\n",
       "                                                                                 -0.70259035, -0.6211642 , -0.62716484, -0.32190955,\n",
       "                                                                                 -0.45901024, -0.40170467, -0.06170371, -0.66216916],\n",
       "                                                                                [-0.88295615, -0.6311108 , -0.70722216, -0.417028  ,\n",
       "                                                                                 -0.72634155, -0.31548077, -0.62892914, -0.89881706,\n",
       "                                                                                 -0.32078397, -0.15670231, -0.68200815, -0.29672137,\n",
       "                                                                                 -0.38105738, -0.832989  , -0.16619325, -0.5277387 ],\n",
       "                                                                                [-0.8059432 , -0.25658035, -0.6189419 , -0.4032276 ,\n",
       "                                                                                 -0.03971338, -0.71761304, -0.9416177 , -0.92221844,\n",
       "                                                                                 -0.09954625, -0.547573  , -0.9794446 , -0.34018025,\n",
       "                                                                                 -0.41826344, -0.04930481, -0.5029149 , -0.65052104],\n",
       "                                                                                [-0.520932  , -0.6429608 , -0.2876283 , -0.02601549,\n",
       "                                                                                 -0.5076878 , -0.5858751 , -0.71005714, -0.6110111 ,\n",
       "                                                                                 -0.11172864, -0.34015775, -0.88311607, -0.60861206,\n",
       "                                                                                 -0.6826596 , -0.14945346, -0.47889447, -0.51405215],\n",
       "                                                                                [-0.31630236, -0.76227283, -0.35064   , -0.5500736 ,\n",
       "                                                                                 -0.61263525, -0.5848782 , -0.8892501 , -0.58936286,\n",
       "                                                                                 -0.69088006, -0.45125645, -0.27246946, -0.43050537,\n",
       "                                                                                 -0.6410425 , -0.3202568 , -0.4947058 , -0.15956464],\n",
       "                                                                                [-0.33606696, -0.40580752, -0.8714797 , -0.4704729 ,\n",
       "                                                                                 -0.41433388, -0.56160855, -0.6698559 , -0.47313493,\n",
       "                                                                                 -0.39795238, -0.61055803, -0.3235272 , -0.49492216,\n",
       "                                                                                 -0.41789585, -0.7890887 , -0.74218595, -0.8818116 ],\n",
       "                                                                                [-0.6411964 , -0.5687203 , -0.49377054, -0.8404999 ,\n",
       "                                                                                 -0.3761939 , -0.46854776, -0.4337801 , -0.20358607,\n",
       "                                                                                 -0.47532845, -0.7113244 , -0.22096714, -0.04361364,\n",
       "                                                                                 -0.53381586, -0.5476556 , -0.5086232 , -0.652685  ],\n",
       "                                                                                [-0.44483915, -0.8587276 , -0.5013032 , -0.6426542 ,\n",
       "                                                                                 -0.29726484, -0.87974894, -0.8617504 , -0.34939212,\n",
       "                                                                                 -0.79374814, -0.4782709 , -0.01880074, -0.6518375 ,\n",
       "                                                                                 -0.61987114, -0.07863602, -0.03936392, -0.5888818 ],\n",
       "                                                                                [-0.76066756, -0.75014013, -0.1735942 , -0.52968526,\n",
       "                                                                                 -0.47432238, -0.6877317 , -0.53942317, -0.50574756,\n",
       "                                                                                 -0.44704822, -0.3651769 , -0.43628028, -0.75191903,\n",
       "                                                                                 -0.61070234, -0.8801694 , -0.56215084, -0.39785323],\n",
       "                                                                                [-0.14111036, -0.40630627, -0.51994497, -0.79452515,\n",
       "                                                                                 -0.7538164 , -0.5812487 , -0.48338252, -0.04848236,\n",
       "                                                                                 -0.4073673 , -0.200308  , -0.31823236, -0.4654053 ,\n",
       "                                                                                 -0.44505274, -0.54886633, -0.7368508 , -0.11091486],\n",
       "                                                                                [-0.36957967, -0.0481905 , -0.32361436, -0.402683  ,\n",
       "                                                                                 -0.5474623 , -0.6788086 , -0.7577777 , -0.5014329 ,\n",
       "                                                                                 -0.43920326, -0.5138215 , -0.36736682, -0.8750898 ,\n",
       "                                                                                 -0.3065079 , -0.42356506, -0.666764  , -0.69101346]],            dtype=float32),\n",
       "                                                            }),\n",
       "  '__neural_network_haiku/~pred_net/pred_p': FlatMapping({\n",
       "                                               'b': DeviceArray([-0.48762512, -0.48762512, -0.48762512], dtype=float32),\n",
       "                                               'w': DeviceArray([[-0.3869754 , -0.3094815 , -0.8440705 ],\n",
       "                                                                 [-0.33336613, -0.34754092, -0.06385559],\n",
       "                                                                 [-0.5589911 , -0.85248035, -0.6188839 ],\n",
       "                                                                 [-0.82085276, -0.51633096, -0.79205596],\n",
       "                                                                 [-0.28441596, -0.03268319, -0.28533375],\n",
       "                                                                 [-0.10618421, -0.13266012, -0.8831739 ],\n",
       "                                                                 [-0.4235931 , -0.38537028, -0.45725304],\n",
       "                                                                 [-0.3850606 , -0.6963467 , -0.55473965],\n",
       "                                                                 [-0.53102285, -0.37130013, -0.05854252],\n",
       "                                                                 [-0.6628011 , -0.45182705, -0.25106707],\n",
       "                                                                 [-0.55065185, -0.54290694, -0.32465065],\n",
       "                                                                 [-0.4889497 , -0.5785987 , -0.45372298],\n",
       "                                                                 [-0.31479466, -0.8799192 , -0.49213323],\n",
       "                                                                 [-0.7037275 , -0.5710095 , -0.41156054],\n",
       "                                                                 [-0.60231054, -0.71136165, -0.85383534],\n",
       "                                                                 [-0.4233811 , -0.24839592, -0.26425594]], dtype=float32),\n",
       "                                             }),\n",
       "  '__neural_network_haiku/~pred_net/pred_trunk/~/linear_0': FlatMapping({\n",
       "                                                              'b': DeviceArray([-0.48762512, -0.48762512, -0.48762512, -0.48762512,\n",
       "                                                                                -0.48762512, -0.48762512, -0.48762512, -0.48762512,\n",
       "                                                                                -0.48762512, -0.48762512, -0.48762512, -0.48762512,\n",
       "                                                                                -0.48762512, -0.48762512, -0.48762512, -0.48762512],            dtype=float32),\n",
       "                                                              'w': DeviceArray([[-5.85110068e-01, -5.46563387e-01, -5.00453115e-02,\n",
       "                                                                                 -1.03428793e+00,  6.28143191e-01, -5.02020419e-01,\n",
       "                                                                                 -5.16985953e-01, -7.58470476e-01,  4.44148660e-01,\n",
       "                                                                                 -5.63984931e-01,  4.89665270e-02, -6.26677990e-01,\n",
       "                                                                                 -8.07522178e-01, -3.08899730e-01,  1.18821859e-04,\n",
       "                                                                                 -5.24071276e-01],\n",
       "                                                                                [-6.75192714e-01, -8.11873317e-01, -3.34709406e-01,\n",
       "                                                                                 -4.26671177e-01, -3.23251456e-01, -6.40309632e-01,\n",
       "                                                                                 -1.19386792e-01, -3.75490785e-01,  1.01186395e-01,\n",
       "                                                                                  2.24342406e-01, -5.00863969e-01, -1.38525677e+00,\n",
       "                                                                                 -8.96918178e-01, -2.51124501e-01, -7.32243419e-01,\n",
       "                                                                                 -3.61370742e-01],\n",
       "                                                                                [-1.79132879e-01,  1.61057889e-01, -3.12054157e-03,\n",
       "                                                                                 -9.40907538e-01, -1.06467962e+00, -4.15077537e-01,\n",
       "                                                                                 -9.17215884e-01,  5.76013207e-01, -3.17875087e-01,\n",
       "                                                                                  2.44951606e-01, -2.65037715e-02, -1.58641505e+00,\n",
       "                                                                                 -1.87827796e-01, -1.03958321e+00, -1.11673594e-01,\n",
       "                                                                                 -9.68214989e-01]], dtype=float32),\n",
       "                                                            }),\n",
       "  '__neural_network_haiku/~pred_net/pred_trunk/~/linear_1': FlatMapping({\n",
       "                                                              'b': DeviceArray([-0.48762512, -0.48762512, -0.48762512, -0.48762512,\n",
       "                                                                                -0.48762512, -0.48762512, -0.48762512, -0.48762512,\n",
       "                                                                                -0.48762512, -0.48762512, -0.48762512, -0.48762512,\n",
       "                                                                                -0.48762512, -0.48762512, -0.48762512, -0.48762512],            dtype=float32),\n",
       "                                                              'w': DeviceArray([[-0.9409244 , -0.475724  , -0.6437322 , -0.51600444,\n",
       "                                                                                 -0.53619623, -0.66983694, -0.7152204 , -0.17576477,\n",
       "                                                                                 -0.61399627, -0.49799368, -0.760824  , -0.6177706 ,\n",
       "                                                                                 -0.75462765, -0.4480095 , -0.30450147, -0.28615004],\n",
       "                                                                                [-0.4597478 , -0.54640293, -0.2750782 , -0.46625355,\n",
       "                                                                                 -0.2626315 , -0.42668253, -0.7608703 , -0.6244048 ,\n",
       "                                                                                 -0.72299236, -0.9304614 , -0.6560069 , -0.7912585 ,\n",
       "                                                                                 -0.7412027 , -0.9465703 , -0.3781319 , -0.6784572 ],\n",
       "                                                                                [-0.40667668, -0.44231516, -0.48508495, -0.17571148,\n",
       "                                                                                 -0.45362806, -0.98285955, -0.3782673 , -0.76411223,\n",
       "                                                                                 -0.53901875, -0.42624542, -0.24264191, -0.7230853 ,\n",
       "                                                                                 -0.15426883, -0.42167643, -0.8794886 , -0.46143198],\n",
       "                                                                                [-0.00819737, -0.7340697 , -0.4070812 , -0.7189885 ,\n",
       "                                                                                 -0.39183915, -0.30000293, -0.64401734, -0.6052711 ,\n",
       "                                                                                 -0.4841122 , -0.73419565, -0.41501713, -0.2925935 ,\n",
       "                                                                                 -0.44465628, -0.49740744, -0.7022733 , -0.38748854],\n",
       "                                                                                [-0.6909164 , -0.28494173, -0.51126856, -0.4702965 ,\n",
       "                                                                                 -0.98391086, -0.6015073 , -0.6330377 , -0.17817104,\n",
       "                                                                                 -0.7325382 , -0.18628228, -0.38916412, -0.4794691 ,\n",
       "                                                                                 -0.5006012 , -0.6523721 , -0.56096506, -0.677713  ],\n",
       "                                                                                [-0.12271813, -0.5293606 , -0.77863693, -0.36349094,\n",
       "                                                                                 -0.47654295, -0.38943616, -0.50989646, -0.569166  ,\n",
       "                                                                                 -0.5903673 , -0.27983814, -0.23202753, -0.40772054,\n",
       "                                                                                 -0.43035576, -0.27836722, -0.19881645, -0.7814576 ],\n",
       "                                                                                [-0.8172599 , -0.34392148, -0.48557696, -0.6349402 ,\n",
       "                                                                                 -0.2328346 , -0.5071486 , -0.2956094 , -0.3268749 ,\n",
       "                                                                                 -0.7844913 , -0.9312575 , -0.44924247, -0.2763341 ,\n",
       "                                                                                 -0.36200365, -0.33706462, -0.4214153 , -0.03321779],\n",
       "                                                                                [-0.4170162 , -0.27061826, -0.5684732 , -0.37274528,\n",
       "                                                                                 -0.27695602, -0.5407546 , -0.7185731 , -0.64434904,\n",
       "                                                                                 -0.80786633, -0.76599824, -0.44292122, -0.14419782,\n",
       "                                                                                 -0.270303  , -0.574615  , -0.80382204, -0.54574585],\n",
       "                                                                                [-0.47478706, -0.81270444, -0.5068428 , -0.20777944,\n",
       "                                                                                 -0.32023305, -0.35942918, -0.5687146 , -0.4431603 ,\n",
       "                                                                                 -0.22927535, -0.41854993, -0.16874489, -0.3302077 ,\n",
       "                                                                                 -0.06463459, -0.27588442, -0.47674593, -0.25091386],\n",
       "                                                                                [-0.7516364 , -0.5438945 , -0.6492264 , -0.8247812 ,\n",
       "                                                                                 -0.47738573, -0.48278967, -0.7890974 , -0.9699765 ,\n",
       "                                                                                 -0.5290768 , -0.8937007 , -0.20581168, -0.43951565,\n",
       "                                                                                 -0.5455111 , -0.5199114 , -0.13191488, -0.58076364],\n",
       "                                                                                [-0.1027672 , -0.5403587 , -0.45612916, -0.769598  ,\n",
       "                                                                                 -0.5041793 , -0.48369524, -0.93683136, -0.95225805,\n",
       "                                                                                 -0.63234717, -0.23280519, -0.33859414, -0.48813552,\n",
       "                                                                                 -0.50356406, -0.67724395, -0.38808   , -0.2294429 ],\n",
       "                                                                                [-0.5766343 , -0.17028937,  0.01127383, -0.39521402,\n",
       "                                                                                 -0.5625074 , -0.28919655, -0.58887804, -0.60841   ,\n",
       "                                                                                 -0.25768548, -0.42700416, -0.98024154, -0.96248424,\n",
       "                                                                                 -0.42016864, -0.06990835, -0.24201185, -0.12006116],\n",
       "                                                                                [-0.9795291 , -0.11310697, -0.7998682 , -0.2558645 ,\n",
       "                                                                                 -0.5156083 , -0.24103071, -0.8036963 , -0.5088499 ,\n",
       "                                                                                 -0.5693086 , -0.45918593, -0.71692896, -0.4287758 ,\n",
       "                                                                                 -0.15855679, -0.6903193 , -0.62495875, -0.6705546 ],\n",
       "                                                                                [-0.35872614, -0.4492588 , -0.45599988, -0.32134414,\n",
       "                                                                                 -0.42068464, -0.23923424, -0.47661674, -0.45459425,\n",
       "                                                                                 -0.25283128, -0.5353471 , -0.77030045, -0.5199407 ,\n",
       "                                                                                 -0.85965526, -0.53735876, -0.7050972 , -0.4335899 ],\n",
       "                                                                                [-0.66356206, -0.32466   , -0.9104471 , -0.3440856 ,\n",
       "                                                                                 -0.45499203, -0.79426193, -0.8852519 , -0.29998732,\n",
       "                                                                                 -0.11257747, -0.31879804, -0.48227724, -0.25871566,\n",
       "                                                                                 -0.50218284, -0.13383627, -0.40549496, -0.46759266],\n",
       "                                                                                [-0.5303897 , -0.23818886, -0.60957855, -0.6263372 ,\n",
       "                                                                                 -0.3719743 , -0.3804311 , -0.09000391, -0.552847  ,\n",
       "                                                                                 -0.50776297, -0.49778008, -0.6855981 , -0.40588397,\n",
       "                                                                                 -0.46025115, -0.30415815, -0.38771453, -0.09400263]],            dtype=float32),\n",
       "                                                            }),\n",
       "  '__neural_network_haiku/~pred_net/pred_v': FlatMapping({\n",
       "                                               'b': DeviceArray([-0.48762512], dtype=float32),\n",
       "                                               'w': DeviceArray([[-0.6062666 ],\n",
       "                                                                 [-0.20614657],\n",
       "                                                                 [-0.77614355],\n",
       "                                                                 [-0.5725566 ],\n",
       "                                                                 [-0.20998338],\n",
       "                                                                 [-0.6018787 ],\n",
       "                                                                 [-0.47211355],\n",
       "                                                                 [-0.7923726 ],\n",
       "                                                                 [-0.46284893],\n",
       "                                                                 [-0.84087634],\n",
       "                                                                 [-0.15611118],\n",
       "                                                                 [-0.33932996],\n",
       "                                                                 [-0.96263283],\n",
       "                                                                 [-0.7864404 ],\n",
       "                                                                 [-0.7686354 ],\n",
       "                                                                 [-0.8436531 ]], dtype=float32),\n",
       "                                             }),\n",
       "  '__neural_network_haiku/~repr_net/repr/~/linear_0': FlatMapping({\n",
       "                                                        'b': DeviceArray([-0.48762512, -0.48762512, -0.48762512, -0.48762512,\n",
       "                                                                          -0.48762512, -0.48762512, -0.48762512, -0.48762512,\n",
       "                                                                          -0.48762512, -0.48762512, -0.48762512, -0.48762512,\n",
       "                                                                          -0.48762512, -0.48762512, -0.48762512, -0.48762512],            dtype=float32),\n",
       "                                                        'w': DeviceArray([[-0.3692466 , -0.57005334, -0.47544283, -0.5552412 ,\n",
       "                                                                           -0.65533376, -0.21723238, -0.64226186, -0.4530524 ,\n",
       "                                                                           -0.37037474, -0.32024208, -0.67749155, -0.20903692,\n",
       "                                                                           -0.40652406, -0.37976593, -0.18714482, -0.35366774],\n",
       "                                                                          [-0.4881829 , -0.6103138 , -0.4693313 , -0.5320525 ,\n",
       "                                                                           -0.5588621 , -0.7574348 , -0.4713609 , -0.5394491 ,\n",
       "                                                                           -0.42057127, -0.39596698, -0.4351368 , -0.40248367,\n",
       "                                                                           -0.20048743, -0.476836  , -0.5637303 , -0.5053121 ],\n",
       "                                                                          [-0.1818406 , -0.27364516, -0.57957757, -0.5570742 ,\n",
       "                                                                           -0.4624784 , -0.49490163, -0.23942617, -0.42642808,\n",
       "                                                                           -0.44452772, -0.695974  , -0.653038  , -0.74566865,\n",
       "                                                                           -0.68183255, -0.51562715, -0.54916984, -0.5048398 ],\n",
       "                                                                          [-0.6204394 , -0.4885114 , -0.48355716, -0.27040905,\n",
       "                                                                           -0.17039916, -0.55050147, -0.60076123, -0.771971  ,\n",
       "                                                                           -0.57320076, -0.24281177, -0.5926429 , -0.6044894 ,\n",
       "                                                                           -0.4034568 , -0.5456544 , -0.46085307, -0.49510652],\n",
       "                                                                          [-0.53704584, -0.6843119 , -0.5075855 , -0.6633912 ,\n",
       "                                                                           -0.25048882, -0.22058263, -0.5137193 , -0.44204506,\n",
       "                                                                           -0.53833115, -0.38460064, -0.7325946 , -0.6974135 ,\n",
       "                                                                           -0.4878301 , -0.41280293, -0.16822681, -0.2287184 ],\n",
       "                                                                          [-0.35970628, -0.55815995, -0.66606957, -0.19117382,\n",
       "                                                                           -0.6366532 , -0.60927546, -0.28748542, -0.4383087 ,\n",
       "                                                                           -0.48630622, -0.30848402, -0.34796047, -0.60935754,\n",
       "                                                                           -0.4140574 , -0.6579685 , -0.4393888 , -0.3191809 ],\n",
       "                                                                          [-0.67380714, -0.48064157, -0.320485  , -0.4657166 ,\n",
       "                                                                           -0.70590395, -0.69417197, -0.62992525, -0.49410394,\n",
       "                                                                           -0.51217526, -0.64088595, -0.38667664, -0.2693181 ,\n",
       "                                                                           -0.47832316, -0.630008  , -0.38523117, -0.4504391 ],\n",
       "                                                                          [-0.6100194 , -0.60842156, -0.5428323 , -0.34172148,\n",
       "                                                                           -0.60405993, -0.66363996, -0.24958225, -0.4588211 ,\n",
       "                                                                           -0.30290514, -0.51131743, -0.57763076, -0.27744094,\n",
       "                                                                           -0.32468557, -0.6005723 , -0.2685144 , -0.7139472 ],\n",
       "                                                                          [-0.66333485, -0.3694963 , -0.45972204, -0.5637033 ,\n",
       "                                                                           -0.55423665, -0.35924566, -0.7059573 , -0.5225699 ,\n",
       "                                                                           -0.5019587 , -0.52829725, -0.26962304, -0.5739049 ,\n",
       "                                                                           -0.5287933 , -0.68493265, -0.49137005, -0.5853432 ],\n",
       "                                                                          [-0.536759  , -0.65139884, -0.5270225 , -0.59266216,\n",
       "                                                                           -0.48394158, -0.45351332, -0.4126765 , -0.229763  ,\n",
       "                                                                           -0.59311825, -0.20049587, -0.70728827, -0.40304807,\n",
       "                                                                           -0.28472233, -0.5566226 , -0.69465524, -0.49937242],\n",
       "                                                                          [-0.7012779 , -0.6782119 , -0.46324205, -0.3572755 ,\n",
       "                                                                           -0.4861338 , -0.60552347, -0.5581491 , -0.55220485,\n",
       "                                                                           -0.39039192, -0.48094398, -0.5242382 , -0.64630884,\n",
       "                                                                           -0.4476342 , -0.59246147, -0.5244909 , -0.4950973 ],\n",
       "                                                                          [-0.33536422, -0.29537243, -0.6106895 , -0.48296627,\n",
       "                                                                           -0.7734759 , -0.50552803, -0.34371054, -0.5952793 ,\n",
       "                                                                           -0.48900014, -0.25275877, -0.448052  , -0.47453862,\n",
       "                                                                           -0.54035056, -0.3165518 , -0.643873  , -0.59885275],\n",
       "                                                                          [-0.50811905, -0.51334983, -0.6081216 , -0.45893753,\n",
       "                                                                           -0.59703547, -0.36475965, -0.5311234 , -0.5627298 ,\n",
       "                                                                           -0.5944171 , -0.67555654, -0.2820893 , -0.53049964,\n",
       "                                                                           -0.56721365, -0.4531725 , -0.6762543 , -0.55091196],\n",
       "                                                                          [-0.2978407 , -0.6793802 , -0.58903825, -0.20572135,\n",
       "                                                                           -0.38780507, -0.24734418, -0.57233614, -0.4489173 ,\n",
       "                                                                           -0.6357926 , -0.20885485, -0.4065926 , -0.51914763,\n",
       "                                                                           -0.66714317, -0.37576753, -0.48540792, -0.47389603],\n",
       "                                                                          [-0.33161578, -0.3526457 , -0.5551911 , -0.80870223,\n",
       "                                                                           -0.7881129 , -0.69881004, -0.20940712, -0.67420393,\n",
       "                                                                           -0.6278907 , -0.41237146, -0.35734075, -0.46215788,\n",
       "                                                                           -0.5730061 , -0.61442417, -0.5593512 , -0.64545774],\n",
       "                                                                          [-0.5606721 , -0.5029487 , -0.51551545, -0.39601654,\n",
       "                                                                           -0.5230612 , -0.8215786 , -0.487712  , -0.76589996,\n",
       "                                                                           -0.5401767 , -0.2825098 , -0.17871237, -0.4413329 ,\n",
       "                                                                           -0.71308935, -0.24027416, -0.7311198 , -0.41746926],\n",
       "                                                                          [-0.8164258 , -0.5359858 , -0.43298355, -0.37355778,\n",
       "                                                                           -0.57057345, -0.50817394, -0.3560714 , -0.4804334 ,\n",
       "                                                                           -0.22669774, -0.4762057 , -0.43659747, -0.5076803 ,\n",
       "                                                                           -0.37932348, -0.49107602, -0.5180683 , -0.37392306],\n",
       "                                                                          [-0.18472934, -0.58859056, -0.5810867 , -0.27503294,\n",
       "                                                                           -0.30478284, -0.3176083 , -0.62272304, -0.4710488 ,\n",
       "                                                                           -0.33609205, -0.33578825, -0.73430204, -0.52951777,\n",
       "                                                                           -0.43003848, -0.7348944 , -0.5690552 , -0.5701489 ],\n",
       "                                                                          [-0.61443335, -0.33970356, -0.42131627, -0.45441008,\n",
       "                                                                           -0.2652812 , -0.38881338, -0.5928786 , -0.7998052 ,\n",
       "                                                                           -0.49323705, -0.8032013 , -0.46185723, -0.43650693,\n",
       "                                                                           -0.43599075, -0.40163693, -0.6350011 , -0.5712421 ],\n",
       "                                                                          [-0.47992238, -0.56129307, -0.2573359 , -0.6831306 ,\n",
       "                                                                           -0.5800877 , -0.6970842 , -0.2961234 , -0.5666877 ,\n",
       "                                                                           -0.48578575, -0.44352686, -0.7944408 , -0.37094533,\n",
       "                                                                           -0.5063993 , -0.5499727 , -0.7338998 , -0.44671774],\n",
       "                                                                          [-0.55527693, -0.47031632, -0.50461465, -0.5745893 ,\n",
       "                                                                           -0.44253403, -0.4613473 , -0.6610609 , -0.49179333,\n",
       "                                                                           -0.22256333, -0.45863914, -0.26764536, -0.60182893,\n",
       "                                                                           -0.22194332, -0.471639  , -0.5185384 , -0.8048792 ],\n",
       "                                                                          [-0.6182269 , -0.49324003, -0.6639788 , -0.46546745,\n",
       "                                                                           -0.6200193 , -0.29576686, -0.22168419, -0.41058928,\n",
       "                                                                           -0.5369172 , -0.69500244, -0.58379066, -0.493034  ,\n",
       "                                                                           -0.3117147 , -0.41354164, -0.578996  , -0.41731626],\n",
       "                                                                          [-0.47157538, -0.605272  , -0.28606856, -0.35987523,\n",
       "                                                                           -0.34389055, -0.4403813 , -0.59606147, -0.17285073,\n",
       "                                                                           -0.8223139 , -0.34860283, -0.6100359 , -0.27530104,\n",
       "                                                                           -0.19307914, -0.73503095, -0.56299984, -0.7109382 ],\n",
       "                                                                          [-0.25538296, -0.5363309 , -0.65650463, -0.6515869 ,\n",
       "                                                                           -0.4937924 , -0.16154724, -0.46923998, -0.22186226,\n",
       "                                                                           -0.4494262 , -0.4566703 , -0.5580654 , -0.68769395,\n",
       "                                                                           -0.2371262 , -0.3002463 , -0.7559557 , -0.32579717],\n",
       "                                                                          [-0.38879162, -0.6021536 , -0.7038676 , -0.43600303,\n",
       "                                                                           -0.37776282, -0.38448858, -0.57775426, -0.5104361 ,\n",
       "                                                                           -0.29693642, -0.52674925, -0.37339583, -0.6506067 ,\n",
       "                                                                           -0.4671369 , -0.7939182 , -0.32812956, -0.22177842],\n",
       "                                                                          [-0.61555564, -0.71594393, -0.71126604, -0.1732054 ,\n",
       "                                                                           -0.55714256, -0.52417964, -0.740945  , -0.31190807,\n",
       "                                                                           -0.4794194 , -0.7191898 , -0.37516543, -0.6823734 ,\n",
       "                                                                           -0.52819765, -0.3117963 , -0.38451093, -0.3904822 ],\n",
       "                                                                          [-0.23453403, -0.301818  , -0.8022765 , -0.4601846 ,\n",
       "                                                                           -0.27413628, -0.45996866, -0.55119497, -0.3043254 ,\n",
       "                                                                           -0.6719527 , -0.60668784, -0.7029233 , -0.59134626,\n",
       "                                                                           -0.27511805, -0.729075  , -0.35872358, -0.41903663],\n",
       "                                                                          [-0.49315807, -0.24998917, -0.234386  , -0.41243672,\n",
       "                                                                           -0.6171912 , -0.6964844 , -0.25528044, -0.517414  ,\n",
       "                                                                           -0.4370572 , -0.43363857, -0.5495172 , -0.54830545,\n",
       "                                                                           -0.6433276 , -0.5467457 , -0.68078583, -0.49766368],\n",
       "                                                                          [-0.69349074, -0.40751863, -0.40229404, -0.34281784,\n",
       "                                                                           -0.18667725, -0.5248551 , -0.8206879 , -0.38997227,\n",
       "                                                                           -0.61010003, -0.55076647, -0.77712303, -0.4954173 ,\n",
       "                                                                           -0.58067644, -0.3508194 , -0.580293  , -0.43760648],\n",
       "                                                                          [-0.34477836, -0.64179707, -0.6895485 , -0.63851655,\n",
       "                                                                           -0.28688118, -0.68655735, -0.5273985 , -0.5311559 ,\n",
       "                                                                           -0.2889537 , -0.7833504 , -0.39545608, -0.36067402,\n",
       "                                                                           -0.77140784, -0.59634054, -0.5935571 , -0.3349384 ],\n",
       "                                                                          [-0.70287865, -0.35817286, -0.762946  , -0.48281953,\n",
       "                                                                           -0.52887374, -0.5093644 , -0.6665632 , -0.29605865,\n",
       "                                                                           -0.20762944, -0.6175032 , -0.45760202, -0.5624421 ,\n",
       "                                                                           -0.30402535, -0.5981791 , -0.59162074, -0.5859768 ],\n",
       "                                                                          [-0.18857932, -0.454148  , -0.2016792 , -0.26286352,\n",
       "                                                                           -0.5388239 , -0.54145014, -0.45791098, -0.64693636,\n",
       "                                                                           -0.31244674, -0.7056607 , -0.8187988 , -0.5358962 ,\n",
       "                                                                           -0.6848788 , -0.59920865, -0.5662142 , -0.26646   ],\n",
       "                                                                          [-0.46256173, -0.39429927, -0.5063838 , -0.50794774,\n",
       "                                                                           -0.3117293 , -0.31766897, -0.4999567 , -0.8184874 ,\n",
       "                                                                           -0.5054108 , -0.5787491 , -0.564869  , -0.2896006 ,\n",
       "                                                                           -0.61389756, -0.5647436 , -0.22415209, -0.38344842],\n",
       "                                                                          [-0.31554025, -0.36956763, -0.16952279, -0.5322854 ,\n",
       "                                                                           -0.27240914, -0.41607907, -0.61725295, -0.45659113,\n",
       "                                                                           -0.61836773, -0.43219054, -0.47039095, -0.57043934,\n",
       "                                                                           -0.4544959 , -0.2990986 , -0.59406465, -0.4137557 ],\n",
       "                                                                          [-0.3106682 , -0.37236133, -0.62348086, -0.7285713 ,\n",
       "                                                                           -0.60184604, -0.43929136, -0.448287  , -0.3923581 ,\n",
       "                                                                           -0.34699023, -0.44650623, -0.3241421 , -0.5453052 ,\n",
       "                                                                           -0.6548436 , -0.5435082 , -0.6336958 , -0.62979585]],            dtype=float32),\n",
       "                                                      }),\n",
       "  '__neural_network_haiku/~repr_net/repr/~/linear_1': FlatMapping({\n",
       "                                                        'b': DeviceArray([-0.48762512, -0.48762512, -0.48762512, -0.48762512,\n",
       "                                                                          -0.48762512, -0.48762512, -0.48762512, -0.48762512,\n",
       "                                                                          -0.48762512, -0.48762512, -0.48762512, -0.48762512,\n",
       "                                                                          -0.48762512, -0.48762512, -0.48762512, -0.48762512],            dtype=float32),\n",
       "                                                        'w': DeviceArray([[-0.2864501 , -0.9022168 , -0.45100123, -0.11693332,\n",
       "                                                                           -0.24136682, -0.5982845 , -0.43235645, -0.5920375 ,\n",
       "                                                                           -0.84376657, -0.5150847 , -0.5198122 , -0.41533569,\n",
       "                                                                           -0.2409798 , -0.25478244, -0.5173579 , -0.24367382],\n",
       "                                                                          [-0.05711105, -0.4295294 , -0.45335275, -0.00295708,\n",
       "                                                                           -0.55896   , -0.5416683 , -0.6475897 , -0.49161834,\n",
       "                                                                           -0.3753396 , -0.30698705, -0.4259913 , -0.75698876,\n",
       "                                                                           -0.8448313 , -0.47775084, -0.18503073, -0.36529666],\n",
       "                                                                          [-0.25382298, -0.45443705, -0.85690814, -0.39699697,\n",
       "                                                                           -0.5196398 , -0.31972995, -0.35515934, -0.43125784,\n",
       "                                                                           -0.66512704, -0.5606621 , -0.57794946, -0.6917907 ,\n",
       "                                                                           -0.44523248, -0.41067153, -0.10646307, -0.5556233 ],\n",
       "                                                                          [-0.6986594 , -0.73956895, -0.48678046, -0.1545189 ,\n",
       "                                                                           -0.5584842 , -0.4103465 , -0.32880995, -0.81921244,\n",
       "                                                                           -0.68480253, -0.6207235 , -0.2651717 , -0.6988144 ,\n",
       "                                                                           -0.09949762, -0.26377684, -0.61791754, -0.7918992 ],\n",
       "                                                                          [-0.5241258 , -0.41836345, -0.7213899 , -0.51006204,\n",
       "                                                                           -0.48957118, -0.82638335, -0.55768955, -0.44360423,\n",
       "                                                                           -0.11268401, -0.48767823, -0.60703725, -0.47517952,\n",
       "                                                                           -0.4560388 , -0.6570728 , -0.6168705 , -0.34184077],\n",
       "                                                                          [-0.07822156, -0.47187057, -0.5485769 , -0.6979131 ,\n",
       "                                                                           -0.7019644 , -0.18188393, -0.7641111 , -0.42313233,\n",
       "                                                                           -0.42299974, -0.6283786 , -0.2049644 , -0.4545031 ,\n",
       "                                                                           -0.6131864 , -0.45787773, -0.37519273, -0.3320164 ],\n",
       "                                                                          [-0.23277807, -0.58393264, -0.4182402 , -0.49201855,\n",
       "                                                                           -0.40808776, -0.29921305, -0.66477644, -0.22591794,\n",
       "                                                                           -0.44114876, -0.5664398 , -0.38141927, -0.5929407 ,\n",
       "                                                                           -0.55807316, -0.34941512, -0.5907396 , -0.37338218],\n",
       "                                                                          [-0.52538437, -0.34575203, -0.75911754, -0.6513535 ,\n",
       "                                                                           -0.5629346 , -0.20110178, -0.43896952, -0.5998349 ,\n",
       "                                                                           -0.54679316, -0.57617164, -0.69661355, -0.41881597,\n",
       "                                                                           -0.7010762 , -0.61042833, -0.3297209 , -0.67239237],\n",
       "                                                                          [-0.6286094 , -0.82741666, -0.7522234 , -0.8486903 ,\n",
       "                                                                           -0.40259153, -0.13765386, -0.27311152, -0.42898673,\n",
       "                                                                           -0.79580307, -0.40246096, -0.33392322, -0.3231575 ,\n",
       "                                                                           -0.45363307, -0.6545953 , -0.38354674, -0.7765436 ],\n",
       "                                                                          [-0.36098596, -0.54350543, -0.3212813 , -0.3675239 ,\n",
       "                                                                           -0.5958315 , -0.21516073, -0.14014724, -0.36637443,\n",
       "                                                                           -0.42363614, -0.52888584, -0.46463242, -0.08844399,\n",
       "                                                                            0.00972646, -0.29773208, -0.29125568, -0.6002169 ],\n",
       "                                                                          [-0.4510846 , -0.79782516, -0.8148211 , -0.4840806 ,\n",
       "                                                                           -0.6101026 , -0.87732077, -0.8244549 , -0.6397037 ,\n",
       "                                                                           -0.13795638, -0.5038727 , -0.41095904, -0.54239017,\n",
       "                                                                           -0.84255433, -0.74769163, -0.47729868, -0.28312427],\n",
       "                                                                          [-0.5800944 , -0.5544483 , -0.49161372, -0.07439959,\n",
       "                                                                           -0.6861955 , -0.27595443, -0.5630495 , -0.7288868 ,\n",
       "                                                                           -0.3608507 , -0.22113734, -0.20082313, -0.06988963,\n",
       "                                                                           -0.41292632, -0.3807778 , -0.2726936 , -0.9288087 ],\n",
       "                                                                          [-0.47934303, -0.37134516, -0.11013457, -0.80992854,\n",
       "                                                                           -0.74489224, -0.44706124, -0.4615674 , -0.07092404,\n",
       "                                                                           -0.771965  , -0.7568369 , -0.6484939 , -0.30108762,\n",
       "                                                                           -0.48443133, -0.48854822, -0.44213966, -0.498196  ],\n",
       "                                                                          [-0.2987377 , -0.33776224, -0.55437994, -0.59373575,\n",
       "                                                                           -0.29118332, -0.34111464, -0.08257958, -0.6762    ,\n",
       "                                                                           -0.3437723 , -0.5076233 , -0.46576232, -0.5632206 ,\n",
       "                                                                           -0.39309502, -0.5454772 , -0.80305415, -0.6465946 ],\n",
       "                                                                          [-0.15391457, -0.56987065, -0.15459794, -0.47845754,\n",
       "                                                                           -0.6597753 , -0.2694019 , -0.52526724, -0.0959875 ,\n",
       "                                                                           -0.23936926, -0.26976356, -0.96466935, -0.60995036,\n",
       "                                                                           -0.33966655, -0.6185349 , -0.25869733, -0.5083134 ],\n",
       "                                                                          [-0.6847044 , -0.6466865 , -0.39113253, -0.3275839 ,\n",
       "                                                                           -0.6991807 , -0.492213  , -0.49150565, -0.43317524,\n",
       "                                                                           -0.60844266, -0.6052829 , -0.11884961, -0.40902686,\n",
       "                                                                           -0.5229912 , -0.4792607 , -0.5828086 , -0.4201574 ]],            dtype=float32),\n",
       "                                                      }),\n",
       "  '__neural_network_haiku/~repr_net/repr/~/linear_2': FlatMapping({\n",
       "                                                        'b': DeviceArray([-0.48762512, -0.48762512, -0.48762512], dtype=float32),\n",
       "                                                        'w': DeviceArray([[-0.35761836, -0.26620984, -0.5405602 ],\n",
       "                                                                          [-0.3719967 , -0.1252755 , -0.92581785],\n",
       "                                                                          [-0.45745334, -0.37681836, -0.5908588 ],\n",
       "                                                                          [-0.15535608, -0.3497468 , -0.69334966],\n",
       "                                                                          [-0.5255719 , -0.36810294, -0.4448369 ],\n",
       "                                                                          [-0.4277697 , -0.6922891 , -0.16669911],\n",
       "                                                                          [-0.12208489, -0.05008748, -0.5841866 ],\n",
       "                                                                          [-0.5774522 , -0.2825216 , -0.12060636],\n",
       "                                                                          [-0.7251779 , -0.44935858, -0.00829017],\n",
       "                                                                          [-0.35100892, -0.14921579, -0.57755446],\n",
       "                                                                          [-0.35718724, -0.5239966 , -0.42591664],\n",
       "                                                                          [-0.30395386, -0.7848152 , -0.25036097],\n",
       "                                                                          [-0.3924379 , -0.04591924, -0.11637092],\n",
       "                                                                          [-0.44539136, -0.6424762 , -0.35364234],\n",
       "                                                                          [-0.8281335 , -0.829291  , -0.41287464],\n",
       "                                                                          [-0.24493963, -0.62586844, -0.46521845]], dtype=float32),\n",
       "                                                      }),\n",
       "})"
      ]
     },
     "execution_count": 22,
     "metadata": {},
     "output_type": "execute_result"
    }
   ],
   "source": [
    "jax.tree_map(lambda x: x + jax.random.normal(key), learner._state.params)"
   ]
  },
  {
   "cell_type": "code",
   "execution_count": null,
   "id": "3b2fc72a",
   "metadata": {},
   "outputs": [],
   "source": [
    "\n",
    "\n",
    "\n",
    "\n",
    "\n",
    "\n",
    "\n",
    "\n",
    "\n",
    "\n",
    "\n",
    "\n",
    "\n",
    "\n",
    "\n",
    "\n",
    "\n",
    "\n",
    "\n",
    "\n",
    "\n"
   ]
  }
 ],
 "metadata": {
  "kernelspec": {
   "display_name": "Python 3",
   "language": "python",
   "name": "python3"
  },
  "language_info": {
   "codemirror_mode": {
    "name": "ipython",
    "version": 3
   },
   "file_extension": ".py",
   "mimetype": "text/x-python",
   "name": "python",
   "nbconvert_exporter": "python",
   "pygments_lexer": "ipython3",
   "version": "3.8.5"
  }
 },
 "nbformat": 4,
 "nbformat_minor": 5
}
