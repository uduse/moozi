{
 "cells": [
  {
   "cell_type": "code",
   "execution_count": 1,
   "id": "b8746ef3",
   "metadata": {
    "ExecuteTime": {
     "end_time": "2021-05-30T05:01:42.579651Z",
     "start_time": "2021-05-30T05:01:39.498589Z"
    }
   },
   "outputs": [],
   "source": [
    "import random\n",
    "import copy\n",
    "from collections import namedtuple\n",
    "from dataclasses import dataclass\n",
    "import datetime\n",
    "import typing\n",
    "import functools\n",
    "from pprint import pprint\n",
    "\n",
    "import jax\n",
    "import jax.numpy as jnp\n",
    "from jax import grad, value_and_grad, jit, vmap\n",
    "from jax.experimental import optimizers\n",
    "from jax.experimental import stax\n",
    "import optax\n",
    "import haiku as hk\n",
    "from jax.tree_util import tree_flatten\n",
    "\n",
    "import pyspiel\n",
    "import open_spiel\n",
    "import dm_env\n",
    "import acme\n",
    "import acme.wrappers\n",
    "import acme.jax.utils\n",
    "import acme.jax.variable_utils\n",
    "from acme.agents import agent as acme_agent\n",
    "from acme.agents import replay as acme_replay\n",
    "from acme.environment_loops.open_spiel_environment_loop import OpenSpielEnvironmentLoop\n",
    "from acme.wrappers.open_spiel_wrapper import OpenSpielWrapper\n",
    "\n",
    "from tqdm.notebook import tqdm\n",
    "import numpy as np\n",
    "import trueskill\n",
    "\n",
    "import moozi as mz"
   ]
  },
  {
   "cell_type": "code",
   "execution_count": 2,
   "id": "3949a0b4",
   "metadata": {
    "ExecuteTime": {
     "end_time": "2021-05-30T05:01:43.808668Z",
     "start_time": "2021-05-30T05:01:42.583748Z"
    }
   },
   "outputs": [],
   "source": [
    "seed = 0\n",
    "key = jax.random.PRNGKey(seed)"
   ]
  },
  {
   "cell_type": "code",
   "execution_count": 3,
   "id": "6ac9a549",
   "metadata": {
    "ExecuteTime": {
     "end_time": "2021-05-30T05:01:43.825036Z",
     "start_time": "2021-05-30T05:01:43.813169Z"
    }
   },
   "outputs": [
    {
     "name": "stdout",
     "output_type": "stream",
     "text": [
      "EnvironmentSpec(observations=OLT(observation=Array(shape=(35,), dtype=dtype('float32'), name=None), legal_actions=Array(shape=(3,), dtype=dtype('float32'), name=None), terminal=Array(shape=(1,), dtype=dtype('float32'), name=None)), actions=DiscreteArray(shape=(), dtype=int32, name=None, minimum=0, maximum=2, num_values=3), rewards=BoundedArray(shape=(), dtype=dtype('float32'), name=None, minimum=-1.0, maximum=1.0), discounts=BoundedArray(shape=(), dtype=dtype('float32'), name=None, minimum=0.0, maximum=1.0))\n"
     ]
    }
   ],
   "source": [
    "raw_env = open_spiel.python.rl_environment.Environment('catch(columns=7,rows=5)')\n",
    "env = acme.wrappers.open_spiel_wrapper.OpenSpielWrapper(raw_env)\n",
    "env = acme.wrappers.SinglePrecisionWrapper(env)\n",
    "env_spec = acme.specs.make_environment_spec(env)\n",
    "max_game_length = env.environment.environment.game.max_game_length()\n",
    "dim_action = env_spec.actions.num_values\n",
    "dim_image = env_spec.observations.observation.shape[0]\n",
    "dim_repr = 3\n",
    "print(env_spec)"
   ]
  },
  {
   "cell_type": "code",
   "execution_count": 4,
   "id": "27bb116e",
   "metadata": {
    "ExecuteTime": {
     "end_time": "2021-05-30T05:01:43.839775Z",
     "start_time": "2021-05-30T05:01:43.827603Z"
    }
   },
   "outputs": [
    {
     "name": "stdout",
     "output_type": "stream",
     "text": [
      "NeuralNetworkSpec(dim_image=35, dim_repr=3, dim_action=3, repr_net_sizes=(16, 16), pred_net_sizes=(16, 16), dyna_net_sizes=(16, 16))\n"
     ]
    }
   ],
   "source": [
    "nn_spec = mz.nn.NeuralNetworkSpec(\n",
    "    dim_image=dim_image,\n",
    "    dim_repr=dim_repr,\n",
    "    dim_action=dim_action\n",
    ")\n",
    "network = mz.nn.get_network(nn_spec)\n",
    "learning_rate = 1e-4\n",
    "optimizer = optax.adam(learning_rate)\n",
    "print(nn_spec)"
   ]
  },
  {
   "cell_type": "code",
   "execution_count": 5,
   "id": "f6342ced",
   "metadata": {
    "ExecuteTime": {
     "end_time": "2021-05-30T05:01:46.618523Z",
     "start_time": "2021-05-30T05:01:43.842266Z"
    }
   },
   "outputs": [],
   "source": [
    "batch_size = 32\n",
    "n_steps=5\n",
    "reverb_replay = acme_replay.make_reverb_prioritized_nstep_replay(\n",
    "    env_spec, batch_size=batch_size, n_step=n_steps)"
   ]
  },
  {
   "cell_type": "code",
   "execution_count": 6,
   "id": "96d90547",
   "metadata": {
    "ExecuteTime": {
     "end_time": "2021-05-30T05:01:51.069676Z",
     "start_time": "2021-05-30T05:01:46.620906Z"
    }
   },
   "outputs": [],
   "source": [
    "learner = mz.learner.MooZiLearner(\n",
    "    network=network,\n",
    "    loss_fn=mz.loss.n_step_prior_vanilla_policy_gradient_loss,\n",
    "    optimizer=optimizer,\n",
    "    data_iterator=reverb_replay.data_iterator,\n",
    "    random_key=jax.random.PRNGKey(996),\n",
    ")"
   ]
  },
  {
   "cell_type": "code",
   "execution_count": 7,
   "id": "ff475dc6",
   "metadata": {
    "ExecuteTime": {
     "end_time": "2021-05-30T05:01:51.075382Z",
     "start_time": "2021-05-30T05:01:51.071462Z"
    }
   },
   "outputs": [],
   "source": [
    "key, new_key = jax.random.split(key)\n",
    "variable_client = acme.jax.variable_utils.VariableClient(learner, None)"
   ]
  },
  {
   "cell_type": "code",
   "execution_count": 8,
   "id": "2067d21f",
   "metadata": {
    "ExecuteTime": {
     "end_time": "2021-05-30T05:01:51.086980Z",
     "start_time": "2021-05-30T05:01:51.077396Z"
    }
   },
   "outputs": [],
   "source": [
    "key, new_key = jax.random.split(key)\n",
    "actor = mz.actor.PriorPolicyActor(\n",
    "    environment_spec=env_spec,\n",
    "    network=network,\n",
    "    adder=reverb_replay.adder,\n",
    "    variable_client=variable_client,\n",
    "    random_key=new_key,\n",
    "#     epsilon=0.1,\n",
    "#     temperature=1\n",
    ")"
   ]
  },
  {
   "cell_type": "code",
   "execution_count": 9,
   "id": "1769e306",
   "metadata": {
    "ExecuteTime": {
     "end_time": "2021-05-30T05:01:51.097919Z",
     "start_time": "2021-05-30T05:01:51.088646Z"
    }
   },
   "outputs": [],
   "source": [
    "agent = acme_agent.Agent(\n",
    "    actor=actor,\n",
    "    learner=learner,\n",
    "    min_observations=100,\n",
    "    observations_per_step=1\n",
    ")"
   ]
  },
  {
   "cell_type": "code",
   "execution_count": 10,
   "id": "39f75869",
   "metadata": {
    "ExecuteTime": {
     "end_time": "2021-05-30T05:01:51.110396Z",
     "start_time": "2021-05-30T05:01:51.100735Z"
    }
   },
   "outputs": [],
   "source": [
    "loop = OpenSpielEnvironmentLoop(environment=env, actors=[agent])"
   ]
  },
  {
   "cell_type": "code",
   "execution_count": 11,
   "id": "1fab6ec9",
   "metadata": {
    "ExecuteTime": {
     "end_time": "2021-05-30T05:01:51.655087Z",
     "start_time": "2021-05-30T05:01:51.112794Z"
    },
    "scrolled": false
   },
   "outputs": [
    {
     "data": {
      "text/plain": [
       "{'episode_length': 4,\n",
       " 'episode_return': array([-1.], dtype=float32),\n",
       " 'steps_per_second': 7.618222834122224,\n",
       " 'episodes': 1,\n",
       " 'steps': 4}"
      ]
     },
     "execution_count": 11,
     "metadata": {},
     "output_type": "execute_result"
    }
   ],
   "source": [
    "loop.run_episode()"
   ]
  },
  {
   "cell_type": "code",
   "execution_count": 12,
   "id": "3cd29eb8",
   "metadata": {
    "ExecuteTime": {
     "end_time": "2021-05-30T05:05:02.800608Z",
     "start_time": "2021-05-30T05:03:10.594601Z"
    }
   },
   "outputs": [
    {
     "name": "stdout",
     "output_type": "stream",
     "text": [
      "Loss = -0.6219470500946045 | Steps = 1\n",
      "Loss = -0.7859916090965271 | Steps = 89\n",
      "Loss = -0.5349277257919312 | Steps = 175\n",
      "Loss = -0.9377725720405579 | Steps = 261\n",
      "Loss = -1.8939168453216553 | Steps = 345\n",
      "Loss = -0.6036562919616699 | Steps = 433\n",
      "Loss = -8.336690902709961 | Steps = 524\n",
      "Loss = -12.977231979370117 | Steps = 611\n",
      "Loss = -28.27684211730957 | Steps = 700\n",
      "Loss = -42.90653991699219 | Steps = 788\n",
      "Loss = -101.74295806884766 | Steps = 875\n",
      "Loss = -268.8840637207031 | Steps = 969\n",
      "Loss = -567.10791015625 | Steps = 1065\n",
      "Loss = -578.9107666015625 | Steps = 1159\n",
      "Loss = -2244.784423828125 | Steps = 1252\n",
      "Loss = -2540.06494140625 | Steps = 1345\n",
      "Loss = -10141.755859375 | Steps = 1439\n",
      "Loss = -11093.265625 | Steps = 1529\n",
      "Loss = -27739.451171875 | Steps = 1618\n",
      "Loss = -49846.96484375 | Steps = 1709\n",
      "Loss = -79981.6171875 | Steps = 1801\n",
      "Loss = -51072.41015625 | Steps = 1893\n",
      "Loss = -124585.546875 | Steps = 1985\n",
      "Loss = -204476.5 | Steps = 2075\n",
      "Loss = -354924.9375 | Steps = 2166\n",
      "Loss = -368487.625 | Steps = 2253\n",
      "Loss = -827588.8125 | Steps = 2343\n",
      "Loss = -876104.5 | Steps = 2430\n",
      "Loss = -963590.5 | Steps = 2520\n",
      "Loss = -997790.125 | Steps = 2611\n",
      "Loss = -948917.125 | Steps = 2698\n",
      "Loss = -2987971.75 | Steps = 2789\n",
      "Loss = -2496377.25 | Steps = 2880\n",
      "Loss = -4617520.0 | Steps = 2974\n",
      "Loss = -3508347.5 | Steps = 3057\n",
      "Loss = -4478415.5 | Steps = 3150\n",
      "Loss = -6899447.0 | Steps = 3241\n",
      "Loss = -11298174.0 | Steps = 3333\n",
      "Loss = -14772162.0 | Steps = 3428\n",
      "Loss = -9906498.0 | Steps = 3521\n",
      "Loss = -8380044.5 | Steps = 3612\n",
      "Loss = -12206541.0 | Steps = 3701\n",
      "Loss = -32108576.0 | Steps = 3794\n",
      "Loss = -40030488.0 | Steps = 3888\n",
      "Loss = -21244200.0 | Steps = 3984\n",
      "Loss = -37718304.0 | Steps = 4077\n",
      "Loss = -24537192.0 | Steps = 4169\n",
      "Loss = -74435712.0 | Steps = 4261\n",
      "Loss = -64620912.0 | Steps = 4353\n",
      "Loss = -46475136.0 | Steps = 4443\n",
      "Loss = -42153216.0 | Steps = 4536\n",
      "Loss = -131241376.0 | Steps = 4626\n",
      "Loss = -70344272.0 | Steps = 4719\n",
      "Loss = -173939200.0 | Steps = 4811\n",
      "Loss = -225233696.0 | Steps = 4901\n",
      "Loss = -149692880.0 | Steps = 4993\n",
      "Loss = -264687744.0 | Steps = 5085\n",
      "Loss = -279131328.0 | Steps = 5173\n",
      "Loss = -223478368.0 | Steps = 5261\n",
      "Loss = -303972544.0 | Steps = 5351\n",
      "Loss = -213232736.0 | Steps = 5440\n",
      "Loss = -134584528.0 | Steps = 5530\n",
      "Loss = -259875744.0 | Steps = 5622\n",
      "Loss = -342742080.0 | Steps = 5715\n",
      "Loss = -445346464.0 | Steps = 5807\n",
      "Loss = -485204992.0 | Steps = 5901\n",
      "Loss = -398736608.0 | Steps = 5991\n",
      "Loss = -847865216.0 | Steps = 6083\n",
      "Loss = -738166592.0 | Steps = 6175\n",
      "Loss = -986996352.0 | Steps = 6267\n",
      "Loss = -1054068160.0 | Steps = 6360\n",
      "Loss = -696294592.0 | Steps = 6449\n",
      "Loss = -1058173056.0 | Steps = 6542\n",
      "Loss = -1183803136.0 | Steps = 6632\n",
      "Loss = -623947904.0 | Steps = 6722\n",
      "Loss = -393974272.0 | Steps = 6811\n",
      "Loss = -1731113216.0 | Steps = 6893\n",
      "Loss = -915060096.0 | Steps = 6986\n",
      "Loss = -1613521536.0 | Steps = 7078\n",
      "Loss = -622835136.0 | Steps = 7170\n",
      "Loss = -1052319104.0 | Steps = 7265\n",
      "Loss = -2318896128.0 | Steps = 7357\n",
      "Loss = -1709068928.0 | Steps = 7446\n",
      "Loss = -1527306240.0 | Steps = 7537\n",
      "Loss = -2705491456.0 | Steps = 7631\n",
      "Loss = -4419670016.0 | Steps = 7723\n",
      "Loss = -2871964416.0 | Steps = 7812\n",
      "Loss = -3265431296.0 | Steps = 7901\n",
      "Loss = -3457016064.0 | Steps = 7989\n",
      "Loss = -457546080.0 | Steps = 8078\n",
      "Loss = -4614961664.0 | Steps = 8173\n",
      "Loss = -6630227968.0 | Steps = 8269\n",
      "Loss = -2820071936.0 | Steps = 8361\n",
      "Loss = -3742825216.0 | Steps = 8452\n",
      "Loss = -9515780096.0 | Steps = 8545\n",
      "Loss = -7148978176.0 | Steps = 8639\n",
      "Loss = -4924121088.0 | Steps = 8731\n",
      "Loss = -9683793920.0 | Steps = 8825\n",
      "Loss = -6540890112.0 | Steps = 8917\n",
      "Loss = -10576187392.0 | Steps = 9010\n",
      "Loss = -5655265280.0 | Steps = 9104\n",
      "Loss = -6015474688.0 | Steps = 9197\n",
      "Loss = -10508464128.0 | Steps = 9290\n",
      "Loss = -13082176512.0 | Steps = 9380\n",
      "Loss = -7665259008.0 | Steps = 9468\n",
      "Loss = -11166525440.0 | Steps = 9556\n",
      "Loss = -9584683008.0 | Steps = 9649\n",
      "Loss = -11147825152.0 | Steps = 9743\n",
      "Loss = -8677243904.0 | Steps = 9836\n"
     ]
    }
   ],
   "source": [
    "num_steps = 10000\n",
    "loop.run(num_steps=num_steps)"
   ]
  },
  {
   "cell_type": "code",
   "execution_count": null,
   "id": "71482aa9",
   "metadata": {},
   "outputs": [],
   "source": [
    "\n",
    "\n",
    "\n",
    "\n",
    "\n",
    "\n",
    "\n",
    "\n",
    "\n",
    "\n",
    "\n",
    "\n",
    "\n",
    "\n",
    "\n",
    "\n",
    "\n",
    "\n",
    "\n",
    "\n",
    "\n"
   ]
  }
 ],
 "metadata": {
  "kernelspec": {
   "display_name": "Python 3",
   "language": "python",
   "name": "python3"
  },
  "language_info": {
   "codemirror_mode": {
    "name": "ipython",
    "version": 3
   },
   "file_extension": ".py",
   "mimetype": "text/x-python",
   "name": "python",
   "nbconvert_exporter": "python",
   "pygments_lexer": "ipython3",
   "version": "3.8.5"
  }
 },
 "nbformat": 4,
 "nbformat_minor": 5
}
