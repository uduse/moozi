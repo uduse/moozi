{
 "cells": [
  {
   "cell_type": "code",
   "execution_count": 9,
   "id": "421c16ae",
   "metadata": {},
   "outputs": [],
   "source": [
    "import random\n",
    "import copy\n",
    "from collections import namedtuple\n",
    "from dataclasses import dataclass\n",
    "import typing\n",
    "import functools\n",
    "from pprint import pprint\n",
    "\n",
    "import jax\n",
    "import jax.numpy as jnp\n",
    "from jax import grad, value_and_grad, jit, vmap\n",
    "from jax.experimental import optimizers\n",
    "from jax.experimental import stax\n",
    "import optax\n",
    "import haiku as hk\n",
    "from jax.tree_util import tree_flatten\n",
    "\n",
    "from tqdm.notebook import tqdm\n",
    "import pyspiel\n",
    "import numpy as np\n",
    "import trueskill"
   ]
  },
  {
   "cell_type": "code",
   "execution_count": 10,
   "id": "bbda1fd0",
   "metadata": {},
   "outputs": [],
   "source": [
    "import moozi as mz\n",
    "from moozi import Game, Action, ActionHistory, Player"
   ]
  },
  {
   "cell_type": "code",
   "execution_count": 21,
   "id": "56145fe0",
   "metadata": {},
   "outputs": [],
   "source": [
    "class OpenSpielGameEpisode(object):\n",
    "    \"\"\"A single episode of interaction with the environment.\"\"\"\n",
    "\n",
    "    def __init__(self, env: pyspiel.Game, discount: float = 0.997):\n",
    "        self.env = env  # Game specific environment.\n",
    "        self.history = []\n",
    "        self.rewards = []\n",
    "#         self.child_visits = []\n",
    "#         self.root_values = []\n",
    "        self.action_space_size = env.num_distinct_actions()\n",
    "        self.discount = discount\n",
    "        \n",
    "        self.state = self.env.new_initial_state()\n",
    "\n",
    "    def terminal(self) -> bool:\n",
    "        # Game specific termination rules.\n",
    "        return self.state.is_terminal()\n",
    "\n",
    "    def legal_actions(self) -> typing.List[Action]:\n",
    "        # Game specific calculation of legal actions.\n",
    "        return self.state.legal_actions()\n",
    "\n",
    "    def apply(self, action: Action):\n",
    "        player = self.to_play()\n",
    "        self.state.apply_action(action)\n",
    "        reward = self.env.rewards()[int(player)]\n",
    "        \n",
    "        self.rewards.append(reward)\n",
    "        self.history.append(action)\n",
    "        \n",
    "    def make_image(self, state_index: int) -> typing.List[float]:\n",
    "        # Game specific feature planes.\n",
    "        return self.state.observation_tensor()\n",
    "\n",
    "    def to_play(self) -> Player:\n",
    "        return Player(self.state.current_player())\n",
    "\n",
    "    def action_history(self) -> ActionHistory:\n",
    "        return ActionHistory(self.history, self.action_space_size)"
   ]
  },
  {
   "cell_type": "code",
   "execution_count": 20,
   "id": "a91cc139",
   "metadata": {},
   "outputs": [
    {
     "data": {
      "text/plain": [
       "float"
      ]
     },
     "execution_count": 20,
     "metadata": {},
     "output_type": "execute_result"
    }
   ],
   "source": []
  },
  {
   "cell_type": "code",
   "execution_count": 30,
   "id": "02f11746",
   "metadata": {},
   "outputs": [
    {
     "name": "stdout",
     "output_type": "stream",
     "text": [
      "[0.0, 0.0]\n",
      "[0.0, 0.0]\n",
      "[0.0, 0.0]\n",
      "[0.0, 0.0]\n",
      "[0.0, 0.0]\n"
     ]
    }
   ],
   "source": [
    "episode = OpenSpielGameEpisode(game)\n",
    "for _ in range(5):\n",
    "    actions = episode.legal_actions()\n",
    "    action = random.choice(actions)\n",
    "    episode.state.apply_action(action)\n",
    "    e\n",
    "    \n",
    "    print(episode.state.rewards())"
   ]
  },
  {
   "cell_type": "code",
   "execution_count": null,
   "id": "369cfe5f",
   "metadata": {},
   "outputs": [],
   "source": []
  },
  {
   "cell_type": "code",
   "execution_count": 9,
   "id": "c2da8fab",
   "metadata": {},
   "outputs": [
    {
     "ename": "NameError",
     "evalue": "name 'action_space_size' is not defined",
     "output_type": "error",
     "traceback": [
      "\u001b[0;31m---------------------------------------------------------------------------\u001b[0m",
      "\u001b[0;31mNameError\u001b[0m                                 Traceback (most recent call last)",
      "\u001b[0;32m<ipython-input-9-d678d6c3b4b5>\u001b[0m in \u001b[0;36m<module>\u001b[0;34m\u001b[0m\n\u001b[1;32m      1\u001b[0m \u001b[0mgame\u001b[0m \u001b[0;34m=\u001b[0m \u001b[0mpyspiel\u001b[0m\u001b[0;34m.\u001b[0m\u001b[0mload_game\u001b[0m\u001b[0;34m(\u001b[0m\u001b[0;34m\"tic_tac_toe\"\u001b[0m\u001b[0;34m)\u001b[0m\u001b[0;34m\u001b[0m\u001b[0;34m\u001b[0m\u001b[0m\n\u001b[0;32m----> 2\u001b[0;31m \u001b[0mOpenSpielGame\u001b[0m\u001b[0;34m(\u001b[0m\u001b[0mgame\u001b[0m\u001b[0;34m)\u001b[0m\u001b[0;34m\u001b[0m\u001b[0;34m\u001b[0m\u001b[0m\n\u001b[0m",
      "\u001b[0;32m<ipython-input-8-37664df6ce63>\u001b[0m in \u001b[0;36m__init__\u001b[0;34m(self, env, discount)\u001b[0m\n\u001b[1;32m      8\u001b[0m         \u001b[0mself\u001b[0m\u001b[0;34m.\u001b[0m\u001b[0mchild_visits\u001b[0m \u001b[0;34m=\u001b[0m \u001b[0;34m[\u001b[0m\u001b[0;34m]\u001b[0m\u001b[0;34m\u001b[0m\u001b[0;34m\u001b[0m\u001b[0m\n\u001b[1;32m      9\u001b[0m         \u001b[0mself\u001b[0m\u001b[0;34m.\u001b[0m\u001b[0mroot_values\u001b[0m \u001b[0;34m=\u001b[0m \u001b[0;34m[\u001b[0m\u001b[0;34m]\u001b[0m\u001b[0;34m\u001b[0m\u001b[0;34m\u001b[0m\u001b[0m\n\u001b[0;32m---> 10\u001b[0;31m         \u001b[0mself\u001b[0m\u001b[0;34m.\u001b[0m\u001b[0maction_space_size\u001b[0m \u001b[0;34m=\u001b[0m \u001b[0maction_space_size\u001b[0m\u001b[0;34m\u001b[0m\u001b[0;34m\u001b[0m\u001b[0m\n\u001b[0m\u001b[1;32m     11\u001b[0m         \u001b[0mself\u001b[0m\u001b[0;34m.\u001b[0m\u001b[0mdiscount\u001b[0m \u001b[0;34m=\u001b[0m \u001b[0mdiscount\u001b[0m\u001b[0;34m\u001b[0m\u001b[0;34m\u001b[0m\u001b[0m\n\u001b[1;32m     12\u001b[0m \u001b[0;34m\u001b[0m\u001b[0m\n",
      "\u001b[0;31mNameError\u001b[0m: name 'action_space_size' is not defined"
     ]
    }
   ],
   "source": [
    "# OpenSpielGame(game)"
   ]
  }
 ],
 "metadata": {
  "kernelspec": {
   "display_name": "Python 3",
   "language": "python",
   "name": "python3"
  },
  "language_info": {
   "codemirror_mode": {
    "name": "ipython",
    "version": 3
   },
   "file_extension": ".py",
   "mimetype": "text/x-python",
   "name": "python",
   "nbconvert_exporter": "python",
   "pygments_lexer": "ipython3",
   "version": "3.8.5"
  }
 },
 "nbformat": 4,
 "nbformat_minor": 5
}
