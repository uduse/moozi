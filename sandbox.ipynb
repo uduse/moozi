{
 "cells": [
  {
   "cell_type": "code",
   "execution_count": 1,
   "id": "398b384a",
   "metadata": {
    "ExecuteTime": {
     "end_time": "2021-05-31T03:03:43.787442Z",
     "start_time": "2021-05-31T03:03:40.069030Z"
    }
   },
   "outputs": [],
   "source": [
    "import random\n",
    "import copy\n",
    "from collections import namedtuple\n",
    "from dataclasses import dataclass\n",
    "import typing\n",
    "import functools\n",
    "from pprint import pprint\n",
    "\n",
    "import jax\n",
    "import jax.numpy as jnp\n",
    "from jax import grad, value_and_grad, jit, vmap\n",
    "from jax.experimental import optimizers\n",
    "from jax.experimental import stax\n",
    "import optax\n",
    "import haiku as hk\n",
    "from jax.tree_util import tree_flatten\n",
    "\n",
    "import pyspiel\n",
    "import open_spiel\n",
    "from open_spiel.python import rl_environment\n",
    "import dm_env\n",
    "import acme\n",
    "from acme.wrappers.open_spiel_wrapper import OpenSpielWrapper\n",
    "\n",
    "from tqdm.notebook import tqdm\n",
    "import numpy as np\n",
    "import trueskill\n",
    "\n",
    "import moozi as mz\n",
    "\n",
    "import guild.ipy as guild"
   ]
  },
  {
   "cell_type": "code",
   "execution_count": 2,
   "id": "b250aaba",
   "metadata": {
    "ExecuteTime": {
     "end_time": "2021-05-31T03:03:45.565686Z",
     "start_time": "2021-05-31T03:03:45.559720Z"
    }
   },
   "outputs": [],
   "source": [
    "jax.config.update('jax_platform_name', 'cpu')"
   ]
  },
  {
   "cell_type": "code",
   "execution_count": 20,
   "id": "1b4ab843",
   "metadata": {
    "ExecuteTime": {
     "end_time": "2021-05-31T04:38:42.519869Z",
     "start_time": "2021-05-31T04:38:42.512843Z"
    }
   },
   "outputs": [],
   "source": [
    "x = [1, 2, 3, 4, 5, 6, 7, 8, 9, 100]"
   ]
  },
  {
   "cell_type": "code",
   "execution_count": 21,
   "id": "8cbd5e24",
   "metadata": {
    "ExecuteTime": {
     "end_time": "2021-05-31T04:38:42.674282Z",
     "start_time": "2021-05-31T04:38:42.667586Z"
    }
   },
   "outputs": [
    {
     "data": {
      "text/plain": [
       "14.5"
      ]
     },
     "execution_count": 21,
     "metadata": {},
     "output_type": "execute_result"
    }
   ],
   "source": [
    "np.mean(x)"
   ]
  },
  {
   "cell_type": "code",
   "execution_count": 22,
   "id": "92f8d0c6",
   "metadata": {
    "ExecuteTime": {
     "end_time": "2021-05-31T04:38:43.486212Z",
     "start_time": "2021-05-31T04:38:43.478659Z"
    }
   },
   "outputs": [
    {
     "data": {
      "text/plain": [
       "5.5"
      ]
     },
     "execution_count": 22,
     "metadata": {},
     "output_type": "execute_result"
    }
   ],
   "source": [
    "np.median(x)"
   ]
  }
 ],
 "metadata": {
  "kernelspec": {
   "display_name": "Python 3",
   "language": "python",
   "name": "python3"
  },
  "language_info": {
   "codemirror_mode": {
    "name": "ipython",
    "version": 3
   },
   "file_extension": ".py",
   "mimetype": "text/x-python",
   "name": "python",
   "nbconvert_exporter": "python",
   "pygments_lexer": "ipython3",
   "version": "3.8.5"
  }
 },
 "nbformat": 4,
 "nbformat_minor": 5
}
