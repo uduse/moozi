{
 "cells": [
  {
   "cell_type": "code",
   "execution_count": 6,
   "id": "0a2851b0",
   "metadata": {
    "ExecuteTime": {
     "end_time": "2021-05-26T23:17:00.076255Z",
     "start_time": "2021-05-26T23:16:57.332240Z"
    }
   },
   "outputs": [
    {
     "name": "stdout",
     "output_type": "stream",
     "text": [
      "/usr/lib/x86_64-linux-gnu/libcuda.so.450.51.06\n",
      "/usr/lib/x86_64-linux-gnu/libcuda.so\n",
      "/usr/lib/x86_64-linux-gnu/libcuda.so.1\n",
      "/usr/local/lib/python3.8/dist-packages/torch/lib/libcudart-80664282.so.10.2\n",
      "/usr/local/cuda-11.0/compat/libcuda.so\n",
      "/usr/local/cuda-11.0/compat/libcuda.so.1\n",
      "/usr/local/cuda-11.0/compat/libcuda.so.450.119.03\n",
      "/usr/local/cuda-11.0/targets/x86_64-linux/lib/libcudart.so.11.0\n",
      "/usr/local/cuda-11.0/targets/x86_64-linux/lib/libcudart.so.11.0.221\n",
      "/usr/local/cuda-11.0/targets/x86_64-linux/lib/libcudadevrt.a\n",
      "/usr/local/cuda-11.0/targets/x86_64-linux/lib/libcudart.so\n",
      "/usr/local/cuda-11.0/targets/x86_64-linux/lib/libcudart_static.a\n",
      "/usr/local/cuda-11.0/targets/x86_64-linux/lib/stubs/libcuda.so\n",
      "/usr/local/cuda-11.0/extras/Debugger/include/libcudacore.h\n",
      "/usr/local/cuda-11.0/extras/Debugger/lib64/libcudacore.a\n",
      "Wed May 26 23:16:59 2021       \n",
      "+-----------------------------------------------------------------------------+\n",
      "| NVIDIA-SMI 450.51.06    Driver Version: 450.51.06    CUDA Version: 11.0     |\n",
      "|-------------------------------+----------------------+----------------------+\n",
      "| GPU  Name        Persistence-M| Bus-Id        Disp.A | Volatile Uncorr. ECC |\n",
      "| Fan  Temp  Perf  Pwr:Usage/Cap|         Memory-Usage | GPU-Util  Compute M. |\n",
      "|                               |                      |               MIG M. |\n",
      "|===============================+======================+======================|\n",
      "|   0  TITAN RTX           On   | 00000000:00:06.0 Off |                  N/A |\n",
      "| 41%   32C    P8    22W / 280W |      3MiB / 24220MiB |      0%      Default |\n",
      "|                               |                      |                  N/A |\n",
      "+-------------------------------+----------------------+----------------------+\n",
      "|   1  TITAN RTX           On   | 00000000:00:07.0 Off |                  N/A |\n",
      "| 45%   66C    P2   138W / 280W |   1989MiB / 24220MiB |     84%      Default |\n",
      "|                               |                      |                  N/A |\n",
      "+-------------------------------+----------------------+----------------------+\n",
      "                                                                               \n",
      "+-----------------------------------------------------------------------------+\n",
      "| Processes:                                                                  |\n",
      "|  GPU   GI   CI        PID   Type   Process name                  GPU Memory |\n",
      "|        ID   ID                                                   Usage      |\n",
      "|=============================================================================|\n",
      "+-----------------------------------------------------------------------------+\n",
      "nvcc: NVIDIA (R) Cuda compiler driver\n",
      "Copyright (c) 2005-2020 NVIDIA Corporation\n",
      "Built on Wed_Jul_22_19:09:09_PDT_2020\n",
      "Cuda compilation tools, release 11.0, V11.0.221\n",
      "Build cuda_11.0_bu.TC445_37.28845127_0\n"
     ]
    }
   ],
   "source": [
    "!find /usr/ | grep libcuda\n",
    "!nvidia-smi\n",
    "!nvcc --version"
   ]
  },
  {
   "cell_type": "code",
   "execution_count": 7,
   "id": "4d42ad42",
   "metadata": {
    "ExecuteTime": {
     "end_time": "2021-05-26T23:17:01.101358Z",
     "start_time": "2021-05-26T23:17:00.081150Z"
    }
   },
   "outputs": [
    {
     "name": "stdout",
     "output_type": "stream",
     "text": [
      "jax\t [GpuDevice(id=0, process_index=0), GpuDevice(id=1, process_index=0)]\n"
     ]
    }
   ],
   "source": [
    "import jax\n",
    "print('jax\\t', jax.devices())"
   ]
  },
  {
   "cell_type": "code",
   "execution_count": 8,
   "id": "769a54d2",
   "metadata": {
    "ExecuteTime": {
     "end_time": "2021-05-26T23:17:01.727976Z",
     "start_time": "2021-05-26T23:17:01.106968Z"
    }
   },
   "outputs": [
    {
     "name": "stdout",
     "output_type": "stream",
     "text": [
      "torch\tTITAN RTX\n",
      "\n",
      "\n",
      "\n",
      "\n"
     ]
    }
   ],
   "source": [
    "import torch\n",
    "print('torch\\t', end='')\n",
    "if torch.cuda.is_available():\n",
    "    print(torch.cuda.get_device_name(0))\n",
    "else:\n",
    "    print('Not Found.')\n",
    "print('\\n\\n')"
   ]
  },
  {
   "cell_type": "code",
   "execution_count": 9,
   "id": "701f9303",
   "metadata": {
    "ExecuteTime": {
     "end_time": "2021-05-26T23:17:01.748437Z",
     "start_time": "2021-05-26T23:17:01.734123Z"
    }
   },
   "outputs": [
    {
     "name": "stdout",
     "output_type": "stream",
     "text": [
      "Mongo DB -> OK\n"
     ]
    }
   ],
   "source": [
    "import pymongo\n",
    "\n",
    "MONGODB_IP = \"172.17.0.6\"\n",
    "client = pymongo.MongoClient(MONGODB_IP, 27017)\n",
    "if client.db.command('ping')['ok'] == 1:\n",
    "    print(\"Mongo DB -> OK\")\n",
    "else:\n",
    "    print(\"Mongo DB -> FAILED\")"
   ]
  }
 ],
 "metadata": {
  "kernelspec": {
   "display_name": "Python 3",
   "language": "python",
   "name": "python3"
  },
  "language_info": {
   "codemirror_mode": {
    "name": "ipython",
    "version": 3
   },
   "file_extension": ".py",
   "mimetype": "text/x-python",
   "name": "python",
   "nbconvert_exporter": "python",
   "pygments_lexer": "ipython3",
   "version": "3.8.5"
  }
 },
 "nbformat": 4,
 "nbformat_minor": 5
}
