{
 "cells": [
  {
   "cell_type": "code",
   "execution_count": 2,
   "id": "b8746ef3",
   "metadata": {
    "ExecuteTime": {
     "end_time": "2021-05-31T03:33:36.381807Z",
     "start_time": "2021-05-31T03:33:33.163123Z"
    }
   },
   "outputs": [],
   "source": [
    "import random\n",
    "import copy\n",
    "from collections import namedtuple\n",
    "from dataclasses import dataclass\n",
    "import datetime\n",
    "import typing\n",
    "import functools\n",
    "from pprint import pprint\n",
    "\n",
    "import jax\n",
    "import jax.numpy as jnp\n",
    "from jax import grad, value_and_grad, jit, vmap\n",
    "from jax.experimental import optimizers\n",
    "from jax.experimental import stax\n",
    "import optax\n",
    "import haiku as hk\n",
    "from jax.tree_util import tree_flatten\n",
    "import jaxboard\n",
    "\n",
    "import pyspiel\n",
    "import open_spiel\n",
    "import dm_env\n",
    "import acme\n",
    "import acme.wrappers\n",
    "import acme.jax.utils\n",
    "import acme.jax.variable_utils\n",
    "from acme.agents import agent as acme_agent\n",
    "from acme.agents import replay as acme_replay\n",
    "from acme.environment_loops.open_spiel_environment_loop import OpenSpielEnvironmentLoop\n",
    "from acme.wrappers.open_spiel_wrapper import OpenSpielWrapper\n",
    "\n",
    "from tqdm.notebook import tqdm\n",
    "import numpy as np\n",
    "import trueskill\n",
    "\n",
    "import moozi as mz"
   ]
  },
  {
   "cell_type": "code",
   "execution_count": 2,
   "id": "3949a0b4",
   "metadata": {
    "ExecuteTime": {
     "end_time": "2021-05-31T01:25:30.511027Z",
     "start_time": "2021-05-31T01:25:29.289324Z"
    }
   },
   "outputs": [],
   "source": [
    "seed = 0\n",
    "key = jax.random.PRNGKey(seed)"
   ]
  },
  {
   "cell_type": "code",
   "execution_count": 3,
   "id": "6ac9a549",
   "metadata": {
    "ExecuteTime": {
     "end_time": "2021-05-31T01:25:30.527077Z",
     "start_time": "2021-05-31T01:25:30.515773Z"
    }
   },
   "outputs": [
    {
     "name": "stdout",
     "output_type": "stream",
     "text": [
      "EnvironmentSpec(observations=OLT(observation=Array(shape=(35,), dtype=dtype('float32'), name=None), legal_actions=Array(shape=(3,), dtype=dtype('float32'), name=None), terminal=Array(shape=(1,), dtype=dtype('float32'), name=None)), actions=DiscreteArray(shape=(), dtype=int32, name=None, minimum=0, maximum=2, num_values=3), rewards=BoundedArray(shape=(), dtype=dtype('float32'), name=None, minimum=-1.0, maximum=1.0), discounts=BoundedArray(shape=(), dtype=dtype('float32'), name=None, minimum=0.0, maximum=1.0))\n"
     ]
    }
   ],
   "source": [
    "raw_env = open_spiel.python.rl_environment.Environment('catch(columns=7,rows=5)')\n",
    "env = acme.wrappers.open_spiel_wrapper.OpenSpielWrapper(raw_env)\n",
    "env = acme.wrappers.SinglePrecisionWrapper(env)\n",
    "env_spec = acme.specs.make_environment_spec(env)\n",
    "max_game_length = env.environment.environment.game.max_game_length()\n",
    "dim_action = env_spec.actions.num_values\n",
    "dim_image = env_spec.observations.observation.shape[0]\n",
    "dim_repr = 3\n",
    "print(env_spec)"
   ]
  },
  {
   "cell_type": "code",
   "execution_count": 4,
   "id": "27bb116e",
   "metadata": {
    "ExecuteTime": {
     "end_time": "2021-05-31T01:25:30.539540Z",
     "start_time": "2021-05-31T01:25:30.529558Z"
    }
   },
   "outputs": [
    {
     "name": "stdout",
     "output_type": "stream",
     "text": [
      "NeuralNetworkSpec(dim_image=35, dim_repr=3, dim_action=3, repr_net_sizes=(16, 16), pred_net_sizes=(16, 16), dyna_net_sizes=(16, 16))\n"
     ]
    }
   ],
   "source": [
    "nn_spec = mz.nn.NeuralNetworkSpec(\n",
    "    dim_image=dim_image,\n",
    "    dim_repr=dim_repr,\n",
    "    dim_action=dim_action\n",
    ")\n",
    "network = mz.nn.get_network(nn_spec)\n",
    "learning_rate = 1e-4\n",
    "optimizer = optax.adam(learning_rate)\n",
    "print(nn_spec)"
   ]
  },
  {
   "cell_type": "code",
   "execution_count": 5,
   "id": "f6342ced",
   "metadata": {
    "ExecuteTime": {
     "end_time": "2021-05-31T01:25:33.459109Z",
     "start_time": "2021-05-31T01:25:30.541788Z"
    }
   },
   "outputs": [],
   "source": [
    "batch_size = 32\n",
    "n_steps=5\n",
    "reverb_replay = acme_replay.make_reverb_prioritized_nstep_replay(\n",
    "    env_spec, batch_size=batch_size, n_step=n_steps)"
   ]
  },
  {
   "cell_type": "code",
   "execution_count": 6,
   "id": "96d90547",
   "metadata": {
    "ExecuteTime": {
     "end_time": "2021-05-31T01:25:37.850459Z",
     "start_time": "2021-05-31T01:25:33.461657Z"
    }
   },
   "outputs": [],
   "source": [
    "learner = mz.learner.MooZiLearner(\n",
    "    network=network,\n",
    "    loss_fn=mz.loss.n_step_prior_vanilla_policy_gradient_loss,\n",
    "    optimizer=optimizer,\n",
    "    data_iterator=reverb_replay.data_iterator,\n",
    "    random_key=jax.random.PRNGKey(996),\n",
    ")"
   ]
  },
  {
   "cell_type": "code",
   "execution_count": 7,
   "id": "ff475dc6",
   "metadata": {
    "ExecuteTime": {
     "end_time": "2021-05-31T01:25:37.859165Z",
     "start_time": "2021-05-31T01:25:37.853424Z"
    }
   },
   "outputs": [],
   "source": [
    "key, new_key = jax.random.split(key)\n",
    "variable_client = acme.jax.variable_utils.VariableClient(learner, None)"
   ]
  },
  {
   "cell_type": "code",
   "execution_count": 8,
   "id": "2067d21f",
   "metadata": {
    "ExecuteTime": {
     "end_time": "2021-05-31T01:25:37.874129Z",
     "start_time": "2021-05-31T01:25:37.861681Z"
    }
   },
   "outputs": [],
   "source": [
    "key, new_key = jax.random.split(key)\n",
    "actor = mz.actor.PriorPolicyActor(\n",
    "    environment_spec=env_spec,\n",
    "    network=network,\n",
    "    adder=reverb_replay.adder,\n",
    "    variable_client=variable_client,\n",
    "    random_key=new_key,\n",
    "#     epsilon=0.1,\n",
    "#     temperature=1\n",
    ")"
   ]
  },
  {
   "cell_type": "code",
   "execution_count": 9,
   "id": "1769e306",
   "metadata": {
    "ExecuteTime": {
     "end_time": "2021-05-31T01:25:37.885114Z",
     "start_time": "2021-05-31T01:25:37.878081Z"
    }
   },
   "outputs": [],
   "source": [
    "agent = acme_agent.Agent(\n",
    "    actor=actor,\n",
    "    learner=learner,\n",
    "    min_observations=100,\n",
    "    observations_per_step=1\n",
    ")"
   ]
  },
  {
   "cell_type": "code",
   "execution_count": 10,
   "id": "e4cffa26",
   "metadata": {
    "ExecuteTime": {
     "end_time": "2021-05-31T01:25:37.898362Z",
     "start_time": "2021-05-31T01:25:37.887670Z"
    }
   },
   "outputs": [],
   "source": [
    "loop = OpenSpielEnvironmentLoop(environment=env, actors=[agent])"
   ]
  },
  {
   "cell_type": "code",
   "execution_count": 11,
   "id": "f77bea39",
   "metadata": {
    "ExecuteTime": {
     "end_time": "2021-05-31T01:27:40.037314Z",
     "start_time": "2021-05-31T01:25:37.903732Z"
    },
    "scrolled": true
   },
   "outputs": [
    {
     "name": "stdout",
     "output_type": "stream",
     "text": [
      "Loss = -0.5049116611480713 | Steps = 1\n",
      "Loss = -0.6460065841674805 | Steps = 41\n",
      "Loss = -0.46696144342422485 | Steps = 81\n",
      "Loss = -0.4846264123916626 | Steps = 123\n",
      "Loss = -0.4565252959728241 | Steps = 166\n",
      "Loss = -0.447548508644104 | Steps = 208\n",
      "Loss = -0.57877117395401 | Steps = 250\n",
      "Loss = -0.5818035006523132 | Steps = 289\n",
      "Loss = -0.5456626415252686 | Steps = 326\n",
      "Loss = -0.5138188004493713 | Steps = 364\n",
      "Loss = -0.38858678936958313 | Steps = 401\n",
      "Loss = -0.5282334685325623 | Steps = 440\n",
      "Loss = -0.6908484697341919 | Steps = 482\n",
      "Loss = -0.625980019569397 | Steps = 524\n",
      "Loss = -0.3960024118423462 | Steps = 566\n",
      "Loss = -0.4678385257720947 | Steps = 609\n",
      "Loss = -0.5946560502052307 | Steps = 650\n",
      "Loss = -0.5355611443519592 | Steps = 691\n",
      "Loss = -0.7328777313232422 | Steps = 729\n",
      "Loss = -0.24787819385528564 | Steps = 769\n",
      "Loss = -0.4891621172428131 | Steps = 811\n",
      "Loss = -0.4183257520198822 | Steps = 854\n",
      "Loss = -1.1634336709976196 | Steps = 897\n",
      "Loss = -1.6184744834899902 | Steps = 940\n",
      "Loss = -1.8836275339126587 | Steps = 981\n",
      "Loss = -1.3263781070709229 | Steps = 1024\n",
      "Loss = -9.165769577026367 | Steps = 1065\n",
      "Loss = -5.751431941986084 | Steps = 1108\n",
      "Loss = -8.986120223999023 | Steps = 1148\n",
      "Loss = -18.974040985107422 | Steps = 1192\n",
      "Loss = -6.769176006317139 | Steps = 1233\n",
      "Loss = -42.10858154296875 | Steps = 1274\n",
      "Loss = -40.08894729614258 | Steps = 1316\n",
      "Loss = -39.773250579833984 | Steps = 1358\n",
      "Loss = -55.72612762451172 | Steps = 1397\n",
      "Loss = -77.86894226074219 | Steps = 1437\n",
      "Loss = -96.9830093383789 | Steps = 1481\n",
      "Loss = -66.3835220336914 | Steps = 1525\n",
      "Loss = -87.76370239257812 | Steps = 1567\n",
      "Loss = -146.13125610351562 | Steps = 1609\n",
      "Loss = -244.4364013671875 | Steps = 1653\n",
      "Loss = -231.75283813476562 | Steps = 1696\n",
      "Loss = -358.4739990234375 | Steps = 1737\n",
      "Loss = -320.5413513183594 | Steps = 1778\n",
      "Loss = -479.5890197753906 | Steps = 1819\n",
      "Loss = -643.3030395507812 | Steps = 1858\n",
      "Loss = -511.64666748046875 | Steps = 1897\n",
      "Loss = -704.8134765625 | Steps = 1939\n",
      "Loss = -627.1939086914062 | Steps = 1981\n",
      "Loss = -526.1484985351562 | Steps = 2021\n",
      "Loss = -1050.6827392578125 | Steps = 2062\n",
      "Loss = -103.95259094238281 | Steps = 2103\n",
      "Loss = -1437.4332275390625 | Steps = 2147\n",
      "Loss = -1499.281494140625 | Steps = 2186\n",
      "Loss = -844.6570434570312 | Steps = 2228\n",
      "Loss = -2080.93798828125 | Steps = 2268\n",
      "Loss = -2092.6201171875 | Steps = 2310\n",
      "Loss = -643.4632568359375 | Steps = 2353\n",
      "Loss = -2665.300537109375 | Steps = 2397\n",
      "Loss = -2319.711181640625 | Steps = 2439\n",
      "Loss = -1216.15234375 | Steps = 2478\n",
      "Loss = -3482.418701171875 | Steps = 2520\n",
      "Loss = -2890.2919921875 | Steps = 2560\n",
      "Loss = -3573.11572265625 | Steps = 2600\n",
      "Loss = -6173.4609375 | Steps = 2641\n",
      "Loss = -5048.9013671875 | Steps = 2684\n",
      "Loss = -3213.55078125 | Steps = 2727\n",
      "Loss = -7038.3505859375 | Steps = 2771\n",
      "Loss = -8112.0556640625 | Steps = 2814\n",
      "Loss = -3496.893310546875 | Steps = 2858\n",
      "Loss = -4193.22314453125 | Steps = 2899\n",
      "Loss = -10198.640625 | Steps = 2941\n",
      "Loss = -10793.9560546875 | Steps = 2983\n",
      "Loss = -1766.7528076171875 | Steps = 3025\n",
      "Loss = -4636.33984375 | Steps = 3069\n",
      "Loss = -11893.7890625 | Steps = 3111\n",
      "Loss = -10742.958984375 | Steps = 3153\n",
      "Loss = -13192.6884765625 | Steps = 3196\n",
      "Loss = -7463.6298828125 | Steps = 3241\n",
      "Loss = -12120.689453125 | Steps = 3281\n",
      "Loss = -11489.404296875 | Steps = 3323\n",
      "Loss = -18329.708984375 | Steps = 3364\n",
      "Loss = -18663.671875 | Steps = 3407\n",
      "Loss = -14365.736328125 | Steps = 3450\n",
      "Loss = -7590.77197265625 | Steps = 3492\n",
      "Loss = -17906.59375 | Steps = 3534\n",
      "Loss = -22363.4921875 | Steps = 3574\n",
      "Loss = -18235.48828125 | Steps = 3615\n",
      "Loss = -27509.57421875 | Steps = 3656\n",
      "Loss = -21230.06640625 | Steps = 3698\n",
      "Loss = -18155.421875 | Steps = 3739\n",
      "Loss = -16228.423828125 | Steps = 3774\n",
      "Loss = -26455.912109375 | Steps = 3816\n",
      "Loss = -25645.66796875 | Steps = 3860\n",
      "Loss = -32621.775390625 | Steps = 3905\n",
      "Loss = -39417.1796875 | Steps = 3949\n",
      "Loss = -29591.125 | Steps = 3993\n",
      "Loss = -25299.083984375 | Steps = 4035\n",
      "Loss = -26946.408203125 | Steps = 4077\n",
      "Loss = -29379.341796875 | Steps = 4118\n",
      "Loss = -41518.16015625 | Steps = 4158\n",
      "Loss = -48926.375 | Steps = 4197\n",
      "Loss = -72713.96875 | Steps = 4237\n",
      "Loss = -43504.796875 | Steps = 4278\n",
      "Loss = -70368.921875 | Steps = 4320\n",
      "Loss = -56945.69921875 | Steps = 4362\n",
      "Loss = -53109.0625 | Steps = 4404\n",
      "Loss = -65828.3671875 | Steps = 4446\n",
      "Loss = -15243.921875 | Steps = 4489\n",
      "Loss = -70057.6015625 | Steps = 4534\n",
      "Loss = -64804.3671875 | Steps = 4581\n",
      "Loss = -60605.09375 | Steps = 4624\n",
      "Loss = -65817.921875 | Steps = 4665\n",
      "Loss = -59291.89453125 | Steps = 4711\n",
      "Loss = -92025.4921875 | Steps = 4757\n",
      "Loss = -70179.125 | Steps = 4800\n",
      "Loss = -83367.109375 | Steps = 4842\n",
      "Loss = -79852.4609375 | Steps = 4885\n"
     ]
    }
   ],
   "source": [
    "num_steps = 5_000\n",
    "loop.run(num_steps=num_steps)"
   ]
  },
  {
   "cell_type": "code",
   "execution_count": 12,
   "id": "f86959ad",
   "metadata": {
    "ExecuteTime": {
     "end_time": "2021-05-31T01:27:40.044219Z",
     "start_time": "2021-05-31T01:27:40.039665Z"
    }
   },
   "outputs": [
    {
     "name": "stdout",
     "output_type": "stream",
     "text": [
      "/tmp/moozi-log-52a4b607-d040-4c\n"
     ]
    }
   ],
   "source": [
    "print(learner._jaxboard_logger._log_dir)"
   ]
  },
  {
   "cell_type": "code",
   "execution_count": 19,
   "id": "e8f3c814",
   "metadata": {
    "ExecuteTime": {
     "end_time": "2021-05-31T03:41:49.777175Z",
     "start_time": "2021-05-31T03:41:49.764450Z"
    }
   },
   "outputs": [
    {
     "data": {
      "text/plain": [
       "DeviceArray([0.20305708, 0.02748079, 0.02748079, 0.02748079, 0.02748079,\n",
       "             0.02748079, 0.02748079, 0.02748079, 0.02748079, 0.02748079,\n",
       "             0.02748079, 0.02748079, 0.02748079, 0.02748079, 0.02748079,\n",
       "             0.02748079, 0.02748079, 0.02748079, 0.02748079, 0.02748079,\n",
       "             0.02748079, 0.02748079, 0.02748079, 0.02748079, 0.02748079,\n",
       "             0.02748079, 0.02748079, 0.02748079, 0.02748079, 0.02748079],            dtype=float32)"
      ]
     },
     "execution_count": 19,
     "metadata": {},
     "output_type": "execute_result"
    }
   ],
   "source": [
    "logits = -np.ones(30)\n",
    "logits[0] = 1\n",
    "jax.nn.softmax(logits)"
   ]
  },
  {
   "cell_type": "code",
   "execution_count": null,
   "id": "71482aa9",
   "metadata": {},
   "outputs": [],
   "source": [
    "\n",
    "\n",
    "\n",
    "\n",
    "\n",
    "\n",
    "\n",
    "\n",
    "\n",
    "\n",
    "\n",
    "\n",
    "\n",
    "\n",
    "\n",
    "\n",
    "\n",
    "\n",
    "\n",
    "\n",
    "\n"
   ]
  }
 ],
 "metadata": {
  "kernelspec": {
   "display_name": "Python 3",
   "language": "python",
   "name": "python3"
  },
  "language_info": {
   "codemirror_mode": {
    "name": "ipython",
    "version": 3
   },
   "file_extension": ".py",
   "mimetype": "text/x-python",
   "name": "python",
   "nbconvert_exporter": "python",
   "pygments_lexer": "ipython3",
   "version": "3.8.5"
  }
 },
 "nbformat": 4,
 "nbformat_minor": 5
}
