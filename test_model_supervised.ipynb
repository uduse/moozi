{
 "cells": [
  {
   "cell_type": "code",
   "execution_count": 1,
   "id": "36c7f15f",
   "metadata": {},
   "outputs": [],
   "source": [
    "import random\n",
    "import copy\n",
    "from collections import namedtuple\n",
    "from dataclasses import dataclass\n",
    "import typing\n",
    "import functools\n",
    "from pprint import pprint\n",
    "\n",
    "import jax\n",
    "import jax.numpy as jnp\n",
    "from jax import grad, value_and_grad, jit, vmap\n",
    "from jax.experimental import optimizers\n",
    "from jax.experimental import stax\n",
    "import optax\n",
    "import haiku as hk\n",
    "from jax.tree_util import tree_flatten\n",
    "\n",
    "import pyspiel\n",
    "import open_spiel\n",
    "from open_spiel.python import rl_environment\n",
    "import dm_env\n",
    "import acme\n",
    "from acme.wrappers.open_spiel_wrapper import OpenSpielWrapper\n",
    "\n",
    "from tqdm.notebook import tqdm\n",
    "import numpy as np\n",
    "import trueskill"
   ]
  },
  {
   "cell_type": "code",
   "execution_count": 2,
   "id": "244e76fa",
   "metadata": {},
   "outputs": [],
   "source": [
    "import moozi as mz\n",
    "from moozi import Game, Action, ActionHistory, Player\n",
    "from moozi.model import Model"
   ]
  },
  {
   "cell_type": "code",
   "execution_count": null,
   "id": "7ca90ed4",
   "metadata": {},
   "outputs": [],
   "source": [
    "env = OpenSpielWrapper(open_spiel.python.rl_environment.Environment('catch(columns=3,rows=4)'))"
   ]
  },
  {
   "cell_type": "code",
   "execution_count": 3,
   "id": "f900b993",
   "metadata": {
    "scrolled": false
   },
   "outputs": [],
   "source": [
    "for _ in range(10):\n",
    "    time_step = env.reset()\n",
    "    while True:\n",
    "#         print(env.get_state, '\\n')\n",
    "        legals = time_step.observation[env.current_player].legal_actions\n",
    "        action = np.random.choice(np.nonzero(legals)[0])\n",
    "        time_step = env.step([action])\n",
    "        if time_step.last():\n",
    "#             print(env.get_state, '\\n')\n",
    "            break"
   ]
  },
  {
   "cell_type": "code",
   "execution_count": 4,
   "id": "fe5746c1",
   "metadata": {},
   "outputs": [
    {
     "data": {
      "text/plain": [
       "(12,)"
      ]
     },
     "execution_count": 4,
     "metadata": {},
     "output_type": "execute_result"
    }
   ],
   "source": [
    "env.observation_spec().observation.shape"
   ]
  },
  {
   "cell_type": "code",
   "execution_count": 5,
   "id": "6f58468b",
   "metadata": {},
   "outputs": [],
   "source": [
    "dim_actions = env.action_spec().num_values\n",
    "dim_repr = 7\n",
    "dim_obs = env.observation_spec().observation.shape"
   ]
  },
  {
   "cell_type": "code",
   "execution_count": 6,
   "id": "64da02ac",
   "metadata": {},
   "outputs": [],
   "source": [
    "def get_model(rng, dim_obs, dim_actions, dim_repr):\n",
    "    initial_inference = hk.without_apply_rng(hk.transform(\n",
    "        lambda x: Model(dim_actions, dim_repr).initial_inference(x)))\n",
    "    recurrent_inference = hk.without_apply_rng(hk.transform(\n",
    "        lambda x, y: Model(dim_actions, dim_repr).recurrent_inference(x, y)))\n",
    "    key_1, key_2 = jax.random.split(key)\n",
    "    params = hk.data_structures.merge(\n",
    "        initial_inference.init(key_1, jnp.ones(dim_obs)),\n",
    "        recurrent_inference.init(key_2, jnp.ones(dim_repr), jnp.ones(dim_actions))\n",
    "    )\n",
    "    return initial_inference, recurrent_inference, params"
   ]
  },
  {
   "cell_type": "code",
   "execution_count": 8,
   "id": "7e905fbd",
   "metadata": {},
   "outputs": [],
   "source": [
    "key = jax.random.PRNGKey(0)\n",
    "initial_inference, recurrent_inference, params = get_model(key, dim_obs, dim_actions, dim_repr)"
   ]
  },
  {
   "cell_type": "code",
   "execution_count": 22,
   "id": "0d6b6a28",
   "metadata": {},
   "outputs": [],
   "source": [
    "import acme\n",
    "from acme import core\n",
    "from acme import specs\n",
    "from acme import types\n",
    "from acme import wrappers\n",
    "from acme.environment_loops import open_spiel_environment_loop\n",
    "from acme.wrappers import open_spiel_wrapper\n",
    "from open_spiel.python import rl_environment\n",
    "\n",
    "class RandomActor(core.Actor):\n",
    "    \"\"\"Fake actor which generates random actions and validates specs.\"\"\"\n",
    "\n",
    "    def __init__(self, spec: specs.EnvironmentSpec):\n",
    "        self._spec = spec\n",
    "        self.num_updates = 0\n",
    "\n",
    "    def select_action(self, observation: open_spiel_wrapper.OLT) -> int:\n",
    "#         _validate_spec(self._spec.observations, observation)\n",
    "        legals = np.array(np.nonzero(observation.legal_actions), dtype=np.int32)\n",
    "        return np.random.choice(legals[0])\n",
    "\n",
    "    def observe_first(self, timestep: dm_env.TimeStep):\n",
    "#         _validate_spec(self._spec.observations, timestep.observation)\n",
    "        pass\n",
    "\n",
    "    def observe(self, action: types.NestedArray,\n",
    "                next_timestep: dm_env.TimeStep):\n",
    "        pass\n",
    "\n",
    "    def update(self, wait: bool = False):\n",
    "        self.num_updates += 1"
   ]
  },
  {
   "cell_type": "code",
   "execution_count": 23,
   "id": "f40ce5dd",
   "metadata": {},
   "outputs": [],
   "source": [
    "raw_env = rl_environment.Environment('tic_tac_toe')\n",
    "env = acme.wrappers.open_spiel_wrapper.OpenSpielWrapper(raw_env)\n",
    "env = acme.wrappers.SinglePrecisionWrapper(env)\n",
    "environment_spec = acme.make_environment_spec(env)\n",
    "\n",
    "actors = []\n",
    "for _ in range(env.num_players):\n",
    "    actors.append(RandomActor(environment_spec))\n",
    "\n",
    "loop = open_spiel_environment_loop.OpenSpielEnvironmentLoop(env, actors)\n",
    "result = loop.run_episode()\n",
    "\n",
    "loop.run(num_episodes=10)\n",
    "loop.run(num_steps=100)"
   ]
  },
  {
   "cell_type": "code",
   "execution_count": 27,
   "id": "9fc91576",
   "metadata": {},
   "outputs": [
    {
     "name": "stdout",
     "output_type": "stream",
     "text": [
      "{'episode_length': 5, 'episode_return': array([ 1., -1.], dtype=float32), 'steps_per_second': 1426.634013605442, 'episodes': 1, 'steps': 5}\n"
     ]
    }
   ],
   "source": []
  },
  {
   "cell_type": "code",
   "execution_count": 29,
   "id": "8c2c5dc5",
   "metadata": {},
   "outputs": [
    {
     "name": "stdout",
     "output_type": "stream",
     "text": [
      "None\n"
     ]
    }
   ],
   "source": [
    "result = loop.run(num_episodes=300)\n",
    "print(result)"
   ]
  },
  {
   "cell_type": "code",
   "execution_count": 26,
   "id": "45a64234",
   "metadata": {},
   "outputs": [
    {
     "name": "stdout",
     "output_type": "stream",
     "text": [
      "CMakeLists.txt  \u001b[0m\u001b[01;34marchive\u001b[0m/    \u001b[01;34mmoozi\u001b[0m/            sandbox.ipynb\r\n",
      "README.md       \u001b[01;34mbuild\u001b[0m/      \u001b[01;34mmoozi.egg-info\u001b[0m/   setup.py\r\n",
      "TODO            game.ipynb  pseudocode.py     test_model_supervised.ipynb\r\n",
      "app.py          main.cpp    requirements.txt  \u001b[01;34mtests\u001b[0m/\r\n"
     ]
    }
   ],
   "source": [
    "ls"
   ]
  }
 ],
 "metadata": {
  "kernelspec": {
   "display_name": "Python 3",
   "language": "python",
   "name": "python3"
  },
  "language_info": {
   "codemirror_mode": {
    "name": "ipython",
    "version": 3
   },
   "file_extension": ".py",
   "mimetype": "text/x-python",
   "name": "python",
   "nbconvert_exporter": "python",
   "pygments_lexer": "ipython3",
   "version": "3.8.5"
  }
 },
 "nbformat": 4,
 "nbformat_minor": 5
}
