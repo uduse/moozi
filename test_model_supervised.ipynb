{
 "cells": [
  {
   "cell_type": "code",
   "execution_count": 18,
   "id": "b8746ef3",
   "metadata": {
    "ExecuteTime": {
     "end_time": "2021-05-27T02:32:11.009395Z",
     "start_time": "2021-05-27T02:32:10.998162Z"
    }
   },
   "outputs": [],
   "source": [
    "import random\n",
    "import copy\n",
    "from collections import namedtuple\n",
    "from dataclasses import dataclass\n",
    "import datetime\n",
    "import typing\n",
    "import functools\n",
    "from pprint import pprint\n",
    "\n",
    "import jax\n",
    "import jax.numpy as jnp\n",
    "from jax import grad, value_and_grad, jit, vmap\n",
    "from jax.experimental import optimizers\n",
    "from jax.experimental import stax\n",
    "import optax\n",
    "import haiku as hk\n",
    "from jax.tree_util import tree_flatten\n",
    "\n",
    "import pyspiel\n",
    "import open_spiel\n",
    "import dm_env\n",
    "import acme\n",
    "import acme.wrappers\n",
    "import acme.jax.utils\n",
    "from acme.agents import agent as acme_agent\n",
    "from acme.agents import replay as acme_replay\n",
    "from acme.environment_loops.open_spiel_environment_loop import OpenSpielEnvironmentLoop\n",
    "from acme.wrappers.open_spiel_wrapper import OpenSpielWrapper\n",
    "\n",
    "from tqdm.notebook import tqdm\n",
    "import numpy as np\n",
    "import trueskill\n",
    "\n",
    "import moozi as mz"
   ]
  },
  {
   "cell_type": "code",
   "execution_count": 20,
   "id": "1d092b21",
   "metadata": {
    "ExecuteTime": {
     "end_time": "2021-05-27T02:32:11.588339Z",
     "start_time": "2021-05-27T02:32:11.578782Z"
    }
   },
   "outputs": [],
   "source": [
    "import moozi as mz"
   ]
  },
  {
   "cell_type": "code",
   "execution_count": 22,
   "id": "6ac9a549",
   "metadata": {
    "ExecuteTime": {
     "end_time": "2021-05-27T02:32:19.066268Z",
     "start_time": "2021-05-27T02:32:19.051256Z"
    }
   },
   "outputs": [
    {
     "name": "stderr",
     "output_type": "stream",
     "text": [
      "INFO - absl - Using game string: catch(columns=7,rows=5)\n"
     ]
    },
    {
     "name": "stdout",
     "output_type": "stream",
     "text": [
      "EnvironmentSpec(observations=OLT(observation=Array(shape=(35,), dtype=dtype('float32'), name=None), legal_actions=Array(shape=(3,), dtype=dtype('float32'), name=None), terminal=Array(shape=(1,), dtype=dtype('float32'), name=None)), actions=DiscreteArray(shape=(), dtype=int32, name=None, minimum=0, maximum=2, num_values=3), rewards=BoundedArray(shape=(), dtype=dtype('float32'), name=None, minimum=-1.0, maximum=1.0), discounts=BoundedArray(shape=(), dtype=dtype('float32'), name=None, minimum=0.0, maximum=1.0))\n"
     ]
    }
   ],
   "source": [
    "raw_env = open_spiel.python.rl_environment.Environment('catch(columns=7,rows=5)')\n",
    "env = acme.wrappers.open_spiel_wrapper.OpenSpielWrapper(raw_env)\n",
    "env = acme.wrappers.SinglePrecisionWrapper(env)\n",
    "env_spec = acme.specs.make_environment_spec(env)\n",
    "max_game_length = env.environment.environment.game.max_game_length()\n",
    "dim_action = env_spec.actions.num_values\n",
    "dim_image = env_spec.observations.observation.shape\n",
    "dim_repr = 3\n",
    "print(env_spec)"
   ]
  },
  {
   "cell_type": "code",
   "execution_count": 23,
   "id": "27bb116e",
   "metadata": {
    "ExecuteTime": {
     "end_time": "2021-05-27T02:32:30.745039Z",
     "start_time": "2021-05-27T02:32:30.733518Z"
    }
   },
   "outputs": [
    {
     "name": "stdout",
     "output_type": "stream",
     "text": [
      "NeuralNetworkSpec(dim_image=(35,), dim_repr=3, dim_action=3)\n"
     ]
    }
   ],
   "source": [
    "nn_spec = mz.nn.NeuralNetworkSpec(\n",
    "    dim_image=dim_image,\n",
    "    dim_repr=dim_repr,\n",
    "    dim_action=dim_action\n",
    ")\n",
    "print(nn_spec)\n",
    "network = mz.nn.get_network(nn_spec)\n",
    "learning_rate = 1e-4\n",
    "optimizer = optax.adam(learning_rate)"
   ]
  },
  {
   "cell_type": "code",
   "execution_count": 24,
   "id": "f6342ced",
   "metadata": {
    "ExecuteTime": {
     "end_time": "2021-05-27T02:32:39.381486Z",
     "start_time": "2021-05-27T02:32:36.262677Z"
    }
   },
   "outputs": [],
   "source": [
    "batch_size = 16\n",
    "n_steps=5\n",
    "reverb_replay = acme_replay.make_reverb_prioritized_nstep_replay(\n",
    "    env_spec, batch_size=batch_size, n_step=n_steps)"
   ]
  },
  {
   "cell_type": "code",
   "execution_count": 26,
   "id": "2067d21f",
   "metadata": {
    "ExecuteTime": {
     "end_time": "2021-05-27T02:32:50.669982Z",
     "start_time": "2021-05-27T02:32:45.379672Z"
    }
   },
   "outputs": [],
   "source": [
    "actor = mz.actor.RandomActor(reverb_replay.adder)\n",
    "learner = mz.learner.MooZiLearner(\n",
    "    network=network,\n",
    "    loss_fn=mz.loss.initial_inference_value_loss,\n",
    "    optimizer=optimizer,\n",
    "    data_iterator=reverb_replay.data_iterator,\n",
    "    random_key=jax.random.PRNGKey(996),\n",
    ")"
   ]
  },
  {
   "cell_type": "code",
   "execution_count": null,
   "id": "1769e306",
   "metadata": {
    "ExecuteTime": {
     "end_time": "2021-05-26T21:08:07.702147Z",
     "start_time": "2021-05-26T21:08:07.698954Z"
    }
   },
   "outputs": [],
   "source": [
    "agent = acme_agent.Agent(\n",
    "    actor=actor, learner=learner, min_observations=100, observations_per_step=1)"
   ]
  },
  {
   "cell_type": "code",
   "execution_count": null,
   "id": "d74b5da2",
   "metadata": {
    "ExecuteTime": {
     "end_time": "2021-05-26T21:08:07.723312Z",
     "start_time": "2021-05-26T21:08:07.706093Z"
    }
   },
   "outputs": [],
   "source": [
    "loop = OpenSpielEnvironmentLoop(environment=env, actors=[agent])"
   ]
  },
  {
   "cell_type": "code",
   "execution_count": null,
   "id": "93f3fb59",
   "metadata": {
    "ExecuteTime": {
     "end_time": "2021-05-26T21:08:57.551642Z",
     "start_time": "2021-05-26T21:08:17.471211Z"
    },
    "scrolled": false
   },
   "outputs": [],
   "source": [
    "num_episodes = 1000\n",
    "result = loop.run(num_episodes=num_episodes)"
   ]
  }
 ],
 "metadata": {
  "kernelspec": {
   "display_name": "Python 3",
   "language": "python",
   "name": "python3"
  },
  "language_info": {
   "codemirror_mode": {
    "name": "ipython",
    "version": 3
   },
   "file_extension": ".py",
   "mimetype": "text/x-python",
   "name": "python",
   "nbconvert_exporter": "python",
   "pygments_lexer": "ipython3",
   "version": "3.8.5"
  }
 },
 "nbformat": 4,
 "nbformat_minor": 5
}
