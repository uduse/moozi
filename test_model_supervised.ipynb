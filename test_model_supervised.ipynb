{
 "cells": [
  {
   "cell_type": "code",
   "execution_count": 54,
   "id": "e76b0af0",
   "metadata": {},
   "outputs": [],
   "source": [
    "import random\n",
    "import copy\n",
    "from collections import namedtuple\n",
    "from dataclasses import dataclass\n",
    "import typing\n",
    "import functools\n",
    "from pprint import pprint\n",
    "\n",
    "import jax\n",
    "import jax.numpy as jnp\n",
    "from jax import grad, value_and_grad, jit, vmap\n",
    "from jax.experimental import optimizers\n",
    "from jax.experimental import stax\n",
    "import optax\n",
    "import haiku as hk\n",
    "from jax.tree_util import tree_flatten\n",
    "\n",
    "import pyspiel\n",
    "import open_spiel\n",
    "import dm_env\n",
    "import acme\n",
    "from acme.agents import agent\n",
    "from acme.agents import replay\n",
    "# from acme import core\n",
    "# from acme import specs\n",
    "# from acme import types\n",
    "# from acme import wrappers\n",
    "from acme.jax.utils import prefetch\n",
    "from acme.environment_loops.open_spiel_environment_loop import OpenSpielEnvironmentLoop\n",
    "from acme.wrappers.open_spiel_wrapper import OpenSpielWrapper\n",
    "\n",
    "from tqdm.notebook import tqdm\n",
    "import numpy as np\n",
    "import trueskill"
   ]
  },
  {
   "cell_type": "code",
   "execution_count": 2,
   "id": "1d092b21",
   "metadata": {},
   "outputs": [],
   "source": [
    "import moozi as mz\n",
    "from moozi import Game, Action, ActionHistory, Player\n",
    "from moozi.model import Model"
   ]
  },
  {
   "cell_type": "code",
   "execution_count": 3,
   "id": "7937fd7c",
   "metadata": {},
   "outputs": [],
   "source": [
    "# dim_actions = env.action_spec().num_values\n",
    "# dim_repr = 7\n",
    "# dim_obs = env.observation_spec().observation.shape"
   ]
  },
  {
   "cell_type": "code",
   "execution_count": 14,
   "id": "81d16a9a",
   "metadata": {},
   "outputs": [],
   "source": [
    "def get_model(rng, dim_obs, dim_actions, dim_repr):\n",
    "    initial_inference = hk.without_apply_rng(hk.transform(\n",
    "        lambda x: Model(dim_actions, dim_repr).initial_inference(x)))\n",
    "    recurrent_inference = hk.without_apply_rng(hk.transform(\n",
    "        lambda x, y: Model(dim_actions, dim_repr).recurrent_inference(x, y)))\n",
    "    key_1, key_2 = jax.random.split(key)\n",
    "    params = hk.data_structures.merge(\n",
    "        initial_inference.init(key_1, jnp.ones(dim_obs)),\n",
    "        recurrent_inference.init(key_2, jnp.ones(dim_repr), jnp.ones(dim_actions))\n",
    "    )\n",
    "    return initial_inference, recurrent_inference, params"
   ]
  },
  {
   "cell_type": "code",
   "execution_count": 15,
   "id": "26155ff5",
   "metadata": {},
   "outputs": [],
   "source": [
    "class RandomActor(acme.core.Actor):\n",
    "    def __init__(self, adder):\n",
    "        self._adder = adder\n",
    "        \n",
    "    def select_action(self, observation: acme.wrappers.open_spiel_wrapper.OLT) -> int:\n",
    "        legals = np.array(np.nonzero(observation.legal_actions), dtype=np.int32)\n",
    "        return np.random.choice(legals[0])\n",
    "\n",
    "    def observe_first(self, timestep: dm_env.TimeStep):\n",
    "        self._adder.add_first(timestep)\n",
    "\n",
    "    def observe(self, action: acme.types.NestedArray, next_timestep: dm_env.TimeStep):\n",
    "        self._adder.add(action, next_timestep)\n",
    "\n",
    "    def update(self, wait: bool = False):\n",
    "        pass\n",
    "    \n",
    "class MuZeroLearner(acme.core.Learner):\n",
    "    def __init__(self, rng, dim_obs, dim_actions, dim_repr):\n",
    "        self.ini_ref, self.recur_ref, self.params = self.get_model(rng, dim_obs, dim_actions, dim_repr)\n",
    "        \n",
    "class RandomAgent(agent.Agent):\n",
    "    def __init__(self, env_spec: acme.specs.EnvironmentSpec):\n",
    "        reverb_replay = replay.make_reverb_prioritized_nstep_replay(env_spec, n_step=2)\n",
    "        key = jax.random.PRNGKey(0)\n",
    "        learner = MuZeroLearner(key, 10, 10, 10)\n",
    "        actor = RandomActor(reverb_replay.adder)\n",
    "        super().__init__(actor=actor)"
   ]
  },
  {
   "cell_type": "code",
   "execution_count": 55,
   "id": "b3573a2c",
   "metadata": {},
   "outputs": [],
   "source": [
    "raw_env = open_spiel.python.rl_environment.Environment('catch(columns=3,rows=4)')\n",
    "env = acme.wrappers.open_spiel_wrapper.OpenSpielWrapper(raw_env)\n",
    "env = acme.wrappers.SinglePrecisionWrapper(env)\n",
    "env_spec = acme.make_environment_spec(env)"
   ]
  },
  {
   "cell_type": "code",
   "execution_count": 95,
   "id": "e4268411",
   "metadata": {},
   "outputs": [],
   "source": [
    "reverb_replay = replay.make_reverb_prioritized_sequence_replay(\n",
    "    env_spec, batch_size=5\n",
    ")\n",
    "actor = RandomActor(reverb_replay.adder)\n",
    "loop = OpenSpielEnvironmentLoop(environment=env, actors=[actor])"
   ]
  },
  {
   "cell_type": "code",
   "execution_count": 65,
   "id": "adc1805b",
   "metadata": {},
   "outputs": [],
   "source": [
    "loop.run(num_episodes=10)"
   ]
  },
  {
   "cell_type": "code",
   "execution_count": 66,
   "id": "057b8288",
   "metadata": {
    "scrolled": false
   },
   "outputs": [],
   "source": [
    "ditr = prefetch(reverb_replay.data_iterator)"
   ]
  },
  {
   "cell_type": "code",
   "execution_count": 67,
   "id": "dbebd75c",
   "metadata": {
    "scrolled": false
   },
   "outputs": [],
   "source": [
    "batch = next(ditr)"
   ]
  },
  {
   "cell_type": "code",
   "execution_count": 92,
   "id": "107e1cdb",
   "metadata": {},
   "outputs": [
    {
     "data": {
      "text/plain": [
       "(10, 12)"
      ]
     },
     "execution_count": 92,
     "metadata": {},
     "output_type": "execute_result"
    }
   ],
   "source": [
    "batch.data.observation.observation.shape"
   ]
  },
  {
   "cell_type": "code",
   "execution_count": 93,
   "id": "09cf9ea5",
   "metadata": {},
   "outputs": [
    {
     "data": {
      "text/plain": [
       "(10, 12)"
      ]
     },
     "execution_count": 93,
     "metadata": {},
     "output_type": "execute_result"
    }
   ],
   "source": [
    "batch.data.next_observation.observation.shape"
   ]
  },
  {
   "cell_type": "code",
   "execution_count": 23,
   "id": "ec9eee0c",
   "metadata": {},
   "outputs": [
    {
     "ename": "TypeError",
     "evalue": "NewSampler(): incompatible function arguments. The following argument types are supported:\n    1. (self: reverb.libpybind.Client, arg0: str, arg1: int, arg2: int, arg3: int) -> reverb.libpybind.Sampler\n\nInvoked with: <reverb.libpybind.Client object at 0x7f3dcf754670>, None, 1, 1, 3000",
     "output_type": "error",
     "traceback": [
      "\u001b[0;31m---------------------------------------------------------------------------\u001b[0m",
      "\u001b[0;31mTypeError\u001b[0m                                 Traceback (most recent call last)",
      "\u001b[0;32m<ipython-input-23-58dc300f5f2e>\u001b[0m in \u001b[0;36m<module>\u001b[0;34m\u001b[0m\n\u001b[0;32m----> 1\u001b[0;31m \u001b[0;32mfor\u001b[0m \u001b[0mx\u001b[0m \u001b[0;32min\u001b[0m \u001b[0mclient\u001b[0m\u001b[0;34m.\u001b[0m\u001b[0msample\u001b[0m\u001b[0;34m(\u001b[0m\u001b[0;32mNone\u001b[0m\u001b[0;34m)\u001b[0m\u001b[0;34m:\u001b[0m\u001b[0;34m\u001b[0m\u001b[0;34m\u001b[0m\u001b[0m\n\u001b[0m\u001b[1;32m      2\u001b[0m     \u001b[0mprint\u001b[0m\u001b[0;34m(\u001b[0m\u001b[0mx\u001b[0m\u001b[0;34m)\u001b[0m\u001b[0;34m\u001b[0m\u001b[0;34m\u001b[0m\u001b[0m\n",
      "\u001b[0;32m/usr/local/lib/python3.8/dist-packages/reverb/client.py\u001b[0m in \u001b[0;36msample\u001b[0;34m(self, table, num_samples, validation_timeout_ms)\u001b[0m\n\u001b[1;32m    381\u001b[0m     \"\"\"\n\u001b[1;32m    382\u001b[0m     \u001b[0mbuffer_size\u001b[0m \u001b[0;34m=\u001b[0m \u001b[0;36m1\u001b[0m\u001b[0;34m\u001b[0m\u001b[0;34m\u001b[0m\u001b[0m\n\u001b[0;32m--> 383\u001b[0;31m     sampler = self._client.NewSampler(table, num_samples, buffer_size,\n\u001b[0m\u001b[1;32m    384\u001b[0m                                       validation_timeout_ms)\n\u001b[1;32m    385\u001b[0m \u001b[0;34m\u001b[0m\u001b[0m\n",
      "\u001b[0;31mTypeError\u001b[0m: NewSampler(): incompatible function arguments. The following argument types are supported:\n    1. (self: reverb.libpybind.Client, arg0: str, arg1: int, arg2: int, arg3: int) -> reverb.libpybind.Sampler\n\nInvoked with: <reverb.libpybind.Client object at 0x7f3dcf754670>, None, 1, 1, 3000"
     ]
    }
   ],
   "source": [
    "for x in client.sample():\n",
    "    print(x)"
   ]
  }
 ],
 "metadata": {
  "kernelspec": {
   "display_name": "Python 3",
   "language": "python",
   "name": "python3"
  },
  "language_info": {
   "codemirror_mode": {
    "name": "ipython",
    "version": 3
   },
   "file_extension": ".py",
   "mimetype": "text/x-python",
   "name": "python",
   "nbconvert_exporter": "python",
   "pygments_lexer": "ipython3",
   "version": "3.8.5"
  }
 },
 "nbformat": 4,
 "nbformat_minor": 5
}
