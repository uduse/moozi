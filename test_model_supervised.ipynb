{
 "cells": [
  {
   "cell_type": "code",
   "execution_count": 10,
   "id": "e76b0af0",
   "metadata": {},
   "outputs": [],
   "source": [
    "import random\n",
    "import copy\n",
    "from collections import namedtuple\n",
    "from dataclasses import dataclass\n",
    "import datetime\n",
    "import typing\n",
    "import functools\n",
    "from pprint import pprint\n",
    "\n",
    "import jax\n",
    "import jax.numpy as jnp\n",
    "from jax import grad, value_and_grad, jit, vmap\n",
    "from jax.experimental import optimizers\n",
    "from jax.experimental import stax\n",
    "import optax\n",
    "import haiku as hk\n",
    "from jax.tree_util import tree_flatten\n",
    "\n",
    "import pyspiel\n",
    "import open_spiel\n",
    "import dm_env\n",
    "import acme\n",
    "from acme.agents import agent\n",
    "from acme.agents import replay\n",
    "# from acme import core\n",
    "# from acme import specs\n",
    "# from acme import types\n",
    "# from acme import wrappers\n",
    "from acme.jax.utils import prefetch\n",
    "from acme.environment_loops.open_spiel_environment_loop import OpenSpielEnvironmentLoop\n",
    "from acme.wrappers.open_spiel_wrapper import OpenSpielWrapper\n",
    "\n",
    "from tqdm.notebook import tqdm\n",
    "import numpy as np\n",
    "import trueskill"
   ]
  },
  {
   "cell_type": "code",
   "execution_count": 11,
   "id": "1d092b21",
   "metadata": {},
   "outputs": [],
   "source": [
    "import moozi as mz\n",
    "from moozi import Game, Action, ActionHistory, Player\n",
    "from moozi.model import Model"
   ]
  },
  {
   "cell_type": "code",
   "execution_count": 12,
   "id": "297a9b6f",
   "metadata": {},
   "outputs": [],
   "source": [
    "class RandomActor(acme.core.Actor):\n",
    "    def __init__(self, adder):\n",
    "        self._adder = adder\n",
    "        \n",
    "    def select_action(self, observation: acme.wrappers.open_spiel_wrapper.OLT) -> int:\n",
    "        legals = np.array(np.nonzero(observation.legal_actions), dtype=np.int32)\n",
    "        return np.random.choice(legals[0])\n",
    "\n",
    "    def observe_first(self, timestep: dm_env.TimeStep):\n",
    "        self._adder.add_first(timestep)\n",
    "\n",
    "    def observe(self, action: acme.types.NestedArray, next_timestep: dm_env.TimeStep):\n",
    "        self._adder.add(action, next_timestep)\n",
    "\n",
    "    def update(self, wait: bool = False):\n",
    "        pass"
   ]
  },
  {
   "cell_type": "code",
   "execution_count": 13,
   "id": "479cdd95",
   "metadata": {},
   "outputs": [],
   "source": [
    "class MyNetwork(typing.NamedTuple):\n",
    "    init: typing.Callable = None\n",
    "    apply_initial_inference: typing.Callable = None\n",
    "    apply_recurrent_inference: typing.Callable = None"
   ]
  },
  {
   "cell_type": "code",
   "execution_count": 14,
   "id": "f3ee71df",
   "metadata": {},
   "outputs": [],
   "source": [
    "def get_network(dim_image, dim_actions, dim_repr):\n",
    "    initial_inference = hk.without_apply_rng(hk.transform(\n",
    "        lambda x: Model(dim_actions, dim_repr).initial_inference(x)))\n",
    "    recurrent_inference = hk.without_apply_rng(hk.transform(\n",
    "        lambda x, y: Model(dim_actions, dim_repr).recurrent_inference(x, y)))\n",
    "    def init(random_key):\n",
    "        key_1, key_2 = jax.random.split(random_key)\n",
    "        params = hk.data_structures.merge(\n",
    "            initial_inference.init(key_1, jnp.ones(dim_image)),\n",
    "            recurrent_inference.init(key_2, jnp.ones(dim_repr), jnp.ones(dim_actions))\n",
    "        )\n",
    "        return params\n",
    "    return MyNetwork(\n",
    "        init,\n",
    "        initial_inference,\n",
    "        recurrent_inference\n",
    "    )"
   ]
  },
  {
   "cell_type": "code",
   "execution_count": 15,
   "id": "4cff57fa",
   "metadata": {},
   "outputs": [],
   "source": [
    "def loss_fn(network, params, batch):\n",
    "    inf_out = network.apply_initial_inference(\n",
    "        params, batch.data.observation.observation)\n",
    "    return jnp.mean(jnp.square(inf_out.value - batch.data.reward))"
   ]
  },
  {
   "cell_type": "code",
   "execution_count": 20,
   "id": "39f72f8e",
   "metadata": {},
   "outputs": [],
   "source": [
    "# https://github.com/deepmind/acme/blob/a6b4162701542ed08b0b911ffac7c69fcb1bb3c7/acme/agents/jax/dqn/learning_lib.py#L68\n",
    "class TrainingState(typing.NamedTuple):\n",
    "    params: typing.Any\n",
    "    opt_state: optax.OptState\n",
    "    steps: int\n",
    "    rng_key: jax.random.PRNGKey\n",
    "        \n",
    "class MyLearner(acme.Learner):\n",
    "    def __init__(\n",
    "        self,\n",
    "        network,\n",
    "        loss_fn,\n",
    "        optimizer,\n",
    "        data_iterator, \n",
    "        random_key\n",
    "    ):\n",
    "        self.network = network\n",
    "        self._loss = jax.jit(functools.partial(loss_fn, self.network))\n",
    "        \n",
    "        @jax.jit\n",
    "        def sgd_step(training_state, batch):\n",
    "            key, new_key = jax.random.split(training_state.rng_key)\n",
    "            loss, grads = jax.value_and_grad(loss_fn)(training_state.params, batch)\n",
    "            updates, new_opt_state = optimizer.update(grads, training_state.opt_state)\n",
    "            new_params = optax.apply_updates(training_state.params, updates)\n",
    "            steps = training_state.steps + 1\n",
    "            new_training_state = TrainingState(new_params, new_opt_state, steps, new_key)\n",
    "            return new_training_state, loss\n",
    "        \n",
    "        self._sgd_step = sgd_step\n",
    "        self._data_iterator = prefetch(data_iterator)\n",
    "        self._logger = acme.utils.loggers.TerminalLogger(time_delta=1., print_fn=print)\n",
    "        \n",
    "        key_params, key_state = jax.random.split(random_key, 2)\n",
    "        params = self.network.init(key_params)\n",
    "        self._state = TrainingState(\n",
    "            params=params,\n",
    "            opt_state=optimizer.init(params),\n",
    "            steps=0,\n",
    "            rng_key=key_state\n",
    "        )\n",
    "        \n",
    "    def step(self):\n",
    "        batch = next(self._data_iterator)\n",
    "        self._state, loss = self._sgd_step(self._state, batch)\n",
    "        self._logger.write(loss)\n",
    "        \n",
    "    def get_variables(self, names):\n",
    "        return [self._state.params]\n",
    "    \n",
    "    def save(self):\n",
    "        return self._state\n",
    "    \n",
    "    def restore(self, state):\n",
    "        self._state = state"
   ]
  },
  {
   "cell_type": "code",
   "execution_count": 21,
   "id": "26155ff5",
   "metadata": {},
   "outputs": [],
   "source": [
    "class MyAgentConfig(typing.NamedTuple):\n",
    "    batch_size: int = 32\n",
    "    learning_rate: float = 1e-3\n",
    "    min_observation: int = 10\n",
    "    observations_per_step: float = 0.1\n",
    "\n",
    "class MyAgent(agent.Agent):\n",
    "    def __init__(self, env_spec, config, network):\n",
    "        reverb_replay = replay.make_reverb_prioritized_nstep_replay(\n",
    "            env_spec, batch_size=config.batch_size\n",
    "        )\n",
    "        optimizer = optax.adam(config.learning_rate)\n",
    "        actor = RandomActor(reverb_replay.adder)\n",
    "        learner = MyLearner(\n",
    "            network=network,\n",
    "            loss_fn=loss_fn,\n",
    "            optimizer=optimizer,\n",
    "            data_iterator=reverb_replay.data_iterator, \n",
    "            random_key=jax.random.PRNGKey(0)\n",
    "        )\n",
    "        super().__init__(\n",
    "            actor=actor,\n",
    "            learner=learner,\n",
    "            min_observations=config.min_observation,\n",
    "            observations_per_step=config.observations_per_step\n",
    "        )"
   ]
  },
  {
   "cell_type": "code",
   "execution_count": 22,
   "id": "83a9b214",
   "metadata": {},
   "outputs": [],
   "source": [
    "raw_env = open_spiel.python.rl_environment.Environment('catch(columns=3,rows=4)')\n",
    "env = acme.wrappers.open_spiel_wrapper.OpenSpielWrapper(raw_env)\n",
    "env = acme.wrappers.SinglePrecisionWrapper(env)\n",
    "env_spec = acme.make_environment_spec(env)"
   ]
  },
  {
   "cell_type": "code",
   "execution_count": 23,
   "id": "b3573a2c",
   "metadata": {},
   "outputs": [],
   "source": [
    "dim_actions = env_spec.actions.num_values\n",
    "dim_image = env_spec.observations.observation.shape\n",
    "dim_repr = 3"
   ]
  },
  {
   "cell_type": "code",
   "execution_count": 25,
   "id": "13e56879",
   "metadata": {},
   "outputs": [],
   "source": [
    "network = get_network(dim_image, dim_actions, dim_repr)\n",
    "my_agent = MyAgent(env_spec, MyAgentConfig(), network)\n",
    "loop = OpenSpielEnvironmentLoop(environment=env, actors=[my_agent])"
   ]
  },
  {
   "cell_type": "code",
   "execution_count": null,
   "id": "c5e39b5f",
   "metadata": {},
   "outputs": [],
   "source": [
    "loop.run(num_episodes=100)"
   ]
  },
  {
   "cell_type": "code",
   "execution_count": null,
   "id": "560b065b",
   "metadata": {},
   "outputs": [],
   "source": [
    "loop"
   ]
  },
  {
   "cell_type": "code",
   "execution_count": 113,
   "id": "e4268411",
   "metadata": {},
   "outputs": [],
   "source": [
    "# actor = RandomActor(reverb_replay.adder)\n",
    "# loop = OpenSpielEnvironmentLoop(environment=env, actors=[actor], logger=logger)"
   ]
  },
  {
   "cell_type": "code",
   "execution_count": 119,
   "id": "f8bfae38",
   "metadata": {},
   "outputs": [],
   "source": []
  },
  {
   "cell_type": "code",
   "execution_count": 120,
   "id": "77638135",
   "metadata": {},
   "outputs": [],
   "source": [
    "data_iter = prefetch(reverb_replay.data_iterator)\n",
    "opt_state = optimizer.init(params)\n",
    "training_state = TrainingState(params, opt_state, 0, jax.random.PRNGKey(1))\n",
    "losses = []\n",
    "for _ in range(10000):\n",
    "    batch = next(data_iter)\n",
    "    training_state, loss = sgd_step(training_state, batch)\n",
    "    losses.append(loss)"
   ]
  },
  {
   "cell_type": "code",
   "execution_count": 121,
   "id": "16388db5",
   "metadata": {},
   "outputs": [],
   "source": [
    "def smooth(y, box_pts):\n",
    "    box = np.ones(box_pts)/box_pts\n",
    "    y_smooth = np.convolve(y, box, mode='same')\n",
    "    return y_smooth"
   ]
  },
  {
   "cell_type": "code",
   "execution_count": 126,
   "id": "b4c04cdd",
   "metadata": {},
   "outputs": [],
   "source": [
    "import matplotlib.pyplot as plt\n",
    "\n",
    "x = np.linspace(0, len(losses), num=len(losses))\n",
    "y = smooth(losses, 500)"
   ]
  },
  {
   "cell_type": "code",
   "execution_count": 85,
   "id": "df9034c4",
   "metadata": {},
   "outputs": [
    {
     "data": {
      "text/plain": [
       "10000"
      ]
     },
     "execution_count": 85,
     "metadata": {},
     "output_type": "execute_result"
    }
   ],
   "source": [
    "len(losses)"
   ]
  },
  {
   "cell_type": "code",
   "execution_count": 127,
   "id": "72376f8c",
   "metadata": {},
   "outputs": [
    {
     "data": {
      "image/png": "[encoded data removed]",
      "text/plain": [
       "<Figure size 432x288 with 1 Axes>"
      ]
     },
     "metadata": {
      "needs_background": "light"
     },
     "output_type": "display_data"
    }
   ],
   "source": [
    "%matplotlib inline\n",
    "plt.plot(x, y)\n",
    "plt.show()"
   ]
  },
  {
   "cell_type": "code",
   "execution_count": null,
   "id": "b8e9555e",
   "metadata": {},
   "outputs": [],
   "source": [
    "\n",
    "\n",
    "\n",
    "\n",
    "\n",
    "\n",
    "\n",
    "\n",
    "\n",
    "\n",
    "\n",
    "\n",
    "\n",
    "\n",
    "\n",
    "\n",
    "\n",
    "\n",
    "\n",
    "\n",
    "\n",
    "\n",
    "\n",
    "\n",
    "\n",
    "\n",
    "\n",
    "\n",
    "\n",
    "\n",
    "\n",
    "\n",
    "\n",
    "\n",
    "\n",
    "\n"
   ]
  }
 ],
 "metadata": {
  "kernelspec": {
   "display_name": "Python 3",
   "language": "python",
   "name": "python3"
  },
  "language_info": {
   "codemirror_mode": {
    "name": "ipython",
    "version": 3
   },
   "file_extension": ".py",
   "mimetype": "text/x-python",
   "name": "python",
   "nbconvert_exporter": "python",
   "pygments_lexer": "ipython3",
   "version": "3.8.5"
  }
 },
 "nbformat": 4,
 "nbformat_minor": 5
}
