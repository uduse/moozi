{
 "cells": [
  {
   "cell_type": "code",
   "execution_count": 1,
   "id": "b8746ef3",
   "metadata": {
    "ExecuteTime": {
     "end_time": "2021-05-26T21:07:56.101402Z",
     "start_time": "2021-05-26T21:07:56.086071Z"
    }
   },
   "outputs": [],
   "source": [
    "import random\n",
    "import copy\n",
    "from collections import namedtuple\n",
    "from dataclasses import dataclass\n",
    "import datetime\n",
    "import typing\n",
    "import functools\n",
    "from pprint import pprint"
   ]
  },
  {
   "cell_type": "code",
   "execution_count": 2,
   "id": "e76b0af0",
   "metadata": {
    "ExecuteTime": {
     "end_time": "2021-05-26T21:07:59.645673Z",
     "start_time": "2021-05-26T21:07:56.104497Z"
    }
   },
   "outputs": [],
   "source": [
    "import jax\n",
    "import jax.numpy as jnp\n",
    "from jax import grad, value_and_grad, jit, vmap\n",
    "from jax.experimental import optimizers\n",
    "from jax.experimental import stax\n",
    "import optax\n",
    "import haiku as hk\n",
    "from jax.tree_util import tree_flatten\n",
    "\n",
    "import pyspiel\n",
    "import open_spiel\n",
    "import dm_env\n",
    "import acme\n",
    "import acme.wrappers\n",
    "import acme.jax.utils\n",
    "from acme.agents import agent as acme_agent\n",
    "from acme.agents import replay as acme_replay\n",
    "from acme.environment_loops.open_spiel_environment_loop import OpenSpielEnvironmentLoop\n",
    "from acme.wrappers.open_spiel_wrapper import OpenSpielWrapper\n",
    "\n",
    "from tqdm.notebook import tqdm\n",
    "import numpy as np\n",
    "import trueskill"
   ]
  },
  {
   "cell_type": "code",
   "execution_count": 3,
   "id": "1d092b21",
   "metadata": {
    "ExecuteTime": {
     "end_time": "2021-05-26T21:07:59.655243Z",
     "start_time": "2021-05-26T21:07:59.648848Z"
    }
   },
   "outputs": [],
   "source": [
    "import moozi as mz"
   ]
  },
  {
   "cell_type": "code",
   "execution_count": 4,
   "id": "85e83ce9",
   "metadata": {
    "ExecuteTime": {
     "end_time": "2021-05-26T21:07:59.660669Z",
     "start_time": "2021-05-26T21:07:59.657951Z"
    }
   },
   "outputs": [],
   "source": [
    "# %run hardware_sanity_check.ipynb"
   ]
  },
  {
   "cell_type": "code",
   "execution_count": 5,
   "id": "b25d5a8e",
   "metadata": {
    "ExecuteTime": {
     "end_time": "2021-05-26T21:07:59.674412Z",
     "start_time": "2021-05-26T21:07:59.662391Z"
    }
   },
   "outputs": [],
   "source": [
    "# %run moozi/utils.py"
   ]
  },
  {
   "cell_type": "code",
   "execution_count": 6,
   "id": "6ac9a549",
   "metadata": {
    "ExecuteTime": {
     "end_time": "2021-05-26T21:07:59.692944Z",
     "start_time": "2021-05-26T21:07:59.676800Z"
    }
   },
   "outputs": [
    {
     "name": "stdout",
     "output_type": "stream",
     "text": [
      "EnvironmentSpec(observations=OLT(observation=Array(shape=(25,), dtype=dtype('float32'), name=None), legal_actions=Array(shape=(3,), dtype=dtype('float32'), name=None), terminal=Array(shape=(1,), dtype=dtype('float32'), name=None)), actions=DiscreteArray(shape=(), dtype=int32, name=None, minimum=0, maximum=2, num_values=3), rewards=BoundedArray(shape=(), dtype=dtype('float32'), name=None, minimum=-1.0, maximum=1.0), discounts=BoundedArray(shape=(), dtype=dtype('float32'), name=None, minimum=0.0, maximum=1.0))\n"
     ]
    }
   ],
   "source": [
    "# OpenSpiel environment, not using it for now since not supported by the latest relased Acme\n",
    "# raw_env = open_spiel.python.rl_environment.Environment('catch(columns=8,rows=4)')\n",
    "raw_env = open_spiel.python.rl_environment.Environment('catch(columns=7,rows=5)')\n",
    "env = acme.wrappers.open_spiel_wrapper.OpenSpielWrapper(raw_env)\n",
    "env = acme.wrappers.SinglePrecisionWrapper(env)\n",
    "env_spec = acme.specs.make_environment_spec(env)\n",
    "max_game_length = env.environment.environment.game.max_game_length()\n",
    "dim_action = env_spec.actions.num_values\n",
    "dim_image = env_spec.observations.observation.shape\n",
    "dim_repr = 3\n",
    "print(env_spec)\n",
    "# print_traj_in_env(env)"
   ]
  },
  {
   "cell_type": "code",
   "execution_count": 7,
   "id": "27bb116e",
   "metadata": {
    "ExecuteTime": {
     "end_time": "2021-05-26T21:07:59.721977Z",
     "start_time": "2021-05-26T21:07:59.695602Z"
    }
   },
   "outputs": [
    {
     "name": "stdout",
     "output_type": "stream",
     "text": [
      "NeuralNetworkSpec(dim_image=(25,), dim_repr=3, dim_action=3)\n"
     ]
    }
   ],
   "source": [
    "nn_spec = mz.nn.NeuralNetworkSpec(\n",
    "    dim_image=dim_image,\n",
    "    dim_repr=dim_repr,\n",
    "    dim_action=dim_action\n",
    ")\n",
    "print(nn_spec)\n",
    "network = mz.nn.get_network(nn_spec)\n",
    "optimizer = optax.adam(1e-4)"
   ]
  },
  {
   "cell_type": "code",
   "execution_count": 8,
   "id": "80cd3f82",
   "metadata": {
    "ExecuteTime": {
     "end_time": "2021-05-26T21:08:01.141590Z",
     "start_time": "2021-05-26T21:07:59.724420Z"
    }
   },
   "outputs": [],
   "source": [
    "batch_size = 16\n",
    "n_steps=5\n",
    "reverb_replay = acme_replay.make_reverb_prioritized_nstep_replay(\n",
    "    env_spec, batch_size=batch_size, n_step=n_steps)\n",
    "# reverb_replay = acme_replay.make_reverb_prioritized_sequence_replay(\n",
    "#     env_spec, batch_size=batch_size)\n",
    "# reverb_replay = make_reverb_episode_replay(\n",
    "#     env_spec, max_sequence_length=max_game_length\n",
    "# )"
   ]
  },
  {
   "cell_type": "code",
   "execution_count": 9,
   "id": "0aaa8f05",
   "metadata": {
    "ExecuteTime": {
     "end_time": "2021-05-26T21:08:01.156488Z",
     "start_time": "2021-05-26T21:08:01.143910Z"
    }
   },
   "outputs": [
    {
     "data": {
      "text/plain": [
       "Transition(observation=OLT(observation=TensorSpec(shape=(25,), dtype=tf.float32, name='observation/observation'), legal_actions=TensorSpec(shape=(3,), dtype=tf.float32, name='observation/legal_actions'), terminal=TensorSpec(shape=(1,), dtype=tf.float32, name='observation/terminal')), action=TensorSpec(shape=(), dtype=tf.int32, name='action'), reward=TensorSpec(shape=(), dtype=tf.float32, name='reward'), discount=TensorSpec(shape=(), dtype=tf.float32, name='discount'), next_observation=OLT(observation=TensorSpec(shape=(25,), dtype=tf.float32, name='next_observation/observation'), legal_actions=TensorSpec(shape=(3,), dtype=tf.float32, name='next_observation/legal_actions'), terminal=TensorSpec(shape=(1,), dtype=tf.float32, name='next_observation/terminal')), extras=())"
      ]
     },
     "execution_count": 9,
     "metadata": {},
     "output_type": "execute_result"
    }
   ],
   "source": [
    "reverb_replay.adder.signature(env_spec)"
   ]
  },
  {
   "cell_type": "code",
   "execution_count": 10,
   "id": "2067d21f",
   "metadata": {
    "ExecuteTime": {
     "end_time": "2021-05-26T21:08:07.696507Z",
     "start_time": "2021-05-26T21:08:01.160023Z"
    }
   },
   "outputs": [],
   "source": [
    "actor = mz.actor.RandomActor(reverb_replay.adder)\n",
    "learner = mz.learner.MooZiLearner(\n",
    "    network=network,\n",
    "    loss_fn=mz.loss.initial_inference_value_loss,\n",
    "    optimizer=optimizer,\n",
    "    data_iterator=reverb_replay.data_iterator,\n",
    "    random_key=jax.random.PRNGKey(996),\n",
    ")"
   ]
  },
  {
   "cell_type": "code",
   "execution_count": 11,
   "id": "1769e306",
   "metadata": {
    "ExecuteTime": {
     "end_time": "2021-05-26T21:08:07.702147Z",
     "start_time": "2021-05-26T21:08:07.698954Z"
    }
   },
   "outputs": [],
   "source": [
    "agent = acme_agent.Agent(\n",
    "    actor=actor, learner=learner, min_observations=100, observations_per_step=1)"
   ]
  },
  {
   "cell_type": "code",
   "execution_count": 12,
   "id": "ca0ff6d2",
   "metadata": {
    "ExecuteTime": {
     "end_time": "2021-05-26T21:08:07.723312Z",
     "start_time": "2021-05-26T21:08:07.706093Z"
    }
   },
   "outputs": [],
   "source": [
    "loop = OpenSpielEnvironmentLoop(environment=env, actors=[agent])"
   ]
  },
  {
   "cell_type": "code",
   "execution_count": 14,
   "id": "93f3fb59",
   "metadata": {
    "ExecuteTime": {
     "end_time": "2021-05-26T21:08:57.551642Z",
     "start_time": "2021-05-26T21:08:17.471211Z"
    },
    "scrolled": false
   },
   "outputs": [
    {
     "name": "stdout",
     "output_type": "stream",
     "text": [
      "Loss = 0.6425123810768127 | Steps = 302\n",
      "Loss = 0.623607337474823 | Steps = 397\n",
      "Loss = 0.5701141357421875 | Steps = 490\n",
      "Loss = 0.4183977246284485 | Steps = 586\n",
      "Loss = 0.4966594874858856 | Steps = 678\n",
      "Loss = 0.4875529706478119 | Steps = 777\n",
      "Loss = 0.6258119344711304 | Steps = 877\n",
      "Loss = 0.3970840275287628 | Steps = 980\n",
      "Loss = 0.46853935718536377 | Steps = 1077\n",
      "Loss = 0.44663938879966736 | Steps = 1179\n",
      "Loss = 0.2534307539463043 | Steps = 1285\n",
      "Loss = 0.3672373294830322 | Steps = 1390\n",
      "Loss = 0.3139341473579407 | Steps = 1493\n",
      "Loss = 0.45155611634254456 | Steps = 1594\n",
      "Loss = 0.42277291417121887 | Steps = 1695\n",
      "Loss = 0.33315005898475647 | Steps = 1801\n",
      "Loss = 0.42628541588783264 | Steps = 1904\n",
      "Loss = 0.24865266680717468 | Steps = 2003\n",
      "Loss = 0.41429194808006287 | Steps = 2106\n",
      "Loss = 0.4365229904651642 | Steps = 2211\n",
      "Loss = 0.3757643699645996 | Steps = 2313\n",
      "Loss = 0.27186667919158936 | Steps = 2417\n",
      "Loss = 0.5605866312980652 | Steps = 2519\n",
      "Loss = 0.4893239140510559 | Steps = 2621\n",
      "Loss = 0.3701498508453369 | Steps = 2722\n",
      "Loss = 0.34675365686416626 | Steps = 2823\n",
      "Loss = 0.4288487732410431 | Steps = 2924\n",
      "Loss = 0.3997861444950104 | Steps = 3024\n",
      "Loss = 0.584443211555481 | Steps = 3124\n",
      "Loss = 0.4623185694217682 | Steps = 3223\n",
      "Loss = 0.4494308531284332 | Steps = 3322\n",
      "Loss = 0.6313366889953613 | Steps = 3420\n",
      "Loss = 0.3110223710536957 | Steps = 3519\n",
      "Loss = 0.14692196249961853 | Steps = 3619\n",
      "Loss = 0.5705291032791138 | Steps = 3721\n",
      "Loss = 0.9003158211708069 | Steps = 3817\n",
      "Loss = 0.22758546471595764 | Steps = 3917\n",
      "Loss = 0.45950958132743835 | Steps = 4017\n",
      "Loss = 0.3607769012451172 | Steps = 4118\n",
      "Loss = 0.33421972393989563 | Steps = 4220\n",
      "None\n"
     ]
    }
   ],
   "source": [
    "result = loop.run(num_episodes=1000)\n",
    "print(result)"
   ]
  },
  {
   "cell_type": "code",
   "execution_count": 86,
   "id": "dcfe8702",
   "metadata": {
    "ExecuteTime": {
     "end_time": "2021-05-26T20:41:40.206038Z",
     "start_time": "2021-05-26T20:41:40.192030Z"
    }
   },
   "outputs": [
    {
     "name": "stdout",
     "output_type": "stream",
     "text": [
      "{'action': TensorSpec(shape=(), dtype=tf.int32, name='action'),\n",
      " 'discount': TensorSpec(shape=(), dtype=tf.float32, name='discount'),\n",
      " 'extras': (),\n",
      " 'next_observation': {'legal_actions': TensorSpec(shape=(3,), dtype=tf.float32, name='next_observation/legal_actions'),\n",
      "                      'observation': TensorSpec(shape=(25,), dtype=tf.float32, name='next_observation/observation'),\n",
      "                      'terminal': TensorSpec(shape=(1,), dtype=tf.float32, name='next_observation/terminal')},\n",
      " 'observation': {'legal_actions': TensorSpec(shape=(3,), dtype=tf.float32, name='observation/legal_actions'),\n",
      "                 'observation': TensorSpec(shape=(25,), dtype=tf.float32, name='observation/observation'),\n",
      "                 'terminal': TensorSpec(shape=(1,), dtype=tf.float32, name='observation/terminal')},\n",
      " 'reward': TensorSpec(shape=(), dtype=tf.float32, name='reward')}\n"
     ]
    }
   ],
   "source": [
    "# replay signature\n",
    "sig = reverb_replay.adder.signature(env_spec)\n",
    "def recursive_as_dict(x):\n",
    "    if hasattr(x, '_asdict'):\n",
    "        x = x._asdict()\n",
    "        return {k: recursive_as_dict(v) for k, v in x.items()}\n",
    "    else:\n",
    "        return x\n",
    "pprint(recursive_as_dict(sig))"
   ]
  },
  {
   "cell_type": "code",
   "execution_count": 23,
   "id": "13e56879",
   "metadata": {
    "ExecuteTime": {
     "end_time": "2021-05-26T22:56:10.384120Z",
     "start_time": "2021-05-26T22:56:08.658963Z"
    },
    "scrolled": false
   },
   "outputs": [],
   "source": [
    "from sacred import Experiment\n",
    "from sacred.observers import MongoObserver\n",
    "\n",
    "ex = Experiment('jupyter_ex', interactive=True)\n",
    "ex.observers.append(MongoObserver())\n",
    "\n",
    "@ex.config\n",
    "def my_config():\n",
    "    recipient = \"world\"\n",
    "    message = \"Hello %s!\" % recipient\n",
    "\n",
    "@ex.main\n",
    "def my_main(message):\n",
    "    print(message)"
   ]
  },
  {
   "cell_type": "code",
   "execution_count": 25,
   "id": "ce670740",
   "metadata": {
    "ExecuteTime": {
     "end_time": "2021-05-26T22:56:21.410529Z",
     "start_time": "2021-05-26T22:56:21.402157Z"
    }
   },
   "outputs": [
    {
     "name": "stdout",
     "output_type": "stream",
     "text": [
      "hello\n"
     ]
    }
   ],
   "source": []
  },
  {
   "cell_type": "code",
   "execution_count": null,
   "id": "b8e9555e",
   "metadata": {},
   "outputs": [],
   "source": [
    "\n",
    "\n",
    "\n",
    "\n",
    "\n",
    "\n",
    "\n",
    "\n",
    "\n",
    "\n",
    "\n",
    "\n",
    "\n",
    "\n",
    "\n",
    "\n",
    "\n",
    "\n",
    "\n",
    "\n",
    "\n",
    "\n",
    "\n",
    "\n",
    "\n",
    "\n",
    "\n",
    "\n",
    "\n",
    "\n",
    "\n",
    "\n",
    "\n",
    "\n",
    "\n",
    "\n"
   ]
  }
 ],
 "metadata": {
  "kernelspec": {
   "display_name": "Python 3",
   "language": "python",
   "name": "python3"
  },
  "language_info": {
   "codemirror_mode": {
    "name": "ipython",
    "version": 3
   },
   "file_extension": ".py",
   "mimetype": "text/x-python",
   "name": "python",
   "nbconvert_exporter": "python",
   "pygments_lexer": "ipython3",
   "version": "3.8.5"
  }
 },
 "nbformat": 4,
 "nbformat_minor": 5
}
